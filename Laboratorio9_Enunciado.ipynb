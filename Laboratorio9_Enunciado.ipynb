{
 "cells": [
  {
   "cell_type": "markdown",
   "metadata": {
    "cell_id": "00000-e61b8f99-434b-4848-a553-4bbae63045cc",
    "deepnote_cell_height": 156.390625,
    "deepnote_cell_type": "markdown",
    "id": "XUZ1dFPHzAHl"
   },
   "source": [
    "<h1><center>Laboratorio 9: Benchmark Estadístico con Reddit 🧮</center></h1>\n",
    "\n",
    "<center><strong>MDS7202: Laboratorio de Programación Científica para Ciencia de Datos</strong></center>"
   ]
  },
  {
   "cell_type": "markdown",
   "metadata": {
    "cell_id": "00001-231091e0-d755-42af-83b0-809301b54cfe",
    "deepnote_cell_height": 165.1875,
    "deepnote_cell_type": "markdown",
    "id": "UD8X1uhGzAHq"
   },
   "source": [
    "### Cuerpo Docente:\n",
    "\n",
    "- Profesor: Pablo Badilla\n",
    "- Auxiliar: Ignacio Meza D.\n",
    "- Ayudante: Patricio Ortiz"
   ]
  },
  {
   "cell_type": "markdown",
   "metadata": {
    "cell_id": "00002-65747a66-3e34-4df6-9e4a-c63f6d47f1f1",
    "deepnote_cell_height": 171.796875,
    "deepnote_cell_type": "markdown",
    "id": "tXflExjqzAHr"
   },
   "source": [
    "### Equipo: SUPER IMPORTANTE - notebooks sin nombre no serán revisados\n",
    "\n",
    "- Nombre de alumno 1: Nicolás Gatica\n",
    "- Nombre de alumno 2: Cristóbal Igor\n"
   ]
  },
  {
   "cell_type": "markdown",
   "metadata": {
    "cell_id": "00003-f842b0e0-851a-405c-a104-53fa53260fa5",
    "deepnote_cell_height": 62,
    "deepnote_cell_type": "markdown",
    "id": "AD-V0bbZzAHr"
   },
   "source": [
    "### **Link de repositorio de GitHub:** `https://github.com/ngatica/LaboratoriosMDS`"
   ]
  },
  {
   "cell_type": "markdown",
   "metadata": {
    "cell_id": "00004-d2b77039-39dd-4985-bec7-914bd5a67d98",
    "deepnote_cell_height": 669,
    "deepnote_cell_type": "markdown",
    "id": "6uBLPj1PzAHs"
   },
   "source": [
    "# Temas a tratar\n",
    "\n",
    "- Optimización de Código en Python.\n",
    "- Utilización de librerías para medir el tiempo de ejecución de funciones.\n",
    "- Métodos para optimizar el rendimiento de las funciones.\n",
    "\n",
    "# Reglas:\n",
    "\n",
    "- Fecha de entrega: 3/12/2021\n",
    "- **Grupos de 2 personas**\n",
    "- **Ausentes** deberán realizar la actividad solos. \n",
    "- Cualquier duda fuera del horario de clases al foro. Mensajes al equipo docente serán respondidos por este medio.\n",
    "- Prohibidas las copias. \n",
    "- Pueden usar cualquer matrial del curso que estimen conveniente.\n",
    "\n",
    "# Objetivos principales del laboratorio\n",
    "\n",
    "- Utilizar la API de Reddit a partir de la librería `praw` y visualizar cuales post son más probables que sean puntuados positivamente.\n",
    "- Utilizar `cache_lru` para cachear resultados de funciones.\n",
    "- Aplicar un atajo estadístico para obtener la mean posterior de datos.\n",
    "- Medir el tiempo de ejecución como también el uso de memoria de la función anterior.\n",
    "- Optimizar la función anterior a través de `numba`."
   ]
  },
  {
   "cell_type": "markdown",
   "metadata": {
    "cell_id": "00005-5a5cbaa6-e809-4c62-9709-7e650430b7ba",
    "deepnote_cell_height": 52.390625,
    "deepnote_cell_type": "markdown",
    "id": "MhISwri4zAHy"
   },
   "source": [
    "#Importamos librerias utiles 😸"
   ]
  },
  {
   "cell_type": "code",
   "execution_count": 1,
   "metadata": {
    "cell_id": "00006-375e81a0-63bd-4f61-a2c2-561059d97241",
    "deepnote_cell_height": 168,
    "deepnote_cell_type": "code",
    "deepnote_to_be_reexecuted": false,
    "execution_millis": 214,
    "execution_start": 1638299125300,
    "source_hash": "251d15fd",
    "tags": []
   },
   "outputs": [],
   "source": [
    "%load_ext autoreload\n",
    "%autoreload 2"
   ]
  },
  {
   "cell_type": "code",
   "execution_count": 2,
   "metadata": {
    "cell_id": "00006-00a9ab85-c6e5-4b3d-b6ba-2004ff409a6d",
    "deepnote_cell_height": 432.1875,
    "deepnote_cell_type": "code",
    "deepnote_to_be_reexecuted": false,
    "executionInfo": {
     "elapsed": 10379,
     "status": "ok",
     "timestamp": 1627484630448,
     "user": {
      "displayName": "IGNACIO ALEJANDRO MEZA",
      "photoUrl": "",
      "userId": "17011121633069169364"
     },
     "user_tz": 240
    },
    "execution_millis": 24248,
    "execution_start": 1638299092849,
    "id": "cO7AQ9ciQ59U",
    "source_hash": "1240e4a3"
   },
   "outputs": [],
   "source": [
    "%%capture\n",
    "!pip install praw\n",
    "!pip install line_profiler\n",
    "!pip install numba\n",
    "\n",
    "%load_ext line_profiler\n",
    "%load_ext autoreload\n",
    "%autoreload 2\n",
    "\n",
    "import sys\n",
    "import praw\n",
    "import time\n",
    "import numpy as np\n",
    "import pandas as pd\n",
    "from numba import jit\n",
    "import plotly.express as px\n",
    "from functools import lru_cache\n",
    "from IPython.core.display import Image"
   ]
  },
  {
   "cell_type": "markdown",
   "metadata": {
    "cell_id": "00007-853a08fe-06d7-4051-b347-1e29226924ee",
    "deepnote_cell_height": 82,
    "deepnote_cell_type": "markdown",
    "id": "xpOTbQcxbSiy"
   },
   "source": [
    "# 1. Recomendando Posts de Subreddit"
   ]
  },
  {
   "cell_type": "markdown",
   "metadata": {
    "cell_id": "00008-ca941d35-4377-406f-8b9c-cdf3ce096c64",
    "deepnote_cell_height": 376,
    "deepnote_cell_type": "markdown",
    "id": "3Q93vbNS25bM",
    "owner_user_id": "d50c3174-babb-4861-9c71-7e3af66458b8"
   },
   "source": [
    "<p align=\"center\">\n",
    "  <img src=\"https://preview.redd.it/3sxusxcjge791.png?auto=webp&s=88bc1f9a3c59eafda24b0e32dd87d7cf596d205d\">\n",
    "</p>"
   ]
  },
  {
   "cell_type": "markdown",
   "metadata": {
    "cell_id": "00009-bb6e6ae1-d939-400e-aa39-a9b5cf6fe725",
    "deepnote_cell_height": 245.59375,
    "deepnote_cell_type": "markdown",
    "id": "jnmZfFpxTTYX"
   },
   "source": [
    "Unos intrépidos alumnos del curso, quienes frecuentemente participan en subreddits y foros de reviews, se preguntan lo siguiente: ¿Podremos confiar que un post es bueno, si este tiene solamente 1 o 3 votos positivos?. los compañeros, creen que esto claramente no representa una opinión general, ya que estamos mucho menos seguros acerca de la verdadera proporción de votos a favor de los comentarios con pocos datos. ¿Pero cómo podemos obtener una representación más creíble para este problema?.\n",
    "\n",
    "Lo señalado forma parte de un problema estadísticos, donde a través del cálculo de la posterior se puede conocer que tan probable es que un post sea bueno. Para efectos de este laboratorio, no se exige un conocimiento previo para resolver este problema, simplemente se deberá aplicar las ecuaciones presentadas más adelante (De igual forma si quedan interesados sobre el tema se les invita a tomar el ramo [CC6104](https://github.com/dccuchile/CC6104))."
   ]
  },
  {
   "cell_type": "markdown",
   "metadata": {
    "cell_id": "00010-11ff1022-47d3-4e16-a067-862aff4fa1e6",
    "deepnote_cell_height": 70,
    "deepnote_cell_type": "markdown",
    "id": "xdbrb3AMi6EF"
   },
   "source": [
    "## 1.1 Obtención de Subrredits y Análisis [1 Punto]"
   ]
  },
  {
   "cell_type": "markdown",
   "metadata": {
    "cell_id": "00011-098a5246-642a-47aa-9f10-2261697c2603",
    "deepnote_cell_height": 363.796875,
    "deepnote_cell_type": "markdown",
    "id": "YI-IRspcjPee"
   },
   "source": [
    "Para estudiar que tan probable es que un post sea positivo se comenzará cargando datos reales del subreddit chile desde reddit (si usted desea puede cambiar el subreddit a uno de su gusto). Para esto le proponemos la utilización de la función que aparece mas abajo, la que presenta un usuario ya creado por el equipo docente. Dese un tiempo para entender que hace cada parte de la función, visualizando que se obtiene de estas.\n",
    "\n",
    "Revisada la función, utilice un **perfilador** para monitorear el tiempo y memoria que les toma a cada liena de código para ser ejecutada. Señale cuales son los procesos que mas tiempo consumen en la ejecución del Código, comentando si es posible mejorar el desempeño de la función.\n",
    "\n",
    "**TO-DO:**\n",
    "- [ ] Estudiar la función propuesta por el equipo docente.\n",
    "- [ ] Estudiar los tiempos de ejecución del código a través de un perfilador.\n",
    "- [ ] Estudiar la memoria ocupada por el código a través de un perfilador.\n",
    "- [ ] Comente los resultados. ¿Qué lineas ocupan más memoria o más/menos tiempo?¿Por qué?"
   ]
  },
  {
   "cell_type": "code",
   "execution_count": 3,
   "metadata": {
    "cell_id": "00012-48fd53e5-c751-4583-b193-5f95afab5819",
    "deepnote_cell_height": 675,
    "deepnote_cell_type": "code",
    "deepnote_to_be_reexecuted": false,
    "executionInfo": {
     "elapsed": 7,
     "status": "ok",
     "timestamp": 1627484630449,
     "user": {
      "displayName": "IGNACIO ALEJANDRO MEZA",
      "photoUrl": "",
      "userId": "17011121633069169364"
     },
     "user_tz": 240
    },
    "execution_millis": 1,
    "execution_start": 1637947497504,
    "id": "R4PQbceVPJzh",
    "source_hash": "a55fad36"
   },
   "outputs": [],
   "source": [
    "def praw_reddit(nombre_subreddit=\"chile\", n_hot=1000):\n",
    "    reddit = praw.Reddit(\n",
    "        client_id=\"-w2hyFINxZ8T3g\",\n",
    "        client_secret=\"zGPCI4s3g6Ic6AsRi7vIpP0NoxbFdw\",\n",
    "        password=\"ClasesMDS7202\",\n",
    "        user_agent=\"Clases\",\n",
    "        username=\"DocenciaDataScience\",\n",
    "        check_for_async=False,\n",
    "    )\n",
    "    subreddit = reddit.subreddit(nombre_subreddit)\n",
    "\n",
    "    votes, post, url = {}, {}, {}\n",
    "    top_submissions = list(subreddit.hot(limit=n_hot))\n",
    "    for it, top_n in enumerate(range(50, len(top_submissions), 50)):\n",
    "        top_n_submissions = top_submissions[:top_n]\n",
    "        upvotes, downvotes, url[it], post[it] = [], [], [], []\n",
    "\n",
    "        for submission in top_n_submissions:\n",
    "            try:\n",
    "                ratio = submission.upvote_ratio\n",
    "                ups = int(\n",
    "                    round((ratio * submission.score) / (2 * ratio - 1))\n",
    "                    if ratio != 0.5\n",
    "                    else round(submission.score / 2)\n",
    "                )\n",
    "                upvotes.append(ups)\n",
    "                downvotes.append(ups - submission.score)\n",
    "                post[it].append(submission.title)\n",
    "                url[it].append(submission.url)\n",
    "            except Exception as e:\n",
    "                continue\n",
    "        votes[it] = np.array([upvotes, downvotes]).T\n",
    "    return votes, post, url\n"
   ]
  },
  {
   "cell_type": "code",
   "execution_count": 4,
   "metadata": {
    "cell_id": "00013-c9f108eb-9054-438f-9360-21669aced1bb",
    "deepnote_cell_height": 81,
    "deepnote_cell_type": "code",
    "deepnote_to_be_reexecuted": false,
    "executionInfo": {
     "elapsed": 14052,
     "status": "ok",
     "timestamp": 1627484649043,
     "user": {
      "displayName": "IGNACIO ALEJANDRO MEZA",
      "photoUrl": "",
      "userId": "17011121633069169364"
     },
     "user_tz": 240
    },
    "execution_millis": 11242,
    "execution_start": 1637947497523,
    "id": "v4rjrWf_pJHJ",
    "source_hash": "4b31fefe"
   },
   "outputs": [],
   "source": [
    "votes, post, url = praw_reddit()"
   ]
  },
  {
   "cell_type": "markdown",
   "metadata": {},
   "source": [
    "### Estudiando los tiempos:"
   ]
  },
  {
   "cell_type": "code",
   "execution_count": 5,
   "metadata": {
    "cell_id": "00014-ab26b98a-d355-4ce3-909a-c76ea78ab2b3",
    "deepnote_cell_height": 84,
    "deepnote_cell_type": "code"
   },
   "outputs": [
    {
     "name": "stdout",
     "output_type": "stream",
     "text": [
      "Timer unit: 1e-07 s\n",
      "\n",
      "Total time: 18.4988 s\n",
      "File: <ipython-input-3-bd47716803a4>\n",
      "Function: praw_reddit at line 1\n",
      "\n",
      "Line #      Hits         Time  Per Hit   % Time  Line Contents\n",
      "==============================================================\n",
      "     1                                           def praw_reddit(nombre_subreddit=\"chile\", n_hot=1000):\n",
      "     2         2       5006.0   2503.0      0.0      reddit = praw.Reddit(\n",
      "     3         1          8.0      8.0      0.0          client_id=\"-w2hyFINxZ8T3g\",\n",
      "     4         1          4.0      4.0      0.0          client_secret=\"zGPCI4s3g6Ic6AsRi7vIpP0NoxbFdw\",\n",
      "     5         1          4.0      4.0      0.0          password=\"ClasesMDS7202\",\n",
      "     6         1          4.0      4.0      0.0          user_agent=\"Clases\",\n",
      "     7         1          4.0      4.0      0.0          username=\"DocenciaDataScience\",\n",
      "     8         1          5.0      5.0      0.0          check_for_async=False,\n",
      "     9                                               )\n",
      "    10         1        178.0    178.0      0.0      subreddit = reddit.subreddit(nombre_subreddit)\n",
      "    11                                           \n",
      "    12         1          7.0      7.0      0.0      votes, post, url = {}, {}, {}\n",
      "    13         1  184344819.0 184344819.0     99.7      top_submissions = list(subreddit.hot(limit=n_hot))\n",
      "    14        19        286.0     15.1      0.0      for it, top_n in enumerate(range(50, len(top_submissions), 50)):\n",
      "    15        18       1118.0     62.1      0.0          top_n_submissions = top_submissions[:top_n]\n",
      "    16        18        899.0     49.9      0.0          upvotes, downvotes, url[it], post[it] = [], [], [], []\n",
      "    17                                           \n",
      "    18      8568      46562.0      5.4      0.0          for submission in top_n_submissions:\n",
      "    19      8550      42574.0      5.0      0.0              try:\n",
      "    20      8550      68410.0      8.0      0.0                  ratio = submission.upvote_ratio\n",
      "    21     17100      96502.0      5.6      0.1                  ups = int(\n",
      "    22                                                               round((ratio * submission.score) / (2 * ratio - 1))\n",
      "    23      8550      99666.0     11.7      0.1                      if ratio != 0.5\n",
      "    24       179       2301.0     12.9      0.0                      else round(submission.score / 2)\n",
      "    25                                                           )\n",
      "    26      8550      55156.0      6.5      0.0                  upvotes.append(ups)\n",
      "    27      8550      61096.0      7.1      0.0                  downvotes.append(ups - submission.score)\n",
      "    28      8550      73279.0      8.6      0.0                  post[it].append(submission.title)\n",
      "    29      8550      75569.0      8.8      0.0                  url[it].append(submission.url)\n",
      "    30                                                       except Exception as e:\n",
      "    31                                                           continue\n",
      "    32        18      14268.0    792.7      0.0          votes[it] = np.array([upvotes, downvotes]).T\n",
      "    33         1          8.0      8.0      0.0      return votes, post, url"
     ]
    }
   ],
   "source": [
    "%lprun -f praw_reddit praw_reddit()"
   ]
  },
  {
   "cell_type": "markdown",
   "metadata": {},
   "source": [
    "### Estudiando memoria"
   ]
  },
  {
   "cell_type": "code",
   "execution_count": 6,
   "metadata": {
    "collapsed": true,
    "jupyter": {
     "outputs_hidden": true
    },
    "tags": []
   },
   "outputs": [],
   "source": [
    "!pip install -q memory_profiler\n",
    "%load_ext memory_profiler"
   ]
  },
  {
   "cell_type": "code",
   "execution_count": 7,
   "metadata": {
    "tags": []
   },
   "outputs": [
    {
     "name": "stdout",
     "output_type": "stream",
     "text": [
      "peak memory: 197.81 MiB, increment: 5.57 MiB\n"
     ]
    }
   ],
   "source": [
    "%memit praw_reddit()"
   ]
  },
  {
   "cell_type": "markdown",
   "metadata": {
    "jupyter": {
     "source_hidden": true
    },
    "tags": []
   },
   "source": [
    "Creando modulo:"
   ]
  },
  {
   "cell_type": "code",
   "execution_count": 8,
   "metadata": {
    "collapsed": true,
    "jupyter": {
     "outputs_hidden": true,
     "source_hidden": true
    },
    "tags": []
   },
   "outputs": [
    {
     "name": "stdout",
     "output_type": "stream",
     "text": [
      "Overwriting praw_reddit_module.py\n"
     ]
    }
   ],
   "source": [
    "%%file praw_reddit_module.py\n",
    "import praw\n",
    "import numpy as np\n",
    "\n",
    "def praw_reddit(nombre_subreddit=\"chile\", n_hot=1000):\n",
    "    reddit = praw.Reddit(\n",
    "        client_id=\"-w2hyFINxZ8T3g\",\n",
    "        client_secret=\"zGPCI4s3g6Ic6AsRi7vIpP0NoxbFdw\",\n",
    "        password=\"ClasesMDS7202\",\n",
    "        user_agent=\"Clases\",\n",
    "        username=\"DocenciaDataScience\",\n",
    "        check_for_async=False,\n",
    "    )\n",
    "    subreddit = reddit.subreddit(nombre_subreddit)\n",
    "\n",
    "    votes, post, url = {}, {}, {}\n",
    "    top_submissions = list(subreddit.hot(limit=n_hot))\n",
    "    for it, top_n in enumerate(range(50, len(top_submissions), 50)):\n",
    "        top_n_submissions = top_submissions[:top_n]\n",
    "        upvotes, downvotes, url[it], post[it] = [], [], [], []\n",
    "\n",
    "        for submission in top_n_submissions:\n",
    "            try:\n",
    "                ratio = submission.upvote_ratio\n",
    "                ups = int(\n",
    "                    round((ratio * submission.score) / (2 * ratio - 1))\n",
    "                    if ratio != 0.5\n",
    "                    else round(submission.score / 2)\n",
    "                )\n",
    "                upvotes.append(ups)\n",
    "                downvotes.append(ups - submission.score)\n",
    "                post[it].append(submission.title)\n",
    "                url[it].append(submission.url)\n",
    "            except Exception as e:\n",
    "                continue\n",
    "        votes[it] = np.array([upvotes, downvotes]).T\n",
    "    return votes, post, url"
   ]
  },
  {
   "cell_type": "code",
   "execution_count": 9,
   "metadata": {},
   "outputs": [
    {
     "name": "stdout",
     "output_type": "stream",
     "text": [
      "\n"
     ]
    },
    {
     "name": "stdout",
     "output_type": "stream",
     "text": [
      "Filename: c:\\Users\\ngati\\Downloads\\praw_reddit_module.py\n",
      "\n",
      "Line #    Mem usage    Increment  Occurrences   Line Contents\n",
      "=============================================================\n",
      "     4    194.1 MiB    194.1 MiB           1   def praw_reddit(nombre_subreddit=\"chile\", n_hot=1000):\n",
      "     5    194.1 MiB      0.0 MiB           2       reddit = praw.Reddit(\n",
      "     6    194.1 MiB      0.0 MiB           1           client_id=\"-w2hyFINxZ8T3g\",\n",
      "     7    194.1 MiB      0.0 MiB           1           client_secret=\"zGPCI4s3g6Ic6AsRi7vIpP0NoxbFdw\",\n",
      "     8    194.1 MiB      0.0 MiB           1           password=\"ClasesMDS7202\",\n",
      "     9    194.1 MiB      0.0 MiB           1           user_agent=\"Clases\",\n",
      "    10    194.1 MiB      0.0 MiB           1           username=\"DocenciaDataScience\",\n",
      "    11    194.1 MiB      0.0 MiB           1           check_for_async=False,\n",
      "    12                                             )\n",
      "    13    194.1 MiB      0.0 MiB           1       subreddit = reddit.subreddit(nombre_subreddit)\n",
      "    14                                         \n",
      "    15    194.1 MiB      0.0 MiB           1       votes, post, url = {}, {}, {}\n",
      "    16    200.1 MiB      5.9 MiB           1       top_submissions = list(subreddit.hot(limit=n_hot))\n",
      "    17    200.1 MiB      0.0 MiB          19       for it, top_n in enumerate(range(50, len(top_submissions), 50)):\n",
      "    18    200.1 MiB      0.0 MiB          18           top_n_submissions = top_submissions[:top_n]\n",
      "    19    200.1 MiB      0.0 MiB          18           upvotes, downvotes, url[it], post[it] = [], [], [], []\n",
      "    20                                         \n",
      "    21    200.1 MiB      0.0 MiB        8568           for submission in top_n_submissions:\n",
      "    22    200.1 MiB      0.0 MiB        8550               try:\n",
      "    23    200.1 MiB      0.0 MiB        8550                   ratio = submission.upvote_ratio\n",
      "    24    200.1 MiB      0.0 MiB       17100                   ups = int(\n",
      "    25                                                             round((ratio * submission.score) / (2 * ratio - 1))\n",
      "    26    200.1 MiB      0.0 MiB        8550                       if ratio != 0.5\n",
      "    27    200.1 MiB      0.0 MiB         200                       else round(submission.score / 2)\n",
      "    28                                                         )\n",
      "    29    200.1 MiB      0.0 MiB        8550                   upvotes.append(ups)\n",
      "    30    200.1 MiB      0.0 MiB        8550                   downvotes.append(ups - submission.score)\n",
      "    31    200.1 MiB      0.0 MiB        8550                   post[it].append(submission.title)\n",
      "    32    200.1 MiB      0.0 MiB        8550                   url[it].append(submission.url)\n",
      "    33                                                     except Exception as e:\n",
      "    34                                                         continue\n",
      "    35    200.1 MiB      0.0 MiB          18           votes[it] = np.array([upvotes, downvotes]).T\n",
      "    36    200.1 MiB      0.0 MiB           1       return votes, post, url"
     ]
    }
   ],
   "source": [
    "from praw_reddit_module import praw_reddit\n",
    "%mprun -f praw_reddit praw_reddit()"
   ]
  },
  {
   "cell_type": "markdown",
   "metadata": {
    "cell_id": "00015-ba1d4036-9f0c-49c7-885f-be416a89deb8",
    "deepnote_cell_height": 52.390625,
    "deepnote_cell_type": "markdown",
    "id": "-diI_GpXmzqS"
   },
   "source": [
    "**Respuesta:**"
   ]
  },
  {
   "cell_type": "markdown",
   "metadata": {
    "cell_id": "00016-64888967-a91d-455b-9d60-d105f449ae74",
    "deepnote_cell_height": 52.390625,
    "deepnote_cell_type": "markdown",
    "id": "6gdqQBi1m_cu"
   },
   "source": [
    "```Señale cuales son los procesos que mas tiempo consumen en la ejecución del Código, comentando si es posible mejorar el desempeño de la función.```\n",
    "\n",
    "En cuanto a los tiempos de la función, el primer proceso que más tarda en la ejecución del código corresponde a la obtención y creación de la lista de los n_hot posts en el subreddit de Chile, lo cual puede ser mejorado si es que existe alguna forma de convertir a lista las submisiones de forma más eficiente (dependerá de la librería) o guardar esta misma en la memoria cache.\n",
    "\n",
    "Luego, lo segundo que más tarda, es al momento de trabajar con las submisiones en un doble ciclo de for's, sobre todo al ejecutar el segundo for que calcula la cantidad de upvotes de cada submisión (la forma de calcular upvotes es lo que más tarda dada la utilización de if else). Es este doble for lo que se puede mejorar tratando de aplicar las operaciones de forma paralela para todos los valores al aprovechar las transformaciones que se pueden realizar a un array.\n",
    "\n",
    "```Comente los resultados. ¿Qué lineas ocupan más memoria o más/menos tiempo?¿Por qué?```\n",
    "\n",
    "En cuanto a la memoria, se puede observar un uso de memoria en torno a 230 MB, en dónde la mayor parte esta asociada a la ejecución completa de la función, teniendo sólamente un incremento de 9MB en la creación de la lista de los n_hot posts en el subreddit de Chile, que tambien corresponde a lo que toma más tiempo dentro de la función, por lo que el principal objetivo sería tratar esta línea de ejecución."
   ]
  },
  {
   "cell_type": "markdown",
   "metadata": {
    "cell_id": "00017-2673822e-79de-4fbe-86af-5fd583216f57",
    "deepnote_cell_height": 70,
    "deepnote_cell_type": "markdown",
    "id": "tNDS2OpFnMnH"
   },
   "source": [
    "## 1.2 LRU y Análisis de Tiempo con Cache [1 Punto]"
   ]
  },
  {
   "cell_type": "markdown",
   "metadata": {
    "cell_id": "00018-d9701b8d-f3fe-4cd1-9f59-295dfdaeca48",
    "deepnote_cell_height": 380.796875,
    "deepnote_cell_type": "markdown",
    "id": "i3nsxCbAna4t"
   },
   "source": [
    "Respondan las siguientes preguntas:\n",
    "\n",
    "1.\t¿Qué es la memoria cache y a que se refiere las siglas LRU?\n",
    "2.\t¿Cuáles son los costos que tiene la aplicación de técnicas de Caching?\n",
    "3. ¿Cuál es la consecuencía de ocupar caching en la función anterior?.\n",
    "\n",
    "Respondidas las preguntas, se le solicita que aplique alguna técnica de caching para mejorar el desempeño de la función `praw_reddit`. Para esto compare solo el tiempo de ejecución del algoritmo con y sin caching, señalando el tiempo total de ejecución y el tiempo promedio que le toma ejecutar cada loop a la función. Con lo anterior, ¿es posible visualizar mejoras en este caso?.\n",
    "\n",
    "\n",
    "**TO-DO:**\n",
    "- [ ] Responder las preguntas.\n",
    "- [ ] Mejorar el código con cache.\n",
    "- [ ] Explicar las consecuencias de usar lru_cache sobre praw_reddit"
   ]
  },
  {
   "cell_type": "markdown",
   "metadata": {
    "cell_id": "00019-26287e8f-b23a-4e51-9645-b9fb99a93eea",
    "deepnote_cell_height": 52.390625,
    "deepnote_cell_type": "markdown",
    "id": "fbQPpvYorOAF"
   },
   "source": [
    "**Respuestas Teóricas:**"
   ]
  },
  {
   "cell_type": "markdown",
   "metadata": {
    "cell_id": "00020-9507e876-349d-4beb-94e8-c7adc0bbc210",
    "deepnote_cell_height": 52.390625,
    "deepnote_cell_type": "markdown",
    "id": "RKfLXDs_rO-w"
   },
   "source": [
    "`Escriba su respuesta aquí`\n",
    "1.\t¿Qué es la memoria cache y a que se refiere las siglas LRU?\n",
    "R: La memoria cache es una memoria que permite almacenar en el disco o en la RAM aquellos resultados de procesos previos con la finalidad de ser utilizados más adelante. Las siglas LRU hacen referencia a la oración en inglés Least Recently Used, y esto se refiere principalmente al orden de ejecución en el cual se almacenarán los procesos en la memoria cache.\n",
    "2.\t¿Cuáles son los costos que tiene la aplicación de técnicas de Caching?\n",
    "R: Los costos que tiene la aplicación de técnicas de Caching vienen principalmente relacionadas al aumento en el uso de la memoria. Esto puede conllevar problemas debido a que la memoria cuenta con ciertas limitaciones dadas por las especificaciones de cada equipo.\n",
    "3.\t¿Cuál es la consecuencía de ocupar caching en la función anterior?.\n",
    "R: Dentro de la función anterior el uso de memoria se encontraba cerca de los 230 MB y el uso de técnicas de caching aumentaría el uso en memoria."
   ]
  },
  {
   "cell_type": "code",
   "execution_count": 19,
   "metadata": {
    "cell_id": "00021-ed8c6162-10ed-414a-a7c0-e5eed7d2715e",
    "deepnote_cell_height": 66,
    "deepnote_cell_type": "code",
    "id": "X0u4WU11rLJd"
   },
   "outputs": [],
   "source": [
    "###### Código Aquí ######\n",
    "def praw_reddit(nombre_subreddit=\"chile\", n_hot=1000):\n",
    "    reddit = praw.Reddit(\n",
    "        client_id=\"-w2hyFINxZ8T3g\",\n",
    "        client_secret=\"zGPCI4s3g6Ic6AsRi7vIpP0NoxbFdw\",\n",
    "        password=\"ClasesMDS7202\",\n",
    "        user_agent=\"Clases\",\n",
    "        username=\"DocenciaDataScience\",\n",
    "        check_for_async=False,\n",
    "    )\n",
    "        \n",
    "    subreddit  = reddit.subreddit(nombre_subreddit)\n",
    "\n",
    "    votes, post, url = {}, {}, {}\n",
    "    top_submissions = list(subreddit.hot(limit = n_hot))\n",
    "    for it, top_n in enumerate(range(50, len(top_submissions),50)):\n",
    "        top_n_submissions = top_submissions[:top_n]\n",
    "        \n",
    "    upvotes, downvotes, url[it], post[it] = [], [], [], []\n",
    "\n",
    "    for submission in top_n_submissions:\n",
    "        try:\n",
    "            ratio = submission.upvote_ratio\n",
    "            ups = int(round((ratio*submission.score)/(2*ratio - 1)) if ratio != 0.5 else round(submission.score/2))\n",
    "            upvotes.append(ups)\n",
    "            downvotes.append(ups - submission.score)\n",
    "            post[it].append(submission.title)\n",
    "            url[it].append(submission.url)\n",
    "        except Exception as e:\n",
    "            continue\n",
    "    votes[it] = np.array([upvotes, downvotes]).T\n",
    "    return votes, post, url"
   ]
  },
  {
   "cell_type": "code",
   "execution_count": 11,
   "metadata": {},
   "outputs": [
    {
     "name": "stdout",
     "output_type": "stream",
     "text": [
      "18.1 s ± 267 ms per loop (mean ± std. dev. of 7 runs, 1 loop each)\n"
     ]
    }
   ],
   "source": [
    "%%timeit\n",
    "praw_reddit()"
   ]
  },
  {
   "cell_type": "code",
   "execution_count": 12,
   "metadata": {},
   "outputs": [],
   "source": [
    "@lru_cache\n",
    "def praw_reddit(nombre_subreddit=\"chile\", n_hot=1000):\n",
    "    reddit = praw.Reddit(\n",
    "        client_id=\"-w2hyFINxZ8T3g\",\n",
    "        client_secret=\"zGPCI4s3g6Ic6AsRi7vIpP0NoxbFdw\",\n",
    "        password=\"ClasesMDS7202\",\n",
    "        user_agent=\"Clases\",\n",
    "        username=\"DocenciaDataScience\",\n",
    "        check_for_async=False,\n",
    "    )\n",
    "        \n",
    "    subreddit  = reddit.subreddit(nombre_subreddit)\n",
    "\n",
    "    votes, post, url = {}, {}, {}\n",
    "    top_submissions = list(subreddit.hot(limit = n_hot))\n",
    "    for it, top_n in enumerate(range(50, len(top_submissions),50)):\n",
    "        top_n_submissions = top_submissions[:top_n]\n",
    "        \n",
    "    upvotes, downvotes, url[it], post[it] = [], [], [], []\n",
    "\n",
    "    for submission in top_n_submissions:\n",
    "        try:\n",
    "            ratio = submission.upvote_ratio\n",
    "            ups = int(round((ratio*submission.score)/(2*ratio - 1)) if ratio != 0.5 else round(submission.score/2))\n",
    "            upvotes.append(ups)\n",
    "            downvotes.append(ups - submission.score)\n",
    "            post[it].append(submission.title)\n",
    "            url[it].append(submission.url)\n",
    "        except Exception as e:\n",
    "            continue\n",
    "    votes[it] = np.array([upvotes, downvotes]).T\n",
    "    return votes, post, url"
   ]
  },
  {
   "cell_type": "code",
   "execution_count": 15,
   "metadata": {},
   "outputs": [
    {
     "name": "stdout",
     "output_type": "stream",
     "text": [
      "Timer unit: 1e-07 s"
     ]
    }
   ],
   "source": [
    "%lprun -f praw_reddit praw_reddit()"
   ]
  },
  {
   "cell_type": "code",
   "execution_count": 37,
   "metadata": {},
   "outputs": [
    {
     "name": "stdout",
     "output_type": "stream",
     "text": [
      "The slowest run took 6.50 times longer than the fastest. This could mean that an intermediate result is being cached.\n",
      "443 ns ± 354 ns per loop (mean ± std. dev. of 7 runs, 1 loop each)\n"
     ]
    }
   ],
   "source": [
    "%%timeit\n",
    "praw_reddit()"
   ]
  },
  {
   "cell_type": "markdown",
   "metadata": {
    "cell_id": "00022-f295ab8f-b06d-4171-90b7-73dabfe0598d",
    "deepnote_cell_height": 52.390625,
    "deepnote_cell_type": "markdown"
   },
   "source": [
    "**Respuesta de lru_cache sobre praw_reddit**"
   ]
  },
  {
   "cell_type": "markdown",
   "metadata": {
    "cell_id": "00023-56264983-6b36-48c6-a43c-19d19702f8f4",
    "deepnote_cell_height": 52.390625,
    "deepnote_cell_type": "markdown"
   },
   "source": [
    "`Como se ve, al utilizar LRU cache se baja el tiempo de ejecución de segundos a menos de un segundo,esto es debido a que este decorador permite memorizar las submisiones con las que se trabajan y que era lo que más tardaba en un inicio.`"
   ]
  },
  {
   "cell_type": "markdown",
   "metadata": {
    "cell_id": "00024-87380659-431c-4ae7-9d12-6647f21ca9ff",
    "deepnote_cell_height": 542.5625,
    "deepnote_cell_type": "markdown",
    "id": "2pS26u-trdg6"
   },
   "source": [
    "## 1.3 Obtención de Mean Posterior y Standard Error [1 Punto]\n",
    "\n",
    "Una forma de obtener la mean posterior y el Standard Error de los datos de reddit es aplicando un atajo de inferencia estadística. Este atajo se define de la siguiente forma:\n",
    "\n",
    "Sea **u** los votos positivos y **d** los votos negativos del subreddit, tendremos que:\n",
    "\n",
    "$$a = 1+u$$\n",
    "\n",
    "$$b = 1+d$$\n",
    "\n",
    "$$\\sigma= 1.65\\sqrt(\\dfrac{ab}{(a + b)^2(a + b + 1)})$$\n",
    "\n",
    "$$\\mu = \\dfrac{a}{a+b}$$\n",
    "\n",
    "Donde $\\mu$ es la mean posterior y $\\sigma$ el standard error.\n",
    "\n",
    "Con lo anterior, genere dos funciones que tengan como salida $\\mu$ y $\\sigma$ de acuerdo a las ecuaciones señaladas. La primera función, deberá ser construida sin el uso de numpy, aplicando for y aplicando comandos nativos de Python. Por otro lado, deberá generar una segunda función con el uso exclusivo de numpy. **OJO** que las funciones deben tener como entrada solo un elemento del diccionario votes (por ejemplo `votes[1]`), por lo que estas no deben tener como entrada el conjunto completo de datos."
   ]
  },
  {
   "cell_type": "code",
   "execution_count": 39,
   "metadata": {
    "cell_id": "00025-f63243e1-47cb-4c2c-be14-9c38dcbd24bb",
    "deepnote_cell_height": 81,
    "deepnote_cell_type": "code",
    "deepnote_to_be_reexecuted": false,
    "executionInfo": {
     "elapsed": 317,
     "status": "ok",
     "timestamp": 1627484660287,
     "user": {
      "displayName": "IGNACIO ALEJANDRO MEZA",
      "photoUrl": "",
      "userId": "17011121633069169364"
     },
     "user_tz": 240
    },
    "execution_millis": 15,
    "execution_start": 1637947536256,
    "id": "ahzpJ-Sk0DOD",
    "source_hash": "b9b21217"
   },
   "outputs": [],
   "source": [
    "###### Código Aquí ######\n",
    "import math \n",
    "def intervalos(u, d):\n",
    "    sum_u = 0\n",
    "    sum_d = 0\n",
    "    for i in range(len(u)):\n",
    "        sum_u += u[i]\n",
    "        sum_d += d[i]\n",
    "    a = int(1+sum_u)\n",
    "    b = int(1+sum_d)\n",
    "    sigma = 1.65 * math.sqrt(a*b/(((a+b)**2)*(a+b+1)))\n",
    "    mu = a/(a+b)\n",
    "    return mu,sigma\n",
    "    \n",
    "\n",
    "\n",
    "def intervalos_numpy(u, d):\n",
    "    sum_u = np.sum(u)\n",
    "    sum_d = np.sum(d)\n",
    "    a = int(1+sum_u)\n",
    "    b = int(1+sum_d)\n",
    "    sigma = 1.65 * math.sqrt(a*b/(((a+b)**2)*(a+b+1)))\n",
    "    mu = a/(a+b)\n",
    "    return mu,sigma"
   ]
  },
  {
   "cell_type": "code",
   "execution_count": 36,
   "metadata": {},
   "outputs": [],
   "source": [
    "votes_in = votes[1]"
   ]
  },
  {
   "cell_type": "code",
   "execution_count": 31,
   "metadata": {},
   "outputs": [
    {
     "name": "stdout",
     "output_type": "stream",
     "text": [
      "30.2 µs ± 471 ns per loop (mean ± std. dev. of 7 runs, 10000 loops each)\n"
     ]
    }
   ],
   "source": [
    "%timeit intervalos(votes_in[:, 0], votes_in[:, 1])"
   ]
  },
  {
   "cell_type": "code",
   "execution_count": 32,
   "metadata": {},
   "outputs": [
    {
     "name": "stdout",
     "output_type": "stream",
     "text": [
      "8.74 µs ± 33.1 ns per loop (mean ± std. dev. of 7 runs, 100000 loops each)\n"
     ]
    }
   ],
   "source": [
    "%timeit intervalos_numpy(votes_in[:, 0], votes_in[:, 1])"
   ]
  },
  {
   "cell_type": "code",
   "execution_count": 40,
   "metadata": {},
   "outputs": [
    {
     "data": {
      "text/plain": [
       "(0.8995487364620939, 0.004711774719470064)"
      ]
     },
     "execution_count": 40,
     "metadata": {},
     "output_type": "execute_result"
    }
   ],
   "source": [
    "intervalos(votes_in[:, 0], votes_in[:, 1])"
   ]
  },
  {
   "cell_type": "code",
   "execution_count": 41,
   "metadata": {},
   "outputs": [
    {
     "data": {
      "text/plain": [
       "(0.8995487364620939, 0.004711774719470064)"
      ]
     },
     "execution_count": 41,
     "metadata": {},
     "output_type": "execute_result"
    }
   ],
   "source": [
    "intervalos_numpy(votes_in[:, 0], votes_in[:, 1])"
   ]
  },
  {
   "cell_type": "markdown",
   "metadata": {
    "cell_id": "00026-42ed3992-3ac8-4452-b6f1-031bb91fa5e6",
    "deepnote_cell_height": 352,
    "deepnote_cell_type": "markdown",
    "id": "VhHhiTRYwpGu",
    "owner_user_id": "badcc427-fd3d-4615-9296-faa43ec69cfb"
   },
   "source": [
    "## 1.4 Comparación de Rendimiento [2 Puntos]\n",
    "\n",
    "Ahora, aplique el compilador **Numba** sobre las funciones 1.3 y compare el tiempo de ejecución con los obtenidos sin el compilador. \n",
    "\n",
    "Para esto genere un gráfico de linea utilizando plotly, en donde se pueda observar el tiempo que toma ejecutar cada función (el eje y) diferentes cantidades de datos (ejemplo, en el eje x considerar 100, 200, 300, ..., 1000 datos) sobre cada función implementada (series `Python`, `Numpy`, `Python-JIT`, `Numpy-JIT`). ¿Es posible observar diferencias? ¿A qué se debe esto?.\n",
    "\n",
    "**Nota:** Ejecuten las funciones compiladas con algún ejemplo antes de graficar. De lo contrario, les indicará el tiempo de compilación, cosa que no queremos medir\n",
    "\n",
    "**Nota 2**: En el caso que su computador sea muy rápido, se recomienda graficar el eje y (tiempo) como logaritmo usando `log_y=True`.\n"
   ]
  },
  {
   "cell_type": "code",
   "execution_count": 42,
   "metadata": {
    "cell_id": "00027-a686fa21-e957-40c6-8fd1-a6fef560928c",
    "deepnote_cell_height": 66,
    "deepnote_cell_type": "code",
    "executionInfo": {
     "elapsed": 2,
     "status": "ok",
     "timestamp": 1627484661131,
     "user": {
      "displayName": "IGNACIO ALEJANDRO MEZA",
      "photoUrl": "",
      "userId": "17011121633069169364"
     },
     "user_tz": 240
    },
    "id": "b02IokToxPpO"
   },
   "outputs": [],
   "source": [
    "###### Código Aquí ######\n",
    "import math \n",
    "@jit(nopython=True)\n",
    "def intervalos_JIT_py(u, d):\n",
    "    sum_u = 0\n",
    "    sum_d = 0\n",
    "    for i in range(len(u)):\n",
    "        sum_u += u[i]\n",
    "        sum_d += d[i]\n",
    "    a = int(1+sum_u)\n",
    "    b = int(1+sum_d)\n",
    "    sigma = 1.65 * math.sqrt(a*b/(((a+b)**2)*(a+b+1)))\n",
    "    mu = a/(a+b)\n",
    "    return mu,sigma\n",
    "    \n",
    "    \n",
    "@jit(nopython=True)\n",
    "def intervalos_numpy_JIT(u, d):\n",
    "    sum_u = np.sum(u)\n",
    "    sum_d = np.sum(d)\n",
    "    a = int(1+sum_u)\n",
    "    b = int(1+sum_d)\n",
    "    sigma = 1.65 * math.sqrt(a*b/(((a+b)**2)*(a+b+1)))\n",
    "    mu = a/(a+b)\n",
    "    return mu,sigma"
   ]
  },
  {
   "cell_type": "code",
   "execution_count": 43,
   "metadata": {},
   "outputs": [
    {
     "data": {
      "text/plain": [
       "(0.8995487364620939, 0.004711774719470064)"
      ]
     },
     "execution_count": 43,
     "metadata": {},
     "output_type": "execute_result"
    }
   ],
   "source": [
    "intervalos_JIT_py(votes_in[:, 0], votes_in[:, 1])"
   ]
  },
  {
   "cell_type": "code",
   "execution_count": 44,
   "metadata": {},
   "outputs": [
    {
     "data": {
      "text/plain": [
       "(0.8995487364620939, 0.004711774719470064)"
      ]
     },
     "execution_count": 44,
     "metadata": {},
     "output_type": "execute_result"
    }
   ],
   "source": [
    "intervalos_numpy_JIT(votes_in[:, 0], votes_in[:, 1])"
   ]
  },
  {
   "cell_type": "code",
   "execution_count": 45,
   "metadata": {},
   "outputs": [],
   "source": [
    "from timeit import timeit\n",
    "tiempos_py = []\n",
    "tiempos_numpy = []\n",
    "tiempos_JIT_py = []\n",
    "tiempos_numpy_JIT = []\n",
    "for i in range(0, 18, 1):\n",
    "    t_i = timeit(lambda: intervalos(votes[i][:, 0], votes[i][:, 1]), number=1)\n",
    "    tiempos_py.append(t_i)\n",
    "    t_i = timeit(lambda: intervalos_numpy(votes[i][:, 0], votes[i][:, 1]), number=1)\n",
    "    tiempos_numpy.append(t_i)\n",
    "    t_i = timeit(lambda: intervalos_JIT_py(votes[i][:, 0], votes[i][:, 1]), number=1)\n",
    "    tiempos_JIT_py.append(t_i)\n",
    "    t_i = timeit(lambda: intervalos_numpy_JIT(votes[i][:, 0], votes[i][:, 1]), number=1)\n",
    "    tiempos_numpy_JIT.append(t_i)\n"
   ]
  },
  {
   "cell_type": "code",
   "execution_count": 46,
   "metadata": {},
   "outputs": [
    {
     "name": "stdout",
     "output_type": "stream",
     "text": [
      "[3.229999992981902e-05, 3.54000001152599e-05, 4.6300000121846097e-05, 0.00010919999999714491, 7.209999989754579e-05, 8.729999990464421e-05, 9.900000009110954e-05, 0.00011229999995521212, 0.00012440000000424334, 0.0001396999998632964, 0.0001536999998279498, 0.00017070000012608944, 0.00019079999992754892, 0.00020549999999275315, 0.00022209999997357954, 0.00022039999998924031, 0.00023569999984829337, 0.0002488000000084867]\n",
      "[4.889999991064542e-05, 2.029999996011611e-05, 1.720000000204891e-05, 4.2200000052616815e-05, 1.9999999949504854e-05, 1.7900000102599734e-05, 1.629999997021514e-05, 1.5400000165755046e-05, 1.5699999948992627e-05, 1.619999989088683e-05, 2.0600000198101043e-05, 1.9300000076327706e-05, 2.6199999865639256e-05, 1.9099999917671084e-05, 1.889999998638814e-05, 1.8599999975776882e-05, 1.8299999965165625e-05, 1.7799999795897747e-05]\n",
      "[7.599999889862374e-06, 3.400000196052133e-06, 3.1999998100218363e-06, 5.6000001222855644e-06, 3.5000000480067683e-06, 5.200000032345997e-06, 2.9999998787388904e-06, 3.3999999686784577e-06, 3.3999999686784577e-06, 2.9999998787388904e-06, 3.099999958067201e-06, 2.900000026784255e-06, 4.999999873689376e-06, 3.1999998100218363e-06, 3.1000001854408765e-06, 2.9999998787388904e-06, 3.2000000373955118e-06, 2.900000026784255e-06]\n",
      "[3.7999998312443495e-06, 2.900000026784255e-06, 6.799999937356915e-06, 4.1000000692292815e-06, 2.8999997994105797e-06, 3.099999958067201e-06, 2.6000000161729986e-06, 2.7000000955013093e-06, 2.6000000161729986e-06, 2.7000000955013093e-06, 2.699999868127634e-06, 2.7999999474559445e-06, 2.9999998787388904e-06, 2.900000026784255e-06, 2.80000017482962e-06, 2.6000000161729986e-06, 2.7999999474559445e-06, 2.7000000955013093e-06]\n"
     ]
    }
   ],
   "source": [
    "print(tiempos_py)\n",
    "print(tiempos_numpy)\n",
    "print(tiempos_JIT_py)\n",
    "print(tiempos_numpy_JIT)"
   ]
  },
  {
   "cell_type": "code",
   "execution_count": 47,
   "metadata": {},
   "outputs": [],
   "source": [
    "x = list(range(50, 901, 50))"
   ]
  },
  {
   "cell_type": "code",
   "execution_count": 48,
   "metadata": {},
   "outputs": [
    {
     "data": {
      "text/html": [
       "<div>\n",
       "<style scoped>\n",
       "    .dataframe tbody tr th:only-of-type {\n",
       "        vertical-align: middle;\n",
       "    }\n",
       "\n",
       "    .dataframe tbody tr th {\n",
       "        vertical-align: top;\n",
       "    }\n",
       "\n",
       "    .dataframe thead th {\n",
       "        text-align: right;\n",
       "    }\n",
       "</style>\n",
       "<table border=\"1\" class=\"dataframe\">\n",
       "  <thead>\n",
       "    <tr style=\"text-align: right;\">\n",
       "      <th></th>\n",
       "      <th>Datos</th>\n",
       "      <th>Tiempos_py</th>\n",
       "      <th>Tiempos_numpy</th>\n",
       "      <th>Tiempos_JIT_py</th>\n",
       "      <th>Tiempos_numpy_JIT</th>\n",
       "    </tr>\n",
       "  </thead>\n",
       "  <tbody>\n",
       "    <tr>\n",
       "      <th>0</th>\n",
       "      <td>50</td>\n",
       "      <td>0.000032</td>\n",
       "      <td>0.000049</td>\n",
       "      <td>0.000008</td>\n",
       "      <td>0.000004</td>\n",
       "    </tr>\n",
       "    <tr>\n",
       "      <th>1</th>\n",
       "      <td>100</td>\n",
       "      <td>0.000035</td>\n",
       "      <td>0.000020</td>\n",
       "      <td>0.000003</td>\n",
       "      <td>0.000003</td>\n",
       "    </tr>\n",
       "    <tr>\n",
       "      <th>2</th>\n",
       "      <td>150</td>\n",
       "      <td>0.000046</td>\n",
       "      <td>0.000017</td>\n",
       "      <td>0.000003</td>\n",
       "      <td>0.000007</td>\n",
       "    </tr>\n",
       "    <tr>\n",
       "      <th>3</th>\n",
       "      <td>200</td>\n",
       "      <td>0.000109</td>\n",
       "      <td>0.000042</td>\n",
       "      <td>0.000006</td>\n",
       "      <td>0.000004</td>\n",
       "    </tr>\n",
       "    <tr>\n",
       "      <th>4</th>\n",
       "      <td>250</td>\n",
       "      <td>0.000072</td>\n",
       "      <td>0.000020</td>\n",
       "      <td>0.000004</td>\n",
       "      <td>0.000003</td>\n",
       "    </tr>\n",
       "    <tr>\n",
       "      <th>5</th>\n",
       "      <td>300</td>\n",
       "      <td>0.000087</td>\n",
       "      <td>0.000018</td>\n",
       "      <td>0.000005</td>\n",
       "      <td>0.000003</td>\n",
       "    </tr>\n",
       "    <tr>\n",
       "      <th>6</th>\n",
       "      <td>350</td>\n",
       "      <td>0.000099</td>\n",
       "      <td>0.000016</td>\n",
       "      <td>0.000003</td>\n",
       "      <td>0.000003</td>\n",
       "    </tr>\n",
       "    <tr>\n",
       "      <th>7</th>\n",
       "      <td>400</td>\n",
       "      <td>0.000112</td>\n",
       "      <td>0.000015</td>\n",
       "      <td>0.000003</td>\n",
       "      <td>0.000003</td>\n",
       "    </tr>\n",
       "    <tr>\n",
       "      <th>8</th>\n",
       "      <td>450</td>\n",
       "      <td>0.000124</td>\n",
       "      <td>0.000016</td>\n",
       "      <td>0.000003</td>\n",
       "      <td>0.000003</td>\n",
       "    </tr>\n",
       "    <tr>\n",
       "      <th>9</th>\n",
       "      <td>500</td>\n",
       "      <td>0.000140</td>\n",
       "      <td>0.000016</td>\n",
       "      <td>0.000003</td>\n",
       "      <td>0.000003</td>\n",
       "    </tr>\n",
       "    <tr>\n",
       "      <th>10</th>\n",
       "      <td>550</td>\n",
       "      <td>0.000154</td>\n",
       "      <td>0.000021</td>\n",
       "      <td>0.000003</td>\n",
       "      <td>0.000003</td>\n",
       "    </tr>\n",
       "    <tr>\n",
       "      <th>11</th>\n",
       "      <td>600</td>\n",
       "      <td>0.000171</td>\n",
       "      <td>0.000019</td>\n",
       "      <td>0.000003</td>\n",
       "      <td>0.000003</td>\n",
       "    </tr>\n",
       "    <tr>\n",
       "      <th>12</th>\n",
       "      <td>650</td>\n",
       "      <td>0.000191</td>\n",
       "      <td>0.000026</td>\n",
       "      <td>0.000005</td>\n",
       "      <td>0.000003</td>\n",
       "    </tr>\n",
       "    <tr>\n",
       "      <th>13</th>\n",
       "      <td>700</td>\n",
       "      <td>0.000205</td>\n",
       "      <td>0.000019</td>\n",
       "      <td>0.000003</td>\n",
       "      <td>0.000003</td>\n",
       "    </tr>\n",
       "    <tr>\n",
       "      <th>14</th>\n",
       "      <td>750</td>\n",
       "      <td>0.000222</td>\n",
       "      <td>0.000019</td>\n",
       "      <td>0.000003</td>\n",
       "      <td>0.000003</td>\n",
       "    </tr>\n",
       "    <tr>\n",
       "      <th>15</th>\n",
       "      <td>800</td>\n",
       "      <td>0.000220</td>\n",
       "      <td>0.000019</td>\n",
       "      <td>0.000003</td>\n",
       "      <td>0.000003</td>\n",
       "    </tr>\n",
       "    <tr>\n",
       "      <th>16</th>\n",
       "      <td>850</td>\n",
       "      <td>0.000236</td>\n",
       "      <td>0.000018</td>\n",
       "      <td>0.000003</td>\n",
       "      <td>0.000003</td>\n",
       "    </tr>\n",
       "    <tr>\n",
       "      <th>17</th>\n",
       "      <td>900</td>\n",
       "      <td>0.000249</td>\n",
       "      <td>0.000018</td>\n",
       "      <td>0.000003</td>\n",
       "      <td>0.000003</td>\n",
       "    </tr>\n",
       "  </tbody>\n",
       "</table>\n",
       "</div>"
      ],
      "text/plain": [
       "    Datos  Tiempos_py  Tiempos_numpy  Tiempos_JIT_py  Tiempos_numpy_JIT\n",
       "0      50    0.000032       0.000049        0.000008           0.000004\n",
       "1     100    0.000035       0.000020        0.000003           0.000003\n",
       "2     150    0.000046       0.000017        0.000003           0.000007\n",
       "3     200    0.000109       0.000042        0.000006           0.000004\n",
       "4     250    0.000072       0.000020        0.000004           0.000003\n",
       "5     300    0.000087       0.000018        0.000005           0.000003\n",
       "6     350    0.000099       0.000016        0.000003           0.000003\n",
       "7     400    0.000112       0.000015        0.000003           0.000003\n",
       "8     450    0.000124       0.000016        0.000003           0.000003\n",
       "9     500    0.000140       0.000016        0.000003           0.000003\n",
       "10    550    0.000154       0.000021        0.000003           0.000003\n",
       "11    600    0.000171       0.000019        0.000003           0.000003\n",
       "12    650    0.000191       0.000026        0.000005           0.000003\n",
       "13    700    0.000205       0.000019        0.000003           0.000003\n",
       "14    750    0.000222       0.000019        0.000003           0.000003\n",
       "15    800    0.000220       0.000019        0.000003           0.000003\n",
       "16    850    0.000236       0.000018        0.000003           0.000003\n",
       "17    900    0.000249       0.000018        0.000003           0.000003"
      ]
     },
     "execution_count": 48,
     "metadata": {},
     "output_type": "execute_result"
    }
   ],
   "source": [
    "import pandas as pd\n",
    "data = {'Datos' : x,\n",
    "        'Tiempos_py': tiempos_py,\n",
    "        'Tiempos_numpy': tiempos_numpy,\n",
    "        'Tiempos_JIT_py': tiempos_JIT_py,\n",
    "        'Tiempos_numpy_JIT': tiempos_numpy_JIT}\n",
    "df = pd.DataFrame(data)\n",
    "df"
   ]
  },
  {
   "cell_type": "code",
   "execution_count": 49,
   "metadata": {},
   "outputs": [
    {
     "data": {
      "application/vnd.plotly.v1+json": {
       "config": {
        "plotlyServerURL": "https://plot.ly"
       },
       "data": [
        {
         "hovertemplate": "variable=Tiempos_py<br>Datos=%{x}<br>value=%{y}<extra></extra>",
         "legendgroup": "Tiempos_py",
         "line": {
          "color": "#636efa",
          "dash": "solid"
         },
         "marker": {
          "symbol": "circle"
         },
         "mode": "lines",
         "name": "Tiempos_py",
         "orientation": "v",
         "showlegend": true,
         "type": "scatter",
         "x": [
          50,
          100,
          150,
          200,
          250,
          300,
          350,
          400,
          450,
          500,
          550,
          600,
          650,
          700,
          750,
          800,
          850,
          900
         ],
         "xaxis": "x",
         "y": [
          0.00003229999992981902,
          0.0000354000001152599,
          0.000046300000121846097,
          0.00010919999999714491,
          0.00007209999989754579,
          0.00008729999990464421,
          0.00009900000009110954,
          0.00011229999995521212,
          0.00012440000000424334,
          0.0001396999998632964,
          0.0001536999998279498,
          0.00017070000012608944,
          0.00019079999992754892,
          0.00020549999999275315,
          0.00022209999997357954,
          0.00022039999998924031,
          0.00023569999984829337,
          0.0002488000000084867
         ],
         "yaxis": "y"
        },
        {
         "hovertemplate": "variable=Tiempos_numpy<br>Datos=%{x}<br>value=%{y}<extra></extra>",
         "legendgroup": "Tiempos_numpy",
         "line": {
          "color": "#EF553B",
          "dash": "solid"
         },
         "marker": {
          "symbol": "circle"
         },
         "mode": "lines",
         "name": "Tiempos_numpy",
         "orientation": "v",
         "showlegend": true,
         "type": "scatter",
         "x": [
          50,
          100,
          150,
          200,
          250,
          300,
          350,
          400,
          450,
          500,
          550,
          600,
          650,
          700,
          750,
          800,
          850,
          900
         ],
         "xaxis": "x",
         "y": [
          0.00004889999991064542,
          0.00002029999996011611,
          0.00001720000000204891,
          0.000042200000052616815,
          0.000019999999949504854,
          0.000017900000102599734,
          0.00001629999997021514,
          0.000015400000165755046,
          0.000015699999948992627,
          0.00001619999989088683,
          0.000020600000198101043,
          0.000019300000076327706,
          0.000026199999865639256,
          0.000019099999917671084,
          0.00001889999998638814,
          0.000018599999975776882,
          0.000018299999965165625,
          0.000017799999795897747
         ],
         "yaxis": "y"
        },
        {
         "hovertemplate": "variable=Tiempos_JIT_py<br>Datos=%{x}<br>value=%{y}<extra></extra>",
         "legendgroup": "Tiempos_JIT_py",
         "line": {
          "color": "#00cc96",
          "dash": "solid"
         },
         "marker": {
          "symbol": "circle"
         },
         "mode": "lines",
         "name": "Tiempos_JIT_py",
         "orientation": "v",
         "showlegend": true,
         "type": "scatter",
         "x": [
          50,
          100,
          150,
          200,
          250,
          300,
          350,
          400,
          450,
          500,
          550,
          600,
          650,
          700,
          750,
          800,
          850,
          900
         ],
         "xaxis": "x",
         "y": [
          0.000007599999889862374,
          0.000003400000196052133,
          0.0000031999998100218363,
          0.0000056000001222855644,
          0.0000035000000480067683,
          0.000005200000032345997,
          0.0000029999998787388904,
          0.0000033999999686784577,
          0.0000033999999686784577,
          0.0000029999998787388904,
          0.000003099999958067201,
          0.000002900000026784255,
          0.000004999999873689376,
          0.0000031999998100218363,
          0.0000031000001854408765,
          0.0000029999998787388904,
          0.0000032000000373955118,
          0.000002900000026784255
         ],
         "yaxis": "y"
        },
        {
         "hovertemplate": "variable=Tiempos_numpy_JIT<br>Datos=%{x}<br>value=%{y}<extra></extra>",
         "legendgroup": "Tiempos_numpy_JIT",
         "line": {
          "color": "#ab63fa",
          "dash": "solid"
         },
         "marker": {
          "symbol": "circle"
         },
         "mode": "lines",
         "name": "Tiempos_numpy_JIT",
         "orientation": "v",
         "showlegend": true,
         "type": "scatter",
         "x": [
          50,
          100,
          150,
          200,
          250,
          300,
          350,
          400,
          450,
          500,
          550,
          600,
          650,
          700,
          750,
          800,
          850,
          900
         ],
         "xaxis": "x",
         "y": [
          0.0000037999998312443495,
          0.000002900000026784255,
          0.000006799999937356915,
          0.0000041000000692292815,
          0.0000028999997994105797,
          0.000003099999958067201,
          0.0000026000000161729986,
          0.0000027000000955013093,
          0.0000026000000161729986,
          0.0000027000000955013093,
          0.000002699999868127634,
          0.0000027999999474559445,
          0.0000029999998787388904,
          0.000002900000026784255,
          0.00000280000017482962,
          0.0000026000000161729986,
          0.0000027999999474559445,
          0.0000027000000955013093
         ],
         "yaxis": "y"
        }
       ],
       "layout": {
        "legend": {
         "title": {
          "text": "variable"
         },
         "tracegroupgap": 0
        },
        "margin": {
         "t": 60
        },
        "template": {
         "data": {
          "bar": [
           {
            "error_x": {
             "color": "#2a3f5f"
            },
            "error_y": {
             "color": "#2a3f5f"
            },
            "marker": {
             "line": {
              "color": "#E5ECF6",
              "width": 0.5
             },
             "pattern": {
              "fillmode": "overlay",
              "size": 10,
              "solidity": 0.2
             }
            },
            "type": "bar"
           }
          ],
          "barpolar": [
           {
            "marker": {
             "line": {
              "color": "#E5ECF6",
              "width": 0.5
             },
             "pattern": {
              "fillmode": "overlay",
              "size": 10,
              "solidity": 0.2
             }
            },
            "type": "barpolar"
           }
          ],
          "carpet": [
           {
            "aaxis": {
             "endlinecolor": "#2a3f5f",
             "gridcolor": "white",
             "linecolor": "white",
             "minorgridcolor": "white",
             "startlinecolor": "#2a3f5f"
            },
            "baxis": {
             "endlinecolor": "#2a3f5f",
             "gridcolor": "white",
             "linecolor": "white",
             "minorgridcolor": "white",
             "startlinecolor": "#2a3f5f"
            },
            "type": "carpet"
           }
          ],
          "choropleth": [
           {
            "colorbar": {
             "outlinewidth": 0,
             "ticks": ""
            },
            "type": "choropleth"
           }
          ],
          "contour": [
           {
            "colorbar": {
             "outlinewidth": 0,
             "ticks": ""
            },
            "colorscale": [
             [
              0,
              "#0d0887"
             ],
             [
              0.1111111111111111,
              "#46039f"
             ],
             [
              0.2222222222222222,
              "#7201a8"
             ],
             [
              0.3333333333333333,
              "#9c179e"
             ],
             [
              0.4444444444444444,
              "#bd3786"
             ],
             [
              0.5555555555555556,
              "#d8576b"
             ],
             [
              0.6666666666666666,
              "#ed7953"
             ],
             [
              0.7777777777777778,
              "#fb9f3a"
             ],
             [
              0.8888888888888888,
              "#fdca26"
             ],
             [
              1,
              "#f0f921"
             ]
            ],
            "type": "contour"
           }
          ],
          "contourcarpet": [
           {
            "colorbar": {
             "outlinewidth": 0,
             "ticks": ""
            },
            "type": "contourcarpet"
           }
          ],
          "heatmap": [
           {
            "colorbar": {
             "outlinewidth": 0,
             "ticks": ""
            },
            "colorscale": [
             [
              0,
              "#0d0887"
             ],
             [
              0.1111111111111111,
              "#46039f"
             ],
             [
              0.2222222222222222,
              "#7201a8"
             ],
             [
              0.3333333333333333,
              "#9c179e"
             ],
             [
              0.4444444444444444,
              "#bd3786"
             ],
             [
              0.5555555555555556,
              "#d8576b"
             ],
             [
              0.6666666666666666,
              "#ed7953"
             ],
             [
              0.7777777777777778,
              "#fb9f3a"
             ],
             [
              0.8888888888888888,
              "#fdca26"
             ],
             [
              1,
              "#f0f921"
             ]
            ],
            "type": "heatmap"
           }
          ],
          "heatmapgl": [
           {
            "colorbar": {
             "outlinewidth": 0,
             "ticks": ""
            },
            "colorscale": [
             [
              0,
              "#0d0887"
             ],
             [
              0.1111111111111111,
              "#46039f"
             ],
             [
              0.2222222222222222,
              "#7201a8"
             ],
             [
              0.3333333333333333,
              "#9c179e"
             ],
             [
              0.4444444444444444,
              "#bd3786"
             ],
             [
              0.5555555555555556,
              "#d8576b"
             ],
             [
              0.6666666666666666,
              "#ed7953"
             ],
             [
              0.7777777777777778,
              "#fb9f3a"
             ],
             [
              0.8888888888888888,
              "#fdca26"
             ],
             [
              1,
              "#f0f921"
             ]
            ],
            "type": "heatmapgl"
           }
          ],
          "histogram": [
           {
            "marker": {
             "pattern": {
              "fillmode": "overlay",
              "size": 10,
              "solidity": 0.2
             }
            },
            "type": "histogram"
           }
          ],
          "histogram2d": [
           {
            "colorbar": {
             "outlinewidth": 0,
             "ticks": ""
            },
            "colorscale": [
             [
              0,
              "#0d0887"
             ],
             [
              0.1111111111111111,
              "#46039f"
             ],
             [
              0.2222222222222222,
              "#7201a8"
             ],
             [
              0.3333333333333333,
              "#9c179e"
             ],
             [
              0.4444444444444444,
              "#bd3786"
             ],
             [
              0.5555555555555556,
              "#d8576b"
             ],
             [
              0.6666666666666666,
              "#ed7953"
             ],
             [
              0.7777777777777778,
              "#fb9f3a"
             ],
             [
              0.8888888888888888,
              "#fdca26"
             ],
             [
              1,
              "#f0f921"
             ]
            ],
            "type": "histogram2d"
           }
          ],
          "histogram2dcontour": [
           {
            "colorbar": {
             "outlinewidth": 0,
             "ticks": ""
            },
            "colorscale": [
             [
              0,
              "#0d0887"
             ],
             [
              0.1111111111111111,
              "#46039f"
             ],
             [
              0.2222222222222222,
              "#7201a8"
             ],
             [
              0.3333333333333333,
              "#9c179e"
             ],
             [
              0.4444444444444444,
              "#bd3786"
             ],
             [
              0.5555555555555556,
              "#d8576b"
             ],
             [
              0.6666666666666666,
              "#ed7953"
             ],
             [
              0.7777777777777778,
              "#fb9f3a"
             ],
             [
              0.8888888888888888,
              "#fdca26"
             ],
             [
              1,
              "#f0f921"
             ]
            ],
            "type": "histogram2dcontour"
           }
          ],
          "mesh3d": [
           {
            "colorbar": {
             "outlinewidth": 0,
             "ticks": ""
            },
            "type": "mesh3d"
           }
          ],
          "parcoords": [
           {
            "line": {
             "colorbar": {
              "outlinewidth": 0,
              "ticks": ""
             }
            },
            "type": "parcoords"
           }
          ],
          "pie": [
           {
            "automargin": true,
            "type": "pie"
           }
          ],
          "scatter": [
           {
            "fillpattern": {
             "fillmode": "overlay",
             "size": 10,
             "solidity": 0.2
            },
            "type": "scatter"
           }
          ],
          "scatter3d": [
           {
            "line": {
             "colorbar": {
              "outlinewidth": 0,
              "ticks": ""
             }
            },
            "marker": {
             "colorbar": {
              "outlinewidth": 0,
              "ticks": ""
             }
            },
            "type": "scatter3d"
           }
          ],
          "scattercarpet": [
           {
            "marker": {
             "colorbar": {
              "outlinewidth": 0,
              "ticks": ""
             }
            },
            "type": "scattercarpet"
           }
          ],
          "scattergeo": [
           {
            "marker": {
             "colorbar": {
              "outlinewidth": 0,
              "ticks": ""
             }
            },
            "type": "scattergeo"
           }
          ],
          "scattergl": [
           {
            "marker": {
             "colorbar": {
              "outlinewidth": 0,
              "ticks": ""
             }
            },
            "type": "scattergl"
           }
          ],
          "scattermapbox": [
           {
            "marker": {
             "colorbar": {
              "outlinewidth": 0,
              "ticks": ""
             }
            },
            "type": "scattermapbox"
           }
          ],
          "scatterpolar": [
           {
            "marker": {
             "colorbar": {
              "outlinewidth": 0,
              "ticks": ""
             }
            },
            "type": "scatterpolar"
           }
          ],
          "scatterpolargl": [
           {
            "marker": {
             "colorbar": {
              "outlinewidth": 0,
              "ticks": ""
             }
            },
            "type": "scatterpolargl"
           }
          ],
          "scatterternary": [
           {
            "marker": {
             "colorbar": {
              "outlinewidth": 0,
              "ticks": ""
             }
            },
            "type": "scatterternary"
           }
          ],
          "surface": [
           {
            "colorbar": {
             "outlinewidth": 0,
             "ticks": ""
            },
            "colorscale": [
             [
              0,
              "#0d0887"
             ],
             [
              0.1111111111111111,
              "#46039f"
             ],
             [
              0.2222222222222222,
              "#7201a8"
             ],
             [
              0.3333333333333333,
              "#9c179e"
             ],
             [
              0.4444444444444444,
              "#bd3786"
             ],
             [
              0.5555555555555556,
              "#d8576b"
             ],
             [
              0.6666666666666666,
              "#ed7953"
             ],
             [
              0.7777777777777778,
              "#fb9f3a"
             ],
             [
              0.8888888888888888,
              "#fdca26"
             ],
             [
              1,
              "#f0f921"
             ]
            ],
            "type": "surface"
           }
          ],
          "table": [
           {
            "cells": {
             "fill": {
              "color": "#EBF0F8"
             },
             "line": {
              "color": "white"
             }
            },
            "header": {
             "fill": {
              "color": "#C8D4E3"
             },
             "line": {
              "color": "white"
             }
            },
            "type": "table"
           }
          ]
         },
         "layout": {
          "annotationdefaults": {
           "arrowcolor": "#2a3f5f",
           "arrowhead": 0,
           "arrowwidth": 1
          },
          "autotypenumbers": "strict",
          "coloraxis": {
           "colorbar": {
            "outlinewidth": 0,
            "ticks": ""
           }
          },
          "colorscale": {
           "diverging": [
            [
             0,
             "#8e0152"
            ],
            [
             0.1,
             "#c51b7d"
            ],
            [
             0.2,
             "#de77ae"
            ],
            [
             0.3,
             "#f1b6da"
            ],
            [
             0.4,
             "#fde0ef"
            ],
            [
             0.5,
             "#f7f7f7"
            ],
            [
             0.6,
             "#e6f5d0"
            ],
            [
             0.7,
             "#b8e186"
            ],
            [
             0.8,
             "#7fbc41"
            ],
            [
             0.9,
             "#4d9221"
            ],
            [
             1,
             "#276419"
            ]
           ],
           "sequential": [
            [
             0,
             "#0d0887"
            ],
            [
             0.1111111111111111,
             "#46039f"
            ],
            [
             0.2222222222222222,
             "#7201a8"
            ],
            [
             0.3333333333333333,
             "#9c179e"
            ],
            [
             0.4444444444444444,
             "#bd3786"
            ],
            [
             0.5555555555555556,
             "#d8576b"
            ],
            [
             0.6666666666666666,
             "#ed7953"
            ],
            [
             0.7777777777777778,
             "#fb9f3a"
            ],
            [
             0.8888888888888888,
             "#fdca26"
            ],
            [
             1,
             "#f0f921"
            ]
           ],
           "sequentialminus": [
            [
             0,
             "#0d0887"
            ],
            [
             0.1111111111111111,
             "#46039f"
            ],
            [
             0.2222222222222222,
             "#7201a8"
            ],
            [
             0.3333333333333333,
             "#9c179e"
            ],
            [
             0.4444444444444444,
             "#bd3786"
            ],
            [
             0.5555555555555556,
             "#d8576b"
            ],
            [
             0.6666666666666666,
             "#ed7953"
            ],
            [
             0.7777777777777778,
             "#fb9f3a"
            ],
            [
             0.8888888888888888,
             "#fdca26"
            ],
            [
             1,
             "#f0f921"
            ]
           ]
          },
          "colorway": [
           "#636efa",
           "#EF553B",
           "#00cc96",
           "#ab63fa",
           "#FFA15A",
           "#19d3f3",
           "#FF6692",
           "#B6E880",
           "#FF97FF",
           "#FECB52"
          ],
          "font": {
           "color": "#2a3f5f"
          },
          "geo": {
           "bgcolor": "white",
           "lakecolor": "white",
           "landcolor": "#E5ECF6",
           "showlakes": true,
           "showland": true,
           "subunitcolor": "white"
          },
          "hoverlabel": {
           "align": "left"
          },
          "hovermode": "closest",
          "mapbox": {
           "style": "light"
          },
          "paper_bgcolor": "white",
          "plot_bgcolor": "#E5ECF6",
          "polar": {
           "angularaxis": {
            "gridcolor": "white",
            "linecolor": "white",
            "ticks": ""
           },
           "bgcolor": "#E5ECF6",
           "radialaxis": {
            "gridcolor": "white",
            "linecolor": "white",
            "ticks": ""
           }
          },
          "scene": {
           "xaxis": {
            "backgroundcolor": "#E5ECF6",
            "gridcolor": "white",
            "gridwidth": 2,
            "linecolor": "white",
            "showbackground": true,
            "ticks": "",
            "zerolinecolor": "white"
           },
           "yaxis": {
            "backgroundcolor": "#E5ECF6",
            "gridcolor": "white",
            "gridwidth": 2,
            "linecolor": "white",
            "showbackground": true,
            "ticks": "",
            "zerolinecolor": "white"
           },
           "zaxis": {
            "backgroundcolor": "#E5ECF6",
            "gridcolor": "white",
            "gridwidth": 2,
            "linecolor": "white",
            "showbackground": true,
            "ticks": "",
            "zerolinecolor": "white"
           }
          },
          "shapedefaults": {
           "line": {
            "color": "#2a3f5f"
           }
          },
          "ternary": {
           "aaxis": {
            "gridcolor": "white",
            "linecolor": "white",
            "ticks": ""
           },
           "baxis": {
            "gridcolor": "white",
            "linecolor": "white",
            "ticks": ""
           },
           "bgcolor": "#E5ECF6",
           "caxis": {
            "gridcolor": "white",
            "linecolor": "white",
            "ticks": ""
           }
          },
          "title": {
           "x": 0.05
          },
          "xaxis": {
           "automargin": true,
           "gridcolor": "white",
           "linecolor": "white",
           "ticks": "",
           "title": {
            "standoff": 15
           },
           "zerolinecolor": "white",
           "zerolinewidth": 2
          },
          "yaxis": {
           "automargin": true,
           "gridcolor": "white",
           "linecolor": "white",
           "ticks": "",
           "title": {
            "standoff": 15
           },
           "zerolinecolor": "white",
           "zerolinewidth": 2
          }
         }
        },
        "xaxis": {
         "anchor": "y",
         "domain": [
          0,
          1
         ],
         "title": {
          "text": "Datos"
         }
        },
        "yaxis": {
         "anchor": "x",
         "domain": [
          0,
          1
         ],
         "title": {
          "text": "value"
         },
         "type": "log"
        }
       }
      }
     },
     "metadata": {},
     "output_type": "display_data"
    }
   ],
   "source": [
    "px.line(df, y=['Tiempos_py', 'Tiempos_numpy', 'Tiempos_JIT_py', 'Tiempos_numpy_JIT'], x='Datos', log_y=True)"
   ]
  },
  {
   "cell_type": "markdown",
   "metadata": {},
   "source": [
    "Es posible observar diferencias? A qué se debe esto?\n",
    "\n",
    "`\n",
    "Dentro de los gráficos es claro notar las diferencias que existen en 3 partes principales, primero los tiempos de ejecución de la función sin numpy la cual naturalmente es la que más tarda (utiliza funciones iterativas como el for), luego está la función con numpy que tarda menos que la primera al ahorrarse los ciclos iterativos del for mediante el uso de la librería, y finalmente se encuentran las funciones compiladas con Numba el cual es un compilador diseñado para optimizar tareas matemáticas y con ciclos, por lo cual es esperado que estas funciones compilen en un timepo mucho menor al resto.\n",
    "`"
   ]
  },
  {
   "cell_type": "markdown",
   "metadata": {
    "cell_id": "00030-01881ca2-384a-44f1-bcaf-ad095552aac2",
    "deepnote_cell_height": 70,
    "deepnote_cell_type": "markdown",
    "id": "DljdJw8m0gYC"
   },
   "source": [
    "## 1.5 Plot de Resultados de Análisis de Votos [1 Punto]"
   ]
  },
  {
   "cell_type": "markdown",
   "metadata": {
    "cell_id": "00031-1bfb8e5a-3a40-45f2-8f0f-f94c9264f8e2",
    "deepnote_cell_height": 111.1875,
    "deepnote_cell_type": "markdown",
    "id": "cQAxOM5D08Hl"
   },
   "source": [
    "Llego la hora de visualizar los resultados obtenidos, para esto solo ejecute las siguientes celdas y observe lo que sucede :3. ¿Qué logra observar de los resultados?, ¿La solución resulta trivial?\n",
    "\n",
    "En esta sección esperamos que solo comenten con lo que logran visualizar de los dataframes."
   ]
  },
  {
   "cell_type": "code",
   "execution_count": 54,
   "metadata": {
    "cell_id": "00032-107c679d-f291-40ec-8854-fd17864ba743",
    "colab": {
     "base_uri": "https://localhost:8080/",
     "height": 737
    },
    "deepnote_cell_height": 318,
    "deepnote_cell_type": "code",
    "executionInfo": {
     "elapsed": 390,
     "status": "ok",
     "timestamp": 1624645025761,
     "user": {
      "displayName": "IGNACIO ALEJANDRO MEZA",
      "photoUrl": "",
      "userId": "17011121633069169364"
     },
     "user_tz": 240
    },
    "id": "N5E2mNYXaafI",
    "outputId": "36f8a568-fb8d-4a2b-ff8e-651f206fbe53",
    "scrolled": true
   },
   "outputs": [
    {
     "name": "stdout",
     "output_type": "stream",
     "text": [
      "lower bounds aproximados:\n",
      "\n",
      "Top 20 post ordenador por el limite inferior:\n",
      "\n"
     ]
    }
   ],
   "source": [
    "votos = votes[len(votes) - 1]\n",
    "posteo = post[len(post) - 1]\n",
    "print(\"lower bounds aproximados:\")\n",
    "posterior_mean, std_err = intervalos_numpy(votos[:, 0], votos[:, 1])\n",
    "lb = posterior_mean - std_err\n",
    "print(\"\\nTop 20 post ordenador por el limite inferior:\\n\")\n",
    "order = np.argsort(-lb)\n",
    "vote_post = {\n",
    "    'Votos (+)': votos[order[:20], 0],\n",
    "    'Votos (-)': votos[order[:20], 1],\n",
    "    'Post': np.array(posteo)[order[:20]],\n",
    "    'url': np.array(url[len(url) - 1])[order[:20]]\n",
    "}\n",
    "df = pd.DataFrame(data=vote_post)\n",
    "ordered_post = df.Post"
   ]
  },
  {
   "cell_type": "code",
   "execution_count": 52,
   "metadata": {
    "cell_id": "2a0efceb16224059bb6aca51848d260f",
    "deepnote_cell_height": 210,
    "deepnote_cell_type": "code",
    "tags": []
   },
   "outputs": [
    {
     "ename": "TypeError",
     "evalue": "'float' object is not subscriptable",
     "output_type": "error",
     "traceback": [
      "\u001b[1;31m---------------------------------------------------------------------------\u001b[0m",
      "\u001b[1;31mTypeError\u001b[0m                                 Traceback (most recent call last)",
      "\u001b[1;32m<ipython-input-52-9b3eaa1ca82a>\u001b[0m in \u001b[0;36m<module>\u001b[1;34m\u001b[0m\n\u001b[0;32m      1\u001b[0m \u001b[0mr_order\u001b[0m \u001b[1;33m=\u001b[0m \u001b[0morder\u001b[0m\u001b[1;33m[\u001b[0m\u001b[1;33m:\u001b[0m\u001b[1;33m:\u001b[0m\u001b[1;33m-\u001b[0m\u001b[1;36m1\u001b[0m\u001b[1;33m]\u001b[0m\u001b[1;33m[\u001b[0m\u001b[1;33m-\u001b[0m\u001b[1;36m20\u001b[0m\u001b[1;33m:\u001b[0m\u001b[1;33m]\u001b[0m\u001b[1;33m\u001b[0m\u001b[1;33m\u001b[0m\u001b[0m\n\u001b[0;32m      2\u001b[0m data_dic = {\n\u001b[1;32m----> 3\u001b[1;33m     \u001b[1;34m'mean'\u001b[0m\u001b[1;33m:\u001b[0m \u001b[0mposterior_mean\u001b[0m\u001b[1;33m[\u001b[0m\u001b[0mr_order\u001b[0m\u001b[1;33m]\u001b[0m\u001b[1;33m,\u001b[0m\u001b[1;33m\u001b[0m\u001b[1;33m\u001b[0m\u001b[0m\n\u001b[0m\u001b[0;32m      4\u001b[0m     \u001b[1;34m'std_err'\u001b[0m\u001b[1;33m:\u001b[0m \u001b[0mstd_err\u001b[0m\u001b[1;33m[\u001b[0m\u001b[0mr_order\u001b[0m\u001b[1;33m]\u001b[0m\u001b[1;33m,\u001b[0m\u001b[1;33m\u001b[0m\u001b[1;33m\u001b[0m\u001b[0m\n\u001b[0;32m      5\u001b[0m     \u001b[1;34m'post'\u001b[0m\u001b[1;33m:\u001b[0m \u001b[0mordered_post\u001b[0m\u001b[1;33m[\u001b[0m\u001b[1;33m:\u001b[0m\u001b[1;33m:\u001b[0m\u001b[1;33m-\u001b[0m\u001b[1;36m1\u001b[0m\u001b[1;33m]\u001b[0m\u001b[1;33m\u001b[0m\u001b[1;33m\u001b[0m\u001b[0m\n",
      "\u001b[1;31mTypeError\u001b[0m: 'float' object is not subscriptable"
     ]
    }
   ],
   "source": [
    "r_order = order[::-1][-20:]\n",
    "data_dic = {\n",
    "    'mean': posterior_mean[r_order],\n",
    "    'std_err': std_err[r_order],\n",
    "    'post': ordered_post[::-1]\n",
    "}\n",
    "df = pd.DataFrame(data=data_dic)\n",
    "fig = px.scatter(df, x=\"mean\", y=\"post\", error_x=\"std_err\")\n",
    "fig.show()"
   ]
  },
  {
   "cell_type": "markdown",
   "metadata": {
    "cell_id": "00033-eddd71de-b9a7-4779-924a-964c68603845",
    "deepnote_cell_height": 52.390625,
    "deepnote_cell_type": "markdown",
    "id": "szOjXLKA1Rif"
   },
   "source": [
    "**Respuesta:**"
   ]
  },
  {
   "cell_type": "markdown",
   "metadata": {
    "cell_id": "00034-92ca5c7c-071c-4e99-9f17-dec033ed4c24",
    "deepnote_cell_height": 52.390625,
    "deepnote_cell_type": "markdown",
    "id": "0F83QdD61Pd1"
   },
   "source": [
    "`Escriba su respuesta aquí`"
   ]
  },
  {
   "cell_type": "markdown",
   "metadata": {
    "cell_id": "00035-93d50cd9-ff61-4aa8-ae41-e84009a3f64e",
    "deepnote_cell_height": 269,
    "deepnote_cell_type": "markdown",
    "id": "Rg4ZMq8ezAH6"
   },
   "source": [
    "<p align=\"center\">\n",
    "  <img src=\"https://media1.tenor.com/images/fb5bf7cc5a4acb91b4177672886a88ba/tenor.gif?itemid=5591338\">\n",
    "</p>"
   ]
  },
  {
   "cell_type": "markdown",
   "metadata": {
    "created_in_deepnote_cell": true,
    "deepnote_cell_type": "markdown",
    "tags": []
   },
   "source": [
    "<a style='text-decoration:none;line-height:16px;display:flex;color:#5B5B62;padding:10px;justify-content:end;' href='https://deepnote.com?utm_source=created-in-deepnote-cell&projectId=87110296-876e-426f-b91d-aaf681223468' target=\"_blank\">\n",
    "<img alt='Created in deepnote.com' style='display:inline;max-height:16px;margin:0px;margin-right:7.5px;' src='data:image/svg+xml;base64,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' > </img>\n",
    "Created in <span style='font-weight:600;margin-left:4px;'>Deepnote</span></a>"
   ]
  }
 ],
 "metadata": {
  "colab": {
   "collapsed_sections": [],
   "name": "Copia de enunciado_Laboratorio5.ipynb",
   "provenance": []
  },
  "deepnote": {},
  "deepnote_execution_queue": [],
  "deepnote_notebook_id": "86c0ae4d-10d9-41be-9dc9-0e76fdf26f7b",
  "kernelspec": {
   "display_name": "Python 3.8.8 ('base')",
   "language": "python",
   "name": "python3"
  },
  "language_info": {
   "codemirror_mode": {
    "name": "ipython",
    "version": 3
   },
   "file_extension": ".py",
   "mimetype": "text/x-python",
   "name": "python",
   "nbconvert_exporter": "python",
   "pygments_lexer": "ipython3",
   "version": "3.8.8"
  },
  "toc": {
   "base_numbering": 1,
   "nav_menu": {},
   "number_sections": true,
   "sideBar": true,
   "skip_h1_title": true,
   "title_cell": "Tabla de Contenidos",
   "title_sidebar": "Contenidos",
   "toc_cell": false,
   "toc_position": {
    "height": "calc(100% - 180px)",
    "left": "10px",
    "top": "150px",
    "width": "241.867px"
   },
   "toc_section_display": true,
   "toc_window_display": true
  },
  "varInspector": {
   "cols": {
    "lenName": 16,
    "lenType": 16,
    "lenVar": 40
   },
   "kernels_config": {
    "python": {
     "delete_cmd_postfix": "",
     "delete_cmd_prefix": "del ",
     "library": "var_list.py",
     "varRefreshCmd": "print(var_dic_list())"
    },
    "r": {
     "delete_cmd_postfix": ") ",
     "delete_cmd_prefix": "rm(",
     "library": "var_list.r",
     "varRefreshCmd": "cat(var_dic_list()) "
    }
   },
   "types_to_exclude": [
    "module",
    "function",
    "builtin_function_or_method",
    "instance",
    "_Feature"
   ],
   "window_display": false
  },
  "vscode": {
   "interpreter": {
    "hash": "798180a8676e96c14c0fd9e926c1c48c306fd01c8d0021a07bcb0710a6e640fa"
   }
  }
 },
 "nbformat": 4,
 "nbformat_minor": 4
}
