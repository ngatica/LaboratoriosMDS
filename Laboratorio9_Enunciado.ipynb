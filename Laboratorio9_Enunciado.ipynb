{
 "cells": [
  {
   "cell_type": "markdown",
   "metadata": {
    "cell_id": "00000-e61b8f99-434b-4848-a553-4bbae63045cc",
    "deepnote_cell_height": 156.390625,
    "deepnote_cell_type": "markdown",
    "id": "XUZ1dFPHzAHl"
   },
   "source": [
    "<h1><center>Laboratorio 9: Benchmark Estadístico con Reddit 🧮</center></h1>\n",
    "\n",
    "<center><strong>MDS7202: Laboratorio de Programación Científica para Ciencia de Datos</strong></center>"
   ]
  },
  {
   "cell_type": "markdown",
   "metadata": {
    "cell_id": "00001-231091e0-d755-42af-83b0-809301b54cfe",
    "deepnote_cell_height": 165.1875,
    "deepnote_cell_type": "markdown",
    "id": "UD8X1uhGzAHq"
   },
   "source": [
    "### Cuerpo Docente:\n",
    "\n",
    "- Profesor: Pablo Badilla\n",
    "- Auxiliar: Ignacio Meza D.\n",
    "- Ayudante: Patricio Ortiz"
   ]
  },
  {
   "cell_type": "markdown",
   "metadata": {
    "cell_id": "00002-65747a66-3e34-4df6-9e4a-c63f6d47f1f1",
    "deepnote_cell_height": 171.796875,
    "deepnote_cell_type": "markdown",
    "id": "tXflExjqzAHr"
   },
   "source": [
    "### Equipo: SUPER IMPORTANTE - notebooks sin nombre no serán revisados\n",
    "\n",
    "- Nombre de alumno 1: Nicolás Gatica\n",
    "- Nombre de alumno 2: Cristóbal Igor\n"
   ]
  },
  {
   "cell_type": "markdown",
   "metadata": {
    "cell_id": "00003-f842b0e0-851a-405c-a104-53fa53260fa5",
    "deepnote_cell_height": 62,
    "deepnote_cell_type": "markdown",
    "id": "AD-V0bbZzAHr"
   },
   "source": [
    "### **Link de repositorio de GitHub:** `https://github.com/ngatica/LaboratoriosMDS`"
   ]
  },
  {
   "cell_type": "markdown",
   "metadata": {
    "cell_id": "00004-d2b77039-39dd-4985-bec7-914bd5a67d98",
    "deepnote_cell_height": 669,
    "deepnote_cell_type": "markdown",
    "id": "6uBLPj1PzAHs"
   },
   "source": [
    "# Temas a tratar\n",
    "\n",
    "- Optimización de Código en Python.\n",
    "- Utilización de librerías para medir el tiempo de ejecución de funciones.\n",
    "- Métodos para optimizar el rendimiento de las funciones.\n",
    "\n",
    "# Reglas:\n",
    "\n",
    "- Fecha de entrega: 3/12/2021\n",
    "- **Grupos de 2 personas**\n",
    "- **Ausentes** deberán realizar la actividad solos. \n",
    "- Cualquier duda fuera del horario de clases al foro. Mensajes al equipo docente serán respondidos por este medio.\n",
    "- Prohibidas las copias. \n",
    "- Pueden usar cualquer matrial del curso que estimen conveniente.\n",
    "\n",
    "# Objetivos principales del laboratorio\n",
    "\n",
    "- Utilizar la API de Reddit a partir de la librería `praw` y visualizar cuales post son más probables que sean puntuados positivamente.\n",
    "- Utilizar `cache_lru` para cachear resultados de funciones.\n",
    "- Aplicar un atajo estadístico para obtener la mean posterior de datos.\n",
    "- Medir el tiempo de ejecución como también el uso de memoria de la función anterior.\n",
    "- Optimizar la función anterior a través de `numba`."
   ]
  },
  {
   "cell_type": "markdown",
   "metadata": {
    "cell_id": "00005-5a5cbaa6-e809-4c62-9709-7e650430b7ba",
    "deepnote_cell_height": 52.390625,
    "deepnote_cell_type": "markdown",
    "id": "MhISwri4zAHy"
   },
   "source": [
    "#Importamos librerias utiles 😸"
   ]
  },
  {
   "cell_type": "code",
   "execution_count": 1,
   "metadata": {
    "cell_id": "00006-375e81a0-63bd-4f61-a2c2-561059d97241",
    "deepnote_cell_height": 168,
    "deepnote_cell_type": "code",
    "deepnote_to_be_reexecuted": false,
    "execution_millis": 214,
    "execution_start": 1638299125300,
    "source_hash": "251d15fd",
    "tags": []
   },
   "outputs": [],
   "source": [
    "%load_ext autoreload\n",
    "%autoreload 2"
   ]
  },
  {
   "cell_type": "code",
   "execution_count": 2,
   "metadata": {
    "cell_id": "00006-00a9ab85-c6e5-4b3d-b6ba-2004ff409a6d",
    "deepnote_cell_height": 432.1875,
    "deepnote_cell_type": "code",
    "deepnote_to_be_reexecuted": false,
    "executionInfo": {
     "elapsed": 10379,
     "status": "ok",
     "timestamp": 1627484630448,
     "user": {
      "displayName": "IGNACIO ALEJANDRO MEZA",
      "photoUrl": "",
      "userId": "17011121633069169364"
     },
     "user_tz": 240
    },
    "execution_millis": 24248,
    "execution_start": 1638299092849,
    "id": "cO7AQ9ciQ59U",
    "source_hash": "1240e4a3"
   },
   "outputs": [],
   "source": [
    "%%capture\n",
    "!pip install praw\n",
    "!pip install line_profiler\n",
    "!pip install numba\n",
    "\n",
    "%load_ext line_profiler\n",
    "%load_ext autoreload\n",
    "%autoreload 2\n",
    "\n",
    "import sys\n",
    "import praw\n",
    "import time\n",
    "import numpy as np\n",
    "import pandas as pd\n",
    "from numba import jit\n",
    "import plotly.express as px\n",
    "from functools import lru_cache\n",
    "from IPython.core.display import Image"
   ]
  },
  {
   "cell_type": "markdown",
   "metadata": {
    "cell_id": "00007-853a08fe-06d7-4051-b347-1e29226924ee",
    "deepnote_cell_height": 82,
    "deepnote_cell_type": "markdown",
    "id": "xpOTbQcxbSiy"
   },
   "source": [
    "# 1. Recomendando Posts de Subreddit"
   ]
  },
  {
   "cell_type": "markdown",
   "metadata": {
    "cell_id": "00008-ca941d35-4377-406f-8b9c-cdf3ce096c64",
    "deepnote_cell_height": 376,
    "deepnote_cell_type": "markdown",
    "id": "3Q93vbNS25bM",
    "owner_user_id": "d50c3174-babb-4861-9c71-7e3af66458b8"
   },
   "source": [
    "<p align=\"center\">\n",
    "  <img src=\"https://preview.redd.it/3sxusxcjge791.png?auto=webp&s=88bc1f9a3c59eafda24b0e32dd87d7cf596d205d\">\n",
    "</p>"
   ]
  },
  {
   "cell_type": "markdown",
   "metadata": {
    "cell_id": "00009-bb6e6ae1-d939-400e-aa39-a9b5cf6fe725",
    "deepnote_cell_height": 245.59375,
    "deepnote_cell_type": "markdown",
    "id": "jnmZfFpxTTYX"
   },
   "source": [
    "Unos intrépidos alumnos del curso, quienes frecuentemente participan en subreddits y foros de reviews, se preguntan lo siguiente: ¿Podremos confiar que un post es bueno, si este tiene solamente 1 o 3 votos positivos?. los compañeros, creen que esto claramente no representa una opinión general, ya que estamos mucho menos seguros acerca de la verdadera proporción de votos a favor de los comentarios con pocos datos. ¿Pero cómo podemos obtener una representación más creíble para este problema?.\n",
    "\n",
    "Lo señalado forma parte de un problema estadísticos, donde a través del cálculo de la posterior se puede conocer que tan probable es que un post sea bueno. Para efectos de este laboratorio, no se exige un conocimiento previo para resolver este problema, simplemente se deberá aplicar las ecuaciones presentadas más adelante (De igual forma si quedan interesados sobre el tema se les invita a tomar el ramo [CC6104](https://github.com/dccuchile/CC6104))."
   ]
  },
  {
   "cell_type": "markdown",
   "metadata": {
    "cell_id": "00010-11ff1022-47d3-4e16-a067-862aff4fa1e6",
    "deepnote_cell_height": 70,
    "deepnote_cell_type": "markdown",
    "id": "xdbrb3AMi6EF"
   },
   "source": [
    "## 1.1 Obtención de Subrredits y Análisis [1 Punto]"
   ]
  },
  {
   "cell_type": "markdown",
   "metadata": {
    "cell_id": "00011-098a5246-642a-47aa-9f10-2261697c2603",
    "deepnote_cell_height": 363.796875,
    "deepnote_cell_type": "markdown",
    "id": "YI-IRspcjPee"
   },
   "source": [
    "Para estudiar que tan probable es que un post sea positivo se comenzará cargando datos reales del subreddit chile desde reddit (si usted desea puede cambiar el subreddit a uno de su gusto). Para esto le proponemos la utilización de la función que aparece mas abajo, la que presenta un usuario ya creado por el equipo docente. Dese un tiempo para entender que hace cada parte de la función, visualizando que se obtiene de estas.\n",
    "\n",
    "Revisada la función, utilice un **perfilador** para monitorear el tiempo y memoria que les toma a cada liena de código para ser ejecutada. Señale cuales son los procesos que mas tiempo consumen en la ejecución del Código, comentando si es posible mejorar el desempeño de la función.\n",
    "\n",
    "**TO-DO:**\n",
    "- [ ] Estudiar la función propuesta por el equipo docente.\n",
    "- [ ] Estudiar los tiempos de ejecución del código a través de un perfilador.\n",
    "- [ ] Estudiar la memoria ocupada por el código a través de un perfilador.\n",
    "- [ ] Comente los resultados. ¿Qué lineas ocupan más memoria o más/menos tiempo?¿Por qué?"
   ]
  },
  {
   "cell_type": "code",
   "execution_count": 3,
   "metadata": {
    "cell_id": "00012-48fd53e5-c751-4583-b193-5f95afab5819",
    "deepnote_cell_height": 675,
    "deepnote_cell_type": "code",
    "deepnote_to_be_reexecuted": false,
    "executionInfo": {
     "elapsed": 7,
     "status": "ok",
     "timestamp": 1627484630449,
     "user": {
      "displayName": "IGNACIO ALEJANDRO MEZA",
      "photoUrl": "",
      "userId": "17011121633069169364"
     },
     "user_tz": 240
    },
    "execution_millis": 1,
    "execution_start": 1637947497504,
    "id": "R4PQbceVPJzh",
    "source_hash": "a55fad36"
   },
   "outputs": [],
   "source": [
    "def praw_reddit(nombre_subreddit=\"chile\", n_hot=1000):\n",
    "    reddit = praw.Reddit(\n",
    "        client_id=\"-w2hyFINxZ8T3g\",\n",
    "        client_secret=\"zGPCI4s3g6Ic6AsRi7vIpP0NoxbFdw\",\n",
    "        password=\"ClasesMDS7202\",\n",
    "        user_agent=\"Clases\",\n",
    "        username=\"DocenciaDataScience\",\n",
    "        check_for_async=False,\n",
    "    )\n",
    "    subreddit = reddit.subreddit(nombre_subreddit)\n",
    "\n",
    "    votes, post, url = {}, {}, {}\n",
    "    top_submissions = list(subreddit.hot(limit=n_hot))\n",
    "    for it, top_n in enumerate(range(50, len(top_submissions), 50)):\n",
    "        top_n_submissions = top_submissions[:top_n]\n",
    "        upvotes, downvotes, url[it], post[it] = [], [], [], []\n",
    "\n",
    "        for submission in top_n_submissions:\n",
    "            try:\n",
    "                ratio = submission.upvote_ratio\n",
    "                ups = int(\n",
    "                    round((ratio * submission.score) / (2 * ratio - 1))\n",
    "                    if ratio != 0.5\n",
    "                    else round(submission.score / 2)\n",
    "                )\n",
    "                upvotes.append(ups)\n",
    "                downvotes.append(ups - submission.score)\n",
    "                post[it].append(submission.title)\n",
    "                url[it].append(submission.url)\n",
    "            except Exception as e:\n",
    "                continue\n",
    "        votes[it] = np.array([upvotes, downvotes]).T\n",
    "    return votes, post, url\n"
   ]
  },
  {
   "cell_type": "code",
   "execution_count": 4,
   "metadata": {
    "cell_id": "00013-c9f108eb-9054-438f-9360-21669aced1bb",
    "deepnote_cell_height": 81,
    "deepnote_cell_type": "code",
    "deepnote_to_be_reexecuted": false,
    "executionInfo": {
     "elapsed": 14052,
     "status": "ok",
     "timestamp": 1627484649043,
     "user": {
      "displayName": "IGNACIO ALEJANDRO MEZA",
      "photoUrl": "",
      "userId": "17011121633069169364"
     },
     "user_tz": 240
    },
    "execution_millis": 11242,
    "execution_start": 1637947497523,
    "id": "v4rjrWf_pJHJ",
    "source_hash": "4b31fefe"
   },
   "outputs": [],
   "source": [
    "votes, post, url = praw_reddit()"
   ]
  },
  {
   "cell_type": "markdown",
   "metadata": {},
   "source": [
    "### Estudiando los tiempos:"
   ]
  },
  {
   "cell_type": "code",
   "execution_count": 5,
   "metadata": {
    "cell_id": "00014-ab26b98a-d355-4ce3-909a-c76ea78ab2b3",
    "deepnote_cell_height": 84,
    "deepnote_cell_type": "code"
   },
   "outputs": [
    {
     "name": "stdout",
     "output_type": "stream",
     "text": [
      "Timer unit: 1e-07 s\n",
      "\n",
      "Total time: 18.4988 s\n",
      "File: <ipython-input-3-bd47716803a4>\n",
      "Function: praw_reddit at line 1\n",
      "\n",
      "Line #      Hits         Time  Per Hit   % Time  Line Contents\n",
      "==============================================================\n",
      "     1                                           def praw_reddit(nombre_subreddit=\"chile\", n_hot=1000):\n",
      "     2         2       5006.0   2503.0      0.0      reddit = praw.Reddit(\n",
      "     3         1          8.0      8.0      0.0          client_id=\"-w2hyFINxZ8T3g\",\n",
      "     4         1          4.0      4.0      0.0          client_secret=\"zGPCI4s3g6Ic6AsRi7vIpP0NoxbFdw\",\n",
      "     5         1          4.0      4.0      0.0          password=\"ClasesMDS7202\",\n",
      "     6         1          4.0      4.0      0.0          user_agent=\"Clases\",\n",
      "     7         1          4.0      4.0      0.0          username=\"DocenciaDataScience\",\n",
      "     8         1          5.0      5.0      0.0          check_for_async=False,\n",
      "     9                                               )\n",
      "    10         1        178.0    178.0      0.0      subreddit = reddit.subreddit(nombre_subreddit)\n",
      "    11                                           \n",
      "    12         1          7.0      7.0      0.0      votes, post, url = {}, {}, {}\n",
      "    13         1  184344819.0 184344819.0     99.7      top_submissions = list(subreddit.hot(limit=n_hot))\n",
      "    14        19        286.0     15.1      0.0      for it, top_n in enumerate(range(50, len(top_submissions), 50)):\n",
      "    15        18       1118.0     62.1      0.0          top_n_submissions = top_submissions[:top_n]\n",
      "    16        18        899.0     49.9      0.0          upvotes, downvotes, url[it], post[it] = [], [], [], []\n",
      "    17                                           \n",
      "    18      8568      46562.0      5.4      0.0          for submission in top_n_submissions:\n",
      "    19      8550      42574.0      5.0      0.0              try:\n",
      "    20      8550      68410.0      8.0      0.0                  ratio = submission.upvote_ratio\n",
      "    21     17100      96502.0      5.6      0.1                  ups = int(\n",
      "    22                                                               round((ratio * submission.score) / (2 * ratio - 1))\n",
      "    23      8550      99666.0     11.7      0.1                      if ratio != 0.5\n",
      "    24       179       2301.0     12.9      0.0                      else round(submission.score / 2)\n",
      "    25                                                           )\n",
      "    26      8550      55156.0      6.5      0.0                  upvotes.append(ups)\n",
      "    27      8550      61096.0      7.1      0.0                  downvotes.append(ups - submission.score)\n",
      "    28      8550      73279.0      8.6      0.0                  post[it].append(submission.title)\n",
      "    29      8550      75569.0      8.8      0.0                  url[it].append(submission.url)\n",
      "    30                                                       except Exception as e:\n",
      "    31                                                           continue\n",
      "    32        18      14268.0    792.7      0.0          votes[it] = np.array([upvotes, downvotes]).T\n",
      "    33         1          8.0      8.0      0.0      return votes, post, url"
     ]
    }
   ],
   "source": [
    "%lprun -f praw_reddit praw_reddit()"
   ]
  },
  {
   "cell_type": "markdown",
   "metadata": {},
   "source": [
    "### Estudiando memoria"
   ]
  },
  {
   "cell_type": "code",
   "execution_count": 6,
   "metadata": {
    "collapsed": true,
    "jupyter": {
     "outputs_hidden": true
    },
    "tags": []
   },
   "outputs": [],
   "source": [
    "!pip install -q memory_profiler\n",
    "%load_ext memory_profiler"
   ]
  },
  {
   "cell_type": "code",
   "execution_count": 7,
   "metadata": {
    "tags": []
   },
   "outputs": [
    {
     "name": "stdout",
     "output_type": "stream",
     "text": [
      "peak memory: 197.81 MiB, increment: 5.57 MiB\n"
     ]
    }
   ],
   "source": [
    "%memit praw_reddit()"
   ]
  },
  {
   "cell_type": "markdown",
   "metadata": {
    "jupyter": {
     "source_hidden": true
    },
    "tags": []
   },
   "source": [
    "Creando modulo:"
   ]
  },
  {
   "cell_type": "code",
   "execution_count": 8,
   "metadata": {
    "collapsed": true,
    "jupyter": {
     "outputs_hidden": true,
     "source_hidden": true
    },
    "tags": []
   },
   "outputs": [
    {
     "name": "stdout",
     "output_type": "stream",
     "text": [
      "Overwriting praw_reddit_module.py\n"
     ]
    }
   ],
   "source": [
    "%%file praw_reddit_module.py\n",
    "import praw\n",
    "import numpy as np\n",
    "\n",
    "def praw_reddit(nombre_subreddit=\"chile\", n_hot=1000):\n",
    "    reddit = praw.Reddit(\n",
    "        client_id=\"-w2hyFINxZ8T3g\",\n",
    "        client_secret=\"zGPCI4s3g6Ic6AsRi7vIpP0NoxbFdw\",\n",
    "        password=\"ClasesMDS7202\",\n",
    "        user_agent=\"Clases\",\n",
    "        username=\"DocenciaDataScience\",\n",
    "        check_for_async=False,\n",
    "    )\n",
    "    subreddit = reddit.subreddit(nombre_subreddit)\n",
    "\n",
    "    votes, post, url = {}, {}, {}\n",
    "    top_submissions = list(subreddit.hot(limit=n_hot))\n",
    "    for it, top_n in enumerate(range(50, len(top_submissions), 50)):\n",
    "        top_n_submissions = top_submissions[:top_n]\n",
    "        upvotes, downvotes, url[it], post[it] = [], [], [], []\n",
    "\n",
    "        for submission in top_n_submissions:\n",
    "            try:\n",
    "                ratio = submission.upvote_ratio\n",
    "                ups = int(\n",
    "                    round((ratio * submission.score) / (2 * ratio - 1))\n",
    "                    if ratio != 0.5\n",
    "                    else round(submission.score / 2)\n",
    "                )\n",
    "                upvotes.append(ups)\n",
    "                downvotes.append(ups - submission.score)\n",
    "                post[it].append(submission.title)\n",
    "                url[it].append(submission.url)\n",
    "            except Exception as e:\n",
    "                continue\n",
    "        votes[it] = np.array([upvotes, downvotes]).T\n",
    "    return votes, post, url"
   ]
  },
  {
   "cell_type": "code",
   "execution_count": 9,
   "metadata": {},
   "outputs": [
    {
     "name": "stdout",
     "output_type": "stream",
     "text": [
      "\n"
     ]
    },
    {
     "name": "stdout",
     "output_type": "stream",
     "text": [
      "Filename: c:\\Users\\ngati\\Downloads\\praw_reddit_module.py\n",
      "\n",
      "Line #    Mem usage    Increment  Occurrences   Line Contents\n",
      "=============================================================\n",
      "     4    194.1 MiB    194.1 MiB           1   def praw_reddit(nombre_subreddit=\"chile\", n_hot=1000):\n",
      "     5    194.1 MiB      0.0 MiB           2       reddit = praw.Reddit(\n",
      "     6    194.1 MiB      0.0 MiB           1           client_id=\"-w2hyFINxZ8T3g\",\n",
      "     7    194.1 MiB      0.0 MiB           1           client_secret=\"zGPCI4s3g6Ic6AsRi7vIpP0NoxbFdw\",\n",
      "     8    194.1 MiB      0.0 MiB           1           password=\"ClasesMDS7202\",\n",
      "     9    194.1 MiB      0.0 MiB           1           user_agent=\"Clases\",\n",
      "    10    194.1 MiB      0.0 MiB           1           username=\"DocenciaDataScience\",\n",
      "    11    194.1 MiB      0.0 MiB           1           check_for_async=False,\n",
      "    12                                             )\n",
      "    13    194.1 MiB      0.0 MiB           1       subreddit = reddit.subreddit(nombre_subreddit)\n",
      "    14                                         \n",
      "    15    194.1 MiB      0.0 MiB           1       votes, post, url = {}, {}, {}\n",
      "    16    200.1 MiB      5.9 MiB           1       top_submissions = list(subreddit.hot(limit=n_hot))\n",
      "    17    200.1 MiB      0.0 MiB          19       for it, top_n in enumerate(range(50, len(top_submissions), 50)):\n",
      "    18    200.1 MiB      0.0 MiB          18           top_n_submissions = top_submissions[:top_n]\n",
      "    19    200.1 MiB      0.0 MiB          18           upvotes, downvotes, url[it], post[it] = [], [], [], []\n",
      "    20                                         \n",
      "    21    200.1 MiB      0.0 MiB        8568           for submission in top_n_submissions:\n",
      "    22    200.1 MiB      0.0 MiB        8550               try:\n",
      "    23    200.1 MiB      0.0 MiB        8550                   ratio = submission.upvote_ratio\n",
      "    24    200.1 MiB      0.0 MiB       17100                   ups = int(\n",
      "    25                                                             round((ratio * submission.score) / (2 * ratio - 1))\n",
      "    26    200.1 MiB      0.0 MiB        8550                       if ratio != 0.5\n",
      "    27    200.1 MiB      0.0 MiB         200                       else round(submission.score / 2)\n",
      "    28                                                         )\n",
      "    29    200.1 MiB      0.0 MiB        8550                   upvotes.append(ups)\n",
      "    30    200.1 MiB      0.0 MiB        8550                   downvotes.append(ups - submission.score)\n",
      "    31    200.1 MiB      0.0 MiB        8550                   post[it].append(submission.title)\n",
      "    32    200.1 MiB      0.0 MiB        8550                   url[it].append(submission.url)\n",
      "    33                                                     except Exception as e:\n",
      "    34                                                         continue\n",
      "    35    200.1 MiB      0.0 MiB          18           votes[it] = np.array([upvotes, downvotes]).T\n",
      "    36    200.1 MiB      0.0 MiB           1       return votes, post, url"
     ]
    }
   ],
   "source": [
    "from praw_reddit_module import praw_reddit\n",
    "%mprun -f praw_reddit praw_reddit()"
   ]
  },
  {
   "cell_type": "markdown",
   "metadata": {
    "cell_id": "00015-ba1d4036-9f0c-49c7-885f-be416a89deb8",
    "deepnote_cell_height": 52.390625,
    "deepnote_cell_type": "markdown",
    "id": "-diI_GpXmzqS"
   },
   "source": [
    "**Respuesta:**"
   ]
  },
  {
   "cell_type": "markdown",
   "metadata": {
    "cell_id": "00016-64888967-a91d-455b-9d60-d105f449ae74",
    "deepnote_cell_height": 52.390625,
    "deepnote_cell_type": "markdown",
    "id": "6gdqQBi1m_cu"
   },
   "source": [
    "```Señale cuales son los procesos que mas tiempo consumen en la ejecución del Código, comentando si es posible mejorar el desempeño de la función.```\n",
    "\n",
    "En cuanto a los tiempos de la función, el primer proceso que más tarda en la ejecución del código corresponde a la obtención y creación de la lista de los n_hot posts en el subreddit de Chile, lo cual puede ser mejorado si es que existe alguna forma de convertir a lista las submisiones de forma más eficiente (dependerá de la librería) o guardar esta misma en la memoria cache.\n",
    "\n",
    "Luego, lo segundo que más tarda, es al momento de trabajar con las submisiones en un doble ciclo de for's, sobre todo al ejecutar el segundo for que calcula la cantidad de upvotes de cada submisión (la forma de calcular upvotes es lo que más tarda dada la utilización de if else). Es este doble for lo que se puede mejorar tratando de aplicar las operaciones de forma paralela para todos los valores al aprovechar las transformaciones que se pueden realizar a un array.\n",
    "\n",
    "```Comente los resultados. ¿Qué lineas ocupan más memoria o más/menos tiempo?¿Por qué?```\n",
    "\n",
    "En cuanto a la memoria, se puede observar un uso de memoria en torno a 230 MB, en dónde la mayor parte esta asociada a la ejecución completa de la función, teniendo sólamente un incremento de 9MB en la creación de la lista de los n_hot posts en el subreddit de Chile, que tambien corresponde a lo que toma más tiempo dentro de la función, por lo que el principal objetivo sería tratar esta línea de ejecución."
   ]
  },
  {
   "cell_type": "markdown",
   "metadata": {
    "cell_id": "00017-2673822e-79de-4fbe-86af-5fd583216f57",
    "deepnote_cell_height": 70,
    "deepnote_cell_type": "markdown",
    "id": "tNDS2OpFnMnH"
   },
   "source": [
    "## 1.2 LRU y Análisis de Tiempo con Cache [1 Punto]"
   ]
  },
  {
   "cell_type": "markdown",
   "metadata": {
    "cell_id": "00018-d9701b8d-f3fe-4cd1-9f59-295dfdaeca48",
    "deepnote_cell_height": 380.796875,
    "deepnote_cell_type": "markdown",
    "id": "i3nsxCbAna4t"
   },
   "source": [
    "Respondan las siguientes preguntas:\n",
    "\n",
    "1.\t¿Qué es la memoria cache y a que se refiere las siglas LRU?\n",
    "2.\t¿Cuáles son los costos que tiene la aplicación de técnicas de Caching?\n",
    "3. ¿Cuál es la consecuencía de ocupar caching en la función anterior?.\n",
    "\n",
    "Respondidas las preguntas, se le solicita que aplique alguna técnica de caching para mejorar el desempeño de la función `praw_reddit`. Para esto compare solo el tiempo de ejecución del algoritmo con y sin caching, señalando el tiempo total de ejecución y el tiempo promedio que le toma ejecutar cada loop a la función. Con lo anterior, ¿es posible visualizar mejoras en este caso?.\n",
    "\n",
    "\n",
    "**TO-DO:**\n",
    "- [ ] Responder las preguntas.\n",
    "- [ ] Mejorar el código con cache.\n",
    "- [ ] Explicar las consecuencias de usar lru_cache sobre praw_reddit"
   ]
  },
  {
   "cell_type": "markdown",
   "metadata": {
    "cell_id": "00019-26287e8f-b23a-4e51-9645-b9fb99a93eea",
    "deepnote_cell_height": 52.390625,
    "deepnote_cell_type": "markdown",
    "id": "fbQPpvYorOAF"
   },
   "source": [
    "**Respuestas Teóricas:**"
   ]
  },
  {
   "cell_type": "markdown",
   "metadata": {
    "cell_id": "00020-9507e876-349d-4beb-94e8-c7adc0bbc210",
    "deepnote_cell_height": 52.390625,
    "deepnote_cell_type": "markdown",
    "id": "RKfLXDs_rO-w"
   },
   "source": [
    "`Escriba su respuesta aquí`\n",
    "1.\t¿Qué es la memoria cache y a que se refiere las siglas LRU?\n",
    "\n",
    "R: La memoria cache es una memoria que permite almacenar en el disco o en la RAM aquellos resultados de procesos previos con la finalidad de ser utilizados más adelante. Las siglas LRU hacen referencia a la oración en inglés Least Recently Used, y esto se refiere principalmente al orden de ejecución en el cual se almacenarán los procesos en la memoria cache.\n",
    "\n",
    "2.\t¿Cuáles son los costos que tiene la aplicación de técnicas de Caching?\n",
    "\n",
    "R: Los costos que tiene la aplicación de técnicas de Caching vienen principalmente relacionadas al aumento en el uso de la memoria. Esto puede conllevar problemas debido a que la memoria cuenta con ciertas limitaciones dadas por las especificaciones de cada equipo.\n",
    "\n",
    "3.\t¿Cuál es la consecuencía de ocupar caching en la función anterior?.\n",
    "\n",
    "R: Dentro de la función anterior el uso de memoria se encontraba cerca de los 230 MB y el uso de técnicas de caching aumentaría el uso en memoria cache con el fin de acceder de forma más rápida a la lista. Esto trae como consecuencia que se ocupa una cantidad no mínima de su espacio la cual no queda disponible para ser utilizado en otras ejecuciones."
   ]
  },
  {
   "cell_type": "code",
   "execution_count": 19,
   "metadata": {
    "cell_id": "00021-ed8c6162-10ed-414a-a7c0-e5eed7d2715e",
    "deepnote_cell_height": 66,
    "deepnote_cell_type": "code",
    "id": "X0u4WU11rLJd"
   },
   "outputs": [],
   "source": [
    "###### Código Aquí ######\n",
    "def praw_reddit(nombre_subreddit=\"chile\", n_hot=1000):\n",
    "    reddit = praw.Reddit(\n",
    "        client_id=\"-w2hyFINxZ8T3g\",\n",
    "        client_secret=\"zGPCI4s3g6Ic6AsRi7vIpP0NoxbFdw\",\n",
    "        password=\"ClasesMDS7202\",\n",
    "        user_agent=\"Clases\",\n",
    "        username=\"DocenciaDataScience\",\n",
    "        check_for_async=False,\n",
    "    )\n",
    "        \n",
    "    subreddit  = reddit.subreddit(nombre_subreddit)\n",
    "\n",
    "    votes, post, url = {}, {}, {}\n",
    "    top_submissions = list(subreddit.hot(limit = n_hot))\n",
    "    for it, top_n in enumerate(range(50, len(top_submissions),50)):\n",
    "        top_n_submissions = top_submissions[:top_n]\n",
    "        \n",
    "    upvotes, downvotes, url[it], post[it] = [], [], [], []\n",
    "\n",
    "    for submission in top_n_submissions:\n",
    "        try:\n",
    "            ratio = submission.upvote_ratio\n",
    "            ups = int(round((ratio*submission.score)/(2*ratio - 1)) if ratio != 0.5 else round(submission.score/2))\n",
    "            upvotes.append(ups)\n",
    "            downvotes.append(ups - submission.score)\n",
    "            post[it].append(submission.title)\n",
    "            url[it].append(submission.url)\n",
    "        except Exception as e:\n",
    "            continue\n",
    "    votes[it] = np.array([upvotes, downvotes]).T\n",
    "    return votes, post, url"
   ]
  },
  {
   "cell_type": "code",
   "execution_count": 11,
   "metadata": {},
   "outputs": [
    {
     "name": "stdout",
     "output_type": "stream",
     "text": [
      "18.1 s ± 267 ms per loop (mean ± std. dev. of 7 runs, 1 loop each)\n"
     ]
    }
   ],
   "source": [
    "%%timeit\n",
    "praw_reddit()"
   ]
  },
  {
   "cell_type": "code",
   "execution_count": 12,
   "metadata": {},
   "outputs": [],
   "source": [
    "@lru_cache\n",
    "def praw_reddit(nombre_subreddit=\"chile\", n_hot=1000):\n",
    "    reddit = praw.Reddit(\n",
    "        client_id=\"-w2hyFINxZ8T3g\",\n",
    "        client_secret=\"zGPCI4s3g6Ic6AsRi7vIpP0NoxbFdw\",\n",
    "        password=\"ClasesMDS7202\",\n",
    "        user_agent=\"Clases\",\n",
    "        username=\"DocenciaDataScience\",\n",
    "        check_for_async=False,\n",
    "    )\n",
    "        \n",
    "    subreddit  = reddit.subreddit(nombre_subreddit)\n",
    "\n",
    "    votes, post, url = {}, {}, {}\n",
    "    top_submissions = list(subreddit.hot(limit = n_hot))\n",
    "    for it, top_n in enumerate(range(50, len(top_submissions),50)):\n",
    "        top_n_submissions = top_submissions[:top_n]\n",
    "        \n",
    "    upvotes, downvotes, url[it], post[it] = [], [], [], []\n",
    "\n",
    "    for submission in top_n_submissions:\n",
    "        try:\n",
    "            ratio = submission.upvote_ratio\n",
    "            ups = int(round((ratio*submission.score)/(2*ratio - 1)) if ratio != 0.5 else round(submission.score/2))\n",
    "            upvotes.append(ups)\n",
    "            downvotes.append(ups - submission.score)\n",
    "            post[it].append(submission.title)\n",
    "            url[it].append(submission.url)\n",
    "        except Exception as e:\n",
    "            continue\n",
    "    votes[it] = np.array([upvotes, downvotes]).T\n",
    "    return votes, post, url"
   ]
  },
  {
   "cell_type": "code",
   "execution_count": 15,
   "metadata": {},
   "outputs": [
    {
     "name": "stdout",
     "output_type": "stream",
     "text": [
      "Timer unit: 1e-07 s"
     ]
    }
   ],
   "source": [
    "%lprun -f praw_reddit praw_reddit()"
   ]
  },
  {
   "cell_type": "code",
   "execution_count": 37,
   "metadata": {},
   "outputs": [
    {
     "name": "stdout",
     "output_type": "stream",
     "text": [
      "The slowest run took 6.50 times longer than the fastest. This could mean that an intermediate result is being cached.\n",
      "443 ns ± 354 ns per loop (mean ± std. dev. of 7 runs, 1 loop each)\n"
     ]
    }
   ],
   "source": [
    "%%timeit\n",
    "praw_reddit()"
   ]
  },
  {
   "cell_type": "markdown",
   "metadata": {
    "cell_id": "00022-f295ab8f-b06d-4171-90b7-73dabfe0598d",
    "deepnote_cell_height": 52.390625,
    "deepnote_cell_type": "markdown"
   },
   "source": [
    "**Respuesta de lru_cache sobre praw_reddit**"
   ]
  },
  {
   "cell_type": "markdown",
   "metadata": {
    "cell_id": "00023-56264983-6b36-48c6-a43c-19d19702f8f4",
    "deepnote_cell_height": 52.390625,
    "deepnote_cell_type": "markdown"
   },
   "source": [
    "`Como se ve, al utilizar LRU cache se baja el tiempo de ejecución de segundos a menos de un segundo,esto es debido a que este decorador permite memorizar las submisiones con las que se trabajan y que era lo que más tardaba en un inicio.`"
   ]
  },
  {
   "cell_type": "markdown",
   "metadata": {
    "cell_id": "00024-87380659-431c-4ae7-9d12-6647f21ca9ff",
    "deepnote_cell_height": 542.5625,
    "deepnote_cell_type": "markdown",
    "id": "2pS26u-trdg6"
   },
   "source": [
    "## 1.3 Obtención de Mean Posterior y Standard Error [1 Punto]\n",
    "\n",
    "Una forma de obtener la mean posterior y el Standard Error de los datos de reddit es aplicando un atajo de inferencia estadística. Este atajo se define de la siguiente forma:\n",
    "\n",
    "Sea **u** los votos positivos y **d** los votos negativos del subreddit, tendremos que:\n",
    "\n",
    "$$a = 1+u$$\n",
    "\n",
    "$$b = 1+d$$\n",
    "\n",
    "$$\\sigma= 1.65\\sqrt(\\dfrac{ab}{(a + b)^2(a + b + 1)})$$\n",
    "\n",
    "$$\\mu = \\dfrac{a}{a+b}$$\n",
    "\n",
    "Donde $\\mu$ es la mean posterior y $\\sigma$ el standard error.\n",
    "\n",
    "Con lo anterior, genere dos funciones que tengan como salida $\\mu$ y $\\sigma$ de acuerdo a las ecuaciones señaladas. La primera función, deberá ser construida sin el uso de numpy, aplicando for y aplicando comandos nativos de Python. Por otro lado, deberá generar una segunda función con el uso exclusivo de numpy. **OJO** que las funciones deben tener como entrada solo un elemento del diccionario votes (por ejemplo `votes[1]`), por lo que estas no deben tener como entrada el conjunto completo de datos."
   ]
  },
  {
   "cell_type": "code",
   "execution_count": 31,
   "metadata": {
    "cell_id": "00025-f63243e1-47cb-4c2c-be14-9c38dcbd24bb",
    "deepnote_cell_height": 81,
    "deepnote_cell_type": "code",
    "deepnote_to_be_reexecuted": false,
    "executionInfo": {
     "elapsed": 317,
     "status": "ok",
     "timestamp": 1627484660287,
     "user": {
      "displayName": "IGNACIO ALEJANDRO MEZA",
      "photoUrl": "",
      "userId": "17011121633069169364"
     },
     "user_tz": 240
    },
    "execution_millis": 15,
    "execution_start": 1637947536256,
    "id": "ahzpJ-Sk0DOD",
    "source_hash": "b9b21217"
   },
   "outputs": [],
   "source": [
    "###### Código Aquí ######\n",
    "import math \n",
    "def intervalos(u, d):\n",
    "    mu = []\n",
    "    sigma = []\n",
    "    for i in range(len(u)):\n",
    "        a = 1 + u[i]\n",
    "        b = 1 + d[i]\n",
    "        sigma.append(1.65 * math.sqrt(a*b/(((a+b)**2)*(a+b+1))))\n",
    "        mu.append(a/(a+b))\n",
    "    return mu,sigma\n",
    "    \n",
    "\n",
    "\n",
    "def intervalos_numpy(u, d):\n",
    "    a = 1 + u\n",
    "    b = 1 + d\n",
    "    sigma = 1.65 * np.sqrt(a*b/(((a+b)**2)*(a+b+1)))\n",
    "    mu = a/(a+b)\n",
    "    return mu,sigma"
   ]
  },
  {
   "cell_type": "code",
   "execution_count": 33,
   "metadata": {},
   "outputs": [],
   "source": [
    "votes_in = votes[1]"
   ]
  },
  {
   "cell_type": "code",
   "execution_count": 8,
   "metadata": {},
   "outputs": [
    {
     "name": "stdout",
     "output_type": "stream",
     "text": [
      "151 µs ± 784 ns per loop (mean ± std. dev. of 7 runs, 10000 loops each)\n"
     ]
    }
   ],
   "source": [
    "%timeit intervalos(votes_in[:, 0], votes_in[:, 1])"
   ]
  },
  {
   "cell_type": "code",
   "execution_count": 23,
   "metadata": {},
   "outputs": [
    {
     "name": "stdout",
     "output_type": "stream",
     "text": [
      "11.1 µs ± 110 ns per loop (mean ± std. dev. of 7 runs, 100000 loops each)\n"
     ]
    }
   ],
   "source": [
    "%timeit intervalos_numpy(votes_in[:, 0], votes_in[:, 1])"
   ]
  },
  {
   "cell_type": "code",
   "execution_count": 24,
   "metadata": {},
   "outputs": [
    {
     "data": {
      "text/plain": [
       "([0.5398230088495575,\n",
       "  0.8175675675675675,\n",
       "  0.9463414634146341,\n",
       "  0.9021739130434783,\n",
       "  0.9732142857142857,\n",
       "  0.9117647058823529,\n",
       "  0.9111111111111111,\n",
       "  0.9473684210526315,\n",
       "  0.9166666666666666,\n",
       "  0.9384615384615385,\n",
       "  0.927710843373494,\n",
       "  0.8640776699029126,\n",
       "  0.8258426966292135,\n",
       "  0.8461538461538461,\n",
       "  0.8235294117647058,\n",
       "  0.8860103626943006,\n",
       "  0.9508196721311475,\n",
       "  0.9483568075117371,\n",
       "  0.875,\n",
       "  0.875,\n",
       "  0.8974358974358975,\n",
       "  0.9786200194363459,\n",
       "  0.9763513513513513,\n",
       "  0.8222222222222222,\n",
       "  0.7692307692307693,\n",
       "  0.5982142857142857,\n",
       "  0.8611111111111112,\n",
       "  0.9454545454545454,\n",
       "  0.8571428571428571,\n",
       "  0.8333333333333334,\n",
       "  0.75,\n",
       "  0.7142857142857143,\n",
       "  0.9557522123893806,\n",
       "  0.75,\n",
       "  0.9887323943661972,\n",
       "  0.8878048780487805,\n",
       "  0.9183098591549296,\n",
       "  0.6666666666666666,\n",
       "  0.9047619047619048,\n",
       "  0.9278350515463918,\n",
       "  0.8157894736842105,\n",
       "  0.9803921568627451,\n",
       "  0.9379699248120301,\n",
       "  0.5454545454545454,\n",
       "  0.7161290322580646,\n",
       "  0.5625,\n",
       "  0.8,\n",
       "  0.7142857142857143,\n",
       "  0.8867924528301887,\n",
       "  0.5774647887323944,\n",
       "  0.7764705882352941,\n",
       "  0.5833333333333334,\n",
       "  0.954248366013072,\n",
       "  0.9183673469387755,\n",
       "  0.625,\n",
       "  0.5714285714285714,\n",
       "  0.6571428571428571,\n",
       "  0.927536231884058,\n",
       "  0.8775510204081632,\n",
       "  0.9069767441860465,\n",
       "  0.8157894736842105,\n",
       "  0.782608695652174,\n",
       "  0.9375,\n",
       "  0.5333333333333333,\n",
       "  0.875,\n",
       "  0.8951048951048951,\n",
       "  0.8181818181818182,\n",
       "  0.941747572815534,\n",
       "  0.8918918918918919,\n",
       "  0.5263157894736842,\n",
       "  0.8045112781954887,\n",
       "  0.8372093023255814,\n",
       "  0.7843137254901961,\n",
       "  0.7241379310344828,\n",
       "  0.9506172839506173,\n",
       "  0.5098039215686274,\n",
       "  0.5,\n",
       "  0.7096774193548387,\n",
       "  0.5,\n",
       "  0.71875,\n",
       "  0.9102564102564102,\n",
       "  0.8780487804878049,\n",
       "  0.9672489082969432,\n",
       "  0.7391304347826086,\n",
       "  0.8181818181818182,\n",
       "  0.9047619047619048,\n",
       "  0.9024390243902439,\n",
       "  0.7692307692307693,\n",
       "  0.954954954954955,\n",
       "  0.9230769230769231,\n",
       "  0.5,\n",
       "  0.9032258064516129,\n",
       "  0.8787878787878788,\n",
       "  0.5483870967741935,\n",
       "  0.5714285714285714,\n",
       "  0.5555555555555556,\n",
       "  0.9459459459459459,\n",
       "  0.94,\n",
       "  0.5,\n",
       "  0.9318181818181818],\n",
       " [0.054583221163153985,\n",
       "  0.03697588448707033,\n",
       "  0.025905601495839273,\n",
       "  0.05082939534905667,\n",
       "  0.025061125776221087,\n",
       "  0.0791065563436412,\n",
       "  0.0692332052917951,\n",
       "  0.04198761759921718,\n",
       "  0.05838941488396508,\n",
       "  0.04880828332066248,\n",
       "  0.04662160243197987,\n",
       "  0.0554484066655691,\n",
       "  0.04677103070880114,\n",
       "  0.11456977237307123,\n",
       "  0.10632261410394402,\n",
       "  0.037647415383940286,\n",
       "  0.045314050946140653,\n",
       "  0.017671053045678335,\n",
       "  0.10913724158141437,\n",
       "  0.13234834550844798,\n",
       "  0.07915044472021798,\n",
       "  0.0074366275774990385,\n",
       "  0.01454829001186381,\n",
       "  0.0930118687559206,\n",
       "  0.13378867023789298,\n",
       "  0.07609749452152478,\n",
       "  0.09380941560662477,\n",
       "  0.025205041512504172,\n",
       "  0.0962299541807677,\n",
       "  0.23241742005034202,\n",
       "  0.1732846603984662,\n",
       "  0.26353658306247524,\n",
       "  0.02252109238047048,\n",
       "  0.2381569860407206,\n",
       "  0.006531370866114761,\n",
       "  0.025686727839052532,\n",
       "  0.023951812935431173,\n",
       "  0.2939873661036668,\n",
       "  0.0470439213420072,\n",
       "  0.043129005782537706,\n",
       "  0.10242309874751107,\n",
       "  0.022541362227081748,\n",
       "  0.017239154034018583,\n",
       "  0.23717082451262841,\n",
       "  0.059563166064447136,\n",
       "  0.198522518262672,\n",
       "  0.07570719217728537,\n",
       "  0.1924599083615354,\n",
       "  0.07114358547585989,\n",
       "  0.0960532143971899,\n",
       "  0.07412497520935,\n",
       "  0.22561347988915093,\n",
       "  0.027781622186872062,\n",
       "  0.04540529685976936,\n",
       "  0.2662676050517599,\n",
       "  0.2886898625423031,\n",
       "  0.09294826051053598,\n",
       "  0.0511282375832464,\n",
       "  0.07649141853526899,\n",
       "  0.027578733383751684,\n",
       "  0.10242309874751107,\n",
       "  0.09927237999441263,\n",
       "  0.021756781021111404,\n",
       "  0.20579115627256678,\n",
       "  0.05784262235302058,\n",
       "  0.04213250442347432,\n",
       "  0.10914103126634984,\n",
       "  0.0378958403573188,\n",
       "  0.08311461307505698,\n",
       "  0.18421992457228473,\n",
       "  0.05652732926095159,\n",
       "  0.09183102265875476,\n",
       "  0.09411057665750198,\n",
       "  0.13464181575330159,\n",
       "  0.03947911034842064,\n",
       "  0.11438492048605915,\n",
       "  0.4763139720814412,\n",
       "  0.09435926965845581,\n",
       "  0.4763139720814412,\n",
       "  0.12914041231833664,\n",
       "  0.05305838054385597,\n",
       "  0.08331279314011349,\n",
       "  0.01370754297346059,\n",
       "  0.14789400613628564,\n",
       "  0.18371173070873834,\n",
       "  0.10326308782000686,\n",
       "  0.04396631859338405,\n",
       "  0.13378867023789298,\n",
       "  0.03233626750217214,\n",
       "  0.06039392845084328,\n",
       "  0.4763139720814412,\n",
       "  0.08623566251913685,\n",
       "  0.09235481451827988,\n",
       "  0.14515624991249135,\n",
       "  0.17408653724219914,\n",
       "  0.2592724864350674,\n",
       "  0.06052564717233451,\n",
       "  0.03899085955339881,\n",
       "  0.4763139720814412,\n",
       "  0.04408479444347671])"
      ]
     },
     "execution_count": 24,
     "metadata": {},
     "output_type": "execute_result"
    }
   ],
   "source": [
    "intervalos(votes_in[:, 0], votes_in[:, 1])"
   ]
  },
  {
   "cell_type": "code",
   "execution_count": 32,
   "metadata": {},
   "outputs": [
    {
     "data": {
      "text/plain": [
       "(array([0.53982301, 0.81756757, 0.94634146, 0.90217391, 0.97321429,\n",
       "        0.91176471, 0.91111111, 0.94736842, 0.91666667, 0.93846154,\n",
       "        0.92771084, 0.86407767, 0.8258427 , 0.84615385, 0.82352941,\n",
       "        0.88601036, 0.95081967, 0.94835681, 0.875     , 0.875     ,\n",
       "        0.8974359 , 0.97862002, 0.97635135, 0.82222222, 0.76923077,\n",
       "        0.59821429, 0.86111111, 0.94545455, 0.85714286, 0.83333333,\n",
       "        0.75      , 0.71428571, 0.95575221, 0.75      , 0.98873239,\n",
       "        0.88780488, 0.91830986, 0.66666667, 0.9047619 , 0.92783505,\n",
       "        0.81578947, 0.98039216, 0.93796992, 0.54545455, 0.71612903,\n",
       "        0.5625    , 0.8       , 0.71428571, 0.88679245, 0.57746479,\n",
       "        0.77647059, 0.58333333, 0.95424837, 0.91836735, 0.625     ,\n",
       "        0.57142857, 0.65714286, 0.92753623, 0.87755102, 0.90697674,\n",
       "        0.81578947, 0.7826087 , 0.9375    , 0.53333333, 0.875     ,\n",
       "        0.8951049 , 0.81818182, 0.94174757, 0.89189189, 0.52631579,\n",
       "        0.80451128, 0.8372093 , 0.78431373, 0.72413793, 0.95061728,\n",
       "        0.50980392, 0.5       , 0.70967742, 0.5       , 0.71875   ,\n",
       "        0.91025641, 0.87804878, 0.96724891, 0.73913043, 0.81818182,\n",
       "        0.9047619 , 0.90243902, 0.76923077, 0.95495495, 0.92307692,\n",
       "        0.5       , 0.90322581, 0.87878788, 0.5483871 , 0.57142857,\n",
       "        0.55555556, 0.94594595, 0.94      , 0.5       , 0.93181818]),\n",
       " array([0.05458322, 0.03697588, 0.0259056 , 0.0508294 , 0.02506113,\n",
       "        0.07910656, 0.06923321, 0.04198762, 0.05838941, 0.04880828,\n",
       "        0.0466216 , 0.05544841, 0.04677103, 0.11456977, 0.10632261,\n",
       "        0.03764742, 0.04531405, 0.01767105, 0.10913724, 0.13234835,\n",
       "        0.07915044, 0.00743663, 0.01454829, 0.09301187, 0.13378867,\n",
       "        0.07609749, 0.09380942, 0.02520504, 0.09622995, 0.23241742,\n",
       "        0.17328466, 0.26353658, 0.02252109, 0.23815699, 0.00653137,\n",
       "        0.02568673, 0.02395181, 0.29398737, 0.04704392, 0.04312901,\n",
       "        0.1024231 , 0.02254136, 0.01723915, 0.23717082, 0.05956317,\n",
       "        0.19852252, 0.07570719, 0.19245991, 0.07114359, 0.09605321,\n",
       "        0.07412498, 0.22561348, 0.02778162, 0.0454053 , 0.26626761,\n",
       "        0.28868986, 0.09294826, 0.05112824, 0.07649142, 0.02757873,\n",
       "        0.1024231 , 0.09927238, 0.02175678, 0.20579116, 0.05784262,\n",
       "        0.0421325 , 0.10914103, 0.03789584, 0.08311461, 0.18421992,\n",
       "        0.05652733, 0.09183102, 0.09411058, 0.13464182, 0.03947911,\n",
       "        0.11438492, 0.47631397, 0.09435927, 0.47631397, 0.12914041,\n",
       "        0.05305838, 0.08331279, 0.01370754, 0.14789401, 0.18371173,\n",
       "        0.10326309, 0.04396632, 0.13378867, 0.03233627, 0.06039393,\n",
       "        0.47631397, 0.08623566, 0.09235481, 0.14515625, 0.17408654,\n",
       "        0.25927249, 0.06052565, 0.03899086, 0.47631397, 0.04408479]))"
      ]
     },
     "execution_count": 32,
     "metadata": {},
     "output_type": "execute_result"
    }
   ],
   "source": [
    "intervalos_numpy(votes_in[:, 0], votes_in[:, 1])"
   ]
  },
  {
   "cell_type": "markdown",
   "metadata": {
    "cell_id": "00026-42ed3992-3ac8-4452-b6f1-031bb91fa5e6",
    "deepnote_cell_height": 352,
    "deepnote_cell_type": "markdown",
    "id": "VhHhiTRYwpGu",
    "owner_user_id": "badcc427-fd3d-4615-9296-faa43ec69cfb"
   },
   "source": [
    "## 1.4 Comparación de Rendimiento [2 Puntos]\n",
    "\n",
    "Ahora, aplique el compilador **Numba** sobre las funciones 1.3 y compare el tiempo de ejecución con los obtenidos sin el compilador. \n",
    "\n",
    "Para esto genere un gráfico de linea utilizando plotly, en donde se pueda observar el tiempo que toma ejecutar cada función (el eje y) diferentes cantidades de datos (ejemplo, en el eje x considerar 100, 200, 300, ..., 1000 datos) sobre cada función implementada (series `Python`, `Numpy`, `Python-JIT`, `Numpy-JIT`). ¿Es posible observar diferencias? ¿A qué se debe esto?.\n",
    "\n",
    "**Nota:** Ejecuten las funciones compiladas con algún ejemplo antes de graficar. De lo contrario, les indicará el tiempo de compilación, cosa que no queremos medir\n",
    "\n",
    "**Nota 2**: En el caso que su computador sea muy rápido, se recomienda graficar el eje y (tiempo) como logaritmo usando `log_y=True`.\n"
   ]
  },
  {
   "cell_type": "code",
   "execution_count": 29,
   "metadata": {
    "cell_id": "00027-a686fa21-e957-40c6-8fd1-a6fef560928c",
    "deepnote_cell_height": 66,
    "deepnote_cell_type": "code",
    "executionInfo": {
     "elapsed": 2,
     "status": "ok",
     "timestamp": 1627484661131,
     "user": {
      "displayName": "IGNACIO ALEJANDRO MEZA",
      "photoUrl": "",
      "userId": "17011121633069169364"
     },
     "user_tz": 240
    },
    "id": "b02IokToxPpO"
   },
   "outputs": [],
   "source": [
    "###### Código Aquí ######\n",
    "import math \n",
    "@jit(nopython=True)\n",
    "def intervalos_JIT_py(u, d):\n",
    "    mu = []\n",
    "    sigma = []\n",
    "    for i in range(len(u)):\n",
    "        a = 1 + u[i]\n",
    "        b = 1 + d[i]\n",
    "        sigma.append(1.65 * math.sqrt(a*b/(((a+b)**2)*(a+b+1))))\n",
    "        mu.append(a/(a+b))\n",
    "    return mu,sigma\n",
    "    \n",
    "\n",
    "    \n",
    "@jit(nopython=True)\n",
    "def intervalos_numpy_JIT(u, d):\n",
    "    a = 1 + u\n",
    "    b = 1 + d\n",
    "    sigma = 1.65 * np.sqrt(a*b/(((a+b)**2)*(a+b+1)))\n",
    "    mu = a/(a+b)\n",
    "    return mu,sigma"
   ]
  },
  {
   "cell_type": "code",
   "execution_count": null,
   "metadata": {},
   "outputs": [],
   "source": [
    "intervalos_JIT_py(votes_in[:, 0], votes_in[:, 1])"
   ]
  },
  {
   "cell_type": "code",
   "execution_count": null,
   "metadata": {},
   "outputs": [],
   "source": [
    "intervalos_numpy_JIT(votes_in[:, 0], votes_in[:, 1])"
   ]
  },
  {
   "cell_type": "code",
   "execution_count": 35,
   "metadata": {},
   "outputs": [],
   "source": [
    "from timeit import timeit\n",
    "tiempos_py = []\n",
    "tiempos_numpy = []\n",
    "tiempos_JIT_py = []\n",
    "tiempos_numpy_JIT = []\n",
    "for i in range(0, 18, 1):\n",
    "    t_i = timeit(lambda: intervalos(votes[i][:, 0], votes[i][:, 1]), number=1)\n",
    "    tiempos_py.append(t_i)\n",
    "    t_i = timeit(lambda: intervalos_numpy(votes[i][:, 0], votes[i][:, 1]), number=1)\n",
    "    tiempos_numpy.append(t_i)\n",
    "    t_i = timeit(lambda: intervalos_JIT_py(votes[i][:, 0], votes[i][:, 1]), number=1)\n",
    "    tiempos_JIT_py.append(t_i)\n",
    "    t_i = timeit(lambda: intervalos_numpy_JIT(votes[i][:, 0], votes[i][:, 1]), number=1)\n",
    "    tiempos_numpy_JIT.append(t_i)\n"
   ]
  },
  {
   "cell_type": "code",
   "execution_count": 36,
   "metadata": {},
   "outputs": [
    {
     "name": "stdout",
     "output_type": "stream",
     "text": [
      "[0.00010009999994053942, 0.0001611000000139029, 0.00022850000004837057, 0.0003048999999464286, 0.00038530000006176124, 0.00045709999994869577, 0.0005316000000448184, 0.0006118000000014945, 0.0008589999999912834, 0.0008730999999215783, 0.0008289999999533393, 0.0009369999999080392, 0.0009767999999894528, 0.001064400000018395, 0.0011193999999932203, 0.0013639999999668362, 0.0014309000000594096, 0.0013899000000492379]\n",
      "[3.9100000094549614e-05, 3.270000001975859e-05, 3.049999997983832e-05, 1.940000004196918e-05, 2.4600000074315176e-05, 2.329999995254184e-05, 2.1800000013172394e-05, 2.6000000048043148e-05, 4.139999998642452e-05, 3.570000001218432e-05, 3.090000006977789e-05, 3.0700000024808105e-05, 3.249999997478881e-05, 2.649999998993735e-05, 3.049999997983832e-05, 5.8399999943503644e-05, 4.6600000018770515e-05, 4.7399999971275975e-05]\n",
      "[0.15931330000000798, 1.3699999954042141e-05, 1.499999996212864e-05, 2.090000009502546e-05, 2.0999999946980097e-05, 2.7700000032382377e-05, 2.4600000074315176e-05, 2.9799999992974335e-05, 3.939999999147403e-05, 4.020000005766633e-05, 3.2899999951041536e-05, 3.409999999348656e-05, 3.6299999919719994e-05, 3.789999993841775e-05, 4.16000000313943e-05, 8.850000006077607e-05, 5.790000000160944e-05, 6.399999995210237e-05]\n",
      "[1.2900000001536682e-05, 5.6999999742402e-06, 5.399999963628943e-06, 5.6999999742402e-06, 1.1299999982838926e-05, 9.800000043469481e-06, 8.900000011635711e-06, 8.900000011635711e-06, 1.0299999985363684e-05, 1.5599999983351154e-05, 7.799999934832158e-06, 8.900000011635711e-06, 8.999999977277184e-06, 8.800000045994238e-06, 8.800000045994238e-06, 1.2699999956566899e-05, 1.13999999484804e-05, 1.2299999980314169e-05]\n"
     ]
    }
   ],
   "source": [
    "print(tiempos_py)\n",
    "print(tiempos_numpy)\n",
    "print(tiempos_JIT_py)\n",
    "print(tiempos_numpy_JIT)"
   ]
  },
  {
   "cell_type": "code",
   "execution_count": 37,
   "metadata": {},
   "outputs": [],
   "source": [
    "x = list(range(50, 901, 50))"
   ]
  },
  {
   "cell_type": "code",
   "execution_count": 38,
   "metadata": {},
   "outputs": [
    {
     "data": {
      "text/html": [
       "<div>\n",
       "<style scoped>\n",
       "    .dataframe tbody tr th:only-of-type {\n",
       "        vertical-align: middle;\n",
       "    }\n",
       "\n",
       "    .dataframe tbody tr th {\n",
       "        vertical-align: top;\n",
       "    }\n",
       "\n",
       "    .dataframe thead th {\n",
       "        text-align: right;\n",
       "    }\n",
       "</style>\n",
       "<table border=\"1\" class=\"dataframe\">\n",
       "  <thead>\n",
       "    <tr style=\"text-align: right;\">\n",
       "      <th></th>\n",
       "      <th>Datos</th>\n",
       "      <th>Tiempos_py</th>\n",
       "      <th>Tiempos_numpy</th>\n",
       "      <th>Tiempos_JIT_py</th>\n",
       "      <th>Tiempos_numpy_JIT</th>\n",
       "    </tr>\n",
       "  </thead>\n",
       "  <tbody>\n",
       "    <tr>\n",
       "      <th>0</th>\n",
       "      <td>50</td>\n",
       "      <td>0.000100</td>\n",
       "      <td>0.000039</td>\n",
       "      <td>0.159313</td>\n",
       "      <td>0.000013</td>\n",
       "    </tr>\n",
       "    <tr>\n",
       "      <th>1</th>\n",
       "      <td>100</td>\n",
       "      <td>0.000161</td>\n",
       "      <td>0.000033</td>\n",
       "      <td>0.000014</td>\n",
       "      <td>0.000006</td>\n",
       "    </tr>\n",
       "    <tr>\n",
       "      <th>2</th>\n",
       "      <td>150</td>\n",
       "      <td>0.000229</td>\n",
       "      <td>0.000030</td>\n",
       "      <td>0.000015</td>\n",
       "      <td>0.000005</td>\n",
       "    </tr>\n",
       "    <tr>\n",
       "      <th>3</th>\n",
       "      <td>200</td>\n",
       "      <td>0.000305</td>\n",
       "      <td>0.000019</td>\n",
       "      <td>0.000021</td>\n",
       "      <td>0.000006</td>\n",
       "    </tr>\n",
       "    <tr>\n",
       "      <th>4</th>\n",
       "      <td>250</td>\n",
       "      <td>0.000385</td>\n",
       "      <td>0.000025</td>\n",
       "      <td>0.000021</td>\n",
       "      <td>0.000011</td>\n",
       "    </tr>\n",
       "    <tr>\n",
       "      <th>5</th>\n",
       "      <td>300</td>\n",
       "      <td>0.000457</td>\n",
       "      <td>0.000023</td>\n",
       "      <td>0.000028</td>\n",
       "      <td>0.000010</td>\n",
       "    </tr>\n",
       "    <tr>\n",
       "      <th>6</th>\n",
       "      <td>350</td>\n",
       "      <td>0.000532</td>\n",
       "      <td>0.000022</td>\n",
       "      <td>0.000025</td>\n",
       "      <td>0.000009</td>\n",
       "    </tr>\n",
       "    <tr>\n",
       "      <th>7</th>\n",
       "      <td>400</td>\n",
       "      <td>0.000612</td>\n",
       "      <td>0.000026</td>\n",
       "      <td>0.000030</td>\n",
       "      <td>0.000009</td>\n",
       "    </tr>\n",
       "    <tr>\n",
       "      <th>8</th>\n",
       "      <td>450</td>\n",
       "      <td>0.000859</td>\n",
       "      <td>0.000041</td>\n",
       "      <td>0.000039</td>\n",
       "      <td>0.000010</td>\n",
       "    </tr>\n",
       "    <tr>\n",
       "      <th>9</th>\n",
       "      <td>500</td>\n",
       "      <td>0.000873</td>\n",
       "      <td>0.000036</td>\n",
       "      <td>0.000040</td>\n",
       "      <td>0.000016</td>\n",
       "    </tr>\n",
       "    <tr>\n",
       "      <th>10</th>\n",
       "      <td>550</td>\n",
       "      <td>0.000829</td>\n",
       "      <td>0.000031</td>\n",
       "      <td>0.000033</td>\n",
       "      <td>0.000008</td>\n",
       "    </tr>\n",
       "    <tr>\n",
       "      <th>11</th>\n",
       "      <td>600</td>\n",
       "      <td>0.000937</td>\n",
       "      <td>0.000031</td>\n",
       "      <td>0.000034</td>\n",
       "      <td>0.000009</td>\n",
       "    </tr>\n",
       "    <tr>\n",
       "      <th>12</th>\n",
       "      <td>650</td>\n",
       "      <td>0.000977</td>\n",
       "      <td>0.000032</td>\n",
       "      <td>0.000036</td>\n",
       "      <td>0.000009</td>\n",
       "    </tr>\n",
       "    <tr>\n",
       "      <th>13</th>\n",
       "      <td>700</td>\n",
       "      <td>0.001064</td>\n",
       "      <td>0.000026</td>\n",
       "      <td>0.000038</td>\n",
       "      <td>0.000009</td>\n",
       "    </tr>\n",
       "    <tr>\n",
       "      <th>14</th>\n",
       "      <td>750</td>\n",
       "      <td>0.001119</td>\n",
       "      <td>0.000030</td>\n",
       "      <td>0.000042</td>\n",
       "      <td>0.000009</td>\n",
       "    </tr>\n",
       "    <tr>\n",
       "      <th>15</th>\n",
       "      <td>800</td>\n",
       "      <td>0.001364</td>\n",
       "      <td>0.000058</td>\n",
       "      <td>0.000089</td>\n",
       "      <td>0.000013</td>\n",
       "    </tr>\n",
       "    <tr>\n",
       "      <th>16</th>\n",
       "      <td>850</td>\n",
       "      <td>0.001431</td>\n",
       "      <td>0.000047</td>\n",
       "      <td>0.000058</td>\n",
       "      <td>0.000011</td>\n",
       "    </tr>\n",
       "    <tr>\n",
       "      <th>17</th>\n",
       "      <td>900</td>\n",
       "      <td>0.001390</td>\n",
       "      <td>0.000047</td>\n",
       "      <td>0.000064</td>\n",
       "      <td>0.000012</td>\n",
       "    </tr>\n",
       "  </tbody>\n",
       "</table>\n",
       "</div>"
      ],
      "text/plain": [
       "    Datos  Tiempos_py  Tiempos_numpy  Tiempos_JIT_py  Tiempos_numpy_JIT\n",
       "0      50    0.000100       0.000039        0.159313           0.000013\n",
       "1     100    0.000161       0.000033        0.000014           0.000006\n",
       "2     150    0.000229       0.000030        0.000015           0.000005\n",
       "3     200    0.000305       0.000019        0.000021           0.000006\n",
       "4     250    0.000385       0.000025        0.000021           0.000011\n",
       "5     300    0.000457       0.000023        0.000028           0.000010\n",
       "6     350    0.000532       0.000022        0.000025           0.000009\n",
       "7     400    0.000612       0.000026        0.000030           0.000009\n",
       "8     450    0.000859       0.000041        0.000039           0.000010\n",
       "9     500    0.000873       0.000036        0.000040           0.000016\n",
       "10    550    0.000829       0.000031        0.000033           0.000008\n",
       "11    600    0.000937       0.000031        0.000034           0.000009\n",
       "12    650    0.000977       0.000032        0.000036           0.000009\n",
       "13    700    0.001064       0.000026        0.000038           0.000009\n",
       "14    750    0.001119       0.000030        0.000042           0.000009\n",
       "15    800    0.001364       0.000058        0.000089           0.000013\n",
       "16    850    0.001431       0.000047        0.000058           0.000011\n",
       "17    900    0.001390       0.000047        0.000064           0.000012"
      ]
     },
     "execution_count": 38,
     "metadata": {},
     "output_type": "execute_result"
    }
   ],
   "source": [
    "import pandas as pd\n",
    "data = {'Datos' : x,\n",
    "        'Tiempos_py': tiempos_py,\n",
    "        'Tiempos_numpy': tiempos_numpy,\n",
    "        'Tiempos_JIT_py': tiempos_JIT_py,\n",
    "        'Tiempos_numpy_JIT': tiempos_numpy_JIT}\n",
    "df = pd.DataFrame(data)\n",
    "df"
   ]
  },
  {
   "cell_type": "code",
   "execution_count": 49,
   "metadata": {},
   "outputs": [
    {
     "data": {
      "application/vnd.plotly.v1+json": {
       "config": {
        "plotlyServerURL": "https://plot.ly"
       },
       "data": [
        {
         "hovertemplate": "variable=Tiempos_py<br>Datos=%{x}<br>value=%{y}<extra></extra>",
         "legendgroup": "Tiempos_py",
         "line": {
          "color": "#636efa",
          "dash": "solid"
         },
         "marker": {
          "symbol": "circle"
         },
         "mode": "lines",
         "name": "Tiempos_py",
         "orientation": "v",
         "showlegend": true,
         "type": "scatter",
         "x": [
          50,
          100,
          150,
          200,
          250,
          300,
          350,
          400,
          450,
          500,
          550,
          600,
          650,
          700,
          750,
          800,
          850,
          900
         ],
         "xaxis": "x",
         "y": [
          0.00003229999992981902,
          0.0000354000001152599,
          0.000046300000121846097,
          0.00010919999999714491,
          0.00007209999989754579,
          0.00008729999990464421,
          0.00009900000009110954,
          0.00011229999995521212,
          0.00012440000000424334,
          0.0001396999998632964,
          0.0001536999998279498,
          0.00017070000012608944,
          0.00019079999992754892,
          0.00020549999999275315,
          0.00022209999997357954,
          0.00022039999998924031,
          0.00023569999984829337,
          0.0002488000000084867
         ],
         "yaxis": "y"
        },
        {
         "hovertemplate": "variable=Tiempos_numpy<br>Datos=%{x}<br>value=%{y}<extra></extra>",
         "legendgroup": "Tiempos_numpy",
         "line": {
          "color": "#EF553B",
          "dash": "solid"
         },
         "marker": {
          "symbol": "circle"
         },
         "mode": "lines",
         "name": "Tiempos_numpy",
         "orientation": "v",
         "showlegend": true,
         "type": "scatter",
         "x": [
          50,
          100,
          150,
          200,
          250,
          300,
          350,
          400,
          450,
          500,
          550,
          600,
          650,
          700,
          750,
          800,
          850,
          900
         ],
         "xaxis": "x",
         "y": [
          0.00004889999991064542,
          0.00002029999996011611,
          0.00001720000000204891,
          0.000042200000052616815,
          0.000019999999949504854,
          0.000017900000102599734,
          0.00001629999997021514,
          0.000015400000165755046,
          0.000015699999948992627,
          0.00001619999989088683,
          0.000020600000198101043,
          0.000019300000076327706,
          0.000026199999865639256,
          0.000019099999917671084,
          0.00001889999998638814,
          0.000018599999975776882,
          0.000018299999965165625,
          0.000017799999795897747
         ],
         "yaxis": "y"
        },
        {
         "hovertemplate": "variable=Tiempos_JIT_py<br>Datos=%{x}<br>value=%{y}<extra></extra>",
         "legendgroup": "Tiempos_JIT_py",
         "line": {
          "color": "#00cc96",
          "dash": "solid"
         },
         "marker": {
          "symbol": "circle"
         },
         "mode": "lines",
         "name": "Tiempos_JIT_py",
         "orientation": "v",
         "showlegend": true,
         "type": "scatter",
         "x": [
          50,
          100,
          150,
          200,
          250,
          300,
          350,
          400,
          450,
          500,
          550,
          600,
          650,
          700,
          750,
          800,
          850,
          900
         ],
         "xaxis": "x",
         "y": [
          0.000007599999889862374,
          0.000003400000196052133,
          0.0000031999998100218363,
          0.0000056000001222855644,
          0.0000035000000480067683,
          0.000005200000032345997,
          0.0000029999998787388904,
          0.0000033999999686784577,
          0.0000033999999686784577,
          0.0000029999998787388904,
          0.000003099999958067201,
          0.000002900000026784255,
          0.000004999999873689376,
          0.0000031999998100218363,
          0.0000031000001854408765,
          0.0000029999998787388904,
          0.0000032000000373955118,
          0.000002900000026784255
         ],
         "yaxis": "y"
        },
        {
         "hovertemplate": "variable=Tiempos_numpy_JIT<br>Datos=%{x}<br>value=%{y}<extra></extra>",
         "legendgroup": "Tiempos_numpy_JIT",
         "line": {
          "color": "#ab63fa",
          "dash": "solid"
         },
         "marker": {
          "symbol": "circle"
         },
         "mode": "lines",
         "name": "Tiempos_numpy_JIT",
         "orientation": "v",
         "showlegend": true,
         "type": "scatter",
         "x": [
          50,
          100,
          150,
          200,
          250,
          300,
          350,
          400,
          450,
          500,
          550,
          600,
          650,
          700,
          750,
          800,
          850,
          900
         ],
         "xaxis": "x",
         "y": [
          0.0000037999998312443495,
          0.000002900000026784255,
          0.000006799999937356915,
          0.0000041000000692292815,
          0.0000028999997994105797,
          0.000003099999958067201,
          0.0000026000000161729986,
          0.0000027000000955013093,
          0.0000026000000161729986,
          0.0000027000000955013093,
          0.000002699999868127634,
          0.0000027999999474559445,
          0.0000029999998787388904,
          0.000002900000026784255,
          0.00000280000017482962,
          0.0000026000000161729986,
          0.0000027999999474559445,
          0.0000027000000955013093
         ],
         "yaxis": "y"
        }
       ],
       "layout": {
        "legend": {
         "title": {
          "text": "variable"
         },
         "tracegroupgap": 0
        },
        "margin": {
         "t": 60
        },
        "template": {
         "data": {
          "bar": [
           {
            "error_x": {
             "color": "#2a3f5f"
            },
            "error_y": {
             "color": "#2a3f5f"
            },
            "marker": {
             "line": {
              "color": "#E5ECF6",
              "width": 0.5
             },
             "pattern": {
              "fillmode": "overlay",
              "size": 10,
              "solidity": 0.2
             }
            },
            "type": "bar"
           }
          ],
          "barpolar": [
           {
            "marker": {
             "line": {
              "color": "#E5ECF6",
              "width": 0.5
             },
             "pattern": {
              "fillmode": "overlay",
              "size": 10,
              "solidity": 0.2
             }
            },
            "type": "barpolar"
           }
          ],
          "carpet": [
           {
            "aaxis": {
             "endlinecolor": "#2a3f5f",
             "gridcolor": "white",
             "linecolor": "white",
             "minorgridcolor": "white",
             "startlinecolor": "#2a3f5f"
            },
            "baxis": {
             "endlinecolor": "#2a3f5f",
             "gridcolor": "white",
             "linecolor": "white",
             "minorgridcolor": "white",
             "startlinecolor": "#2a3f5f"
            },
            "type": "carpet"
           }
          ],
          "choropleth": [
           {
            "colorbar": {
             "outlinewidth": 0,
             "ticks": ""
            },
            "type": "choropleth"
           }
          ],
          "contour": [
           {
            "colorbar": {
             "outlinewidth": 0,
             "ticks": ""
            },
            "colorscale": [
             [
              0,
              "#0d0887"
             ],
             [
              0.1111111111111111,
              "#46039f"
             ],
             [
              0.2222222222222222,
              "#7201a8"
             ],
             [
              0.3333333333333333,
              "#9c179e"
             ],
             [
              0.4444444444444444,
              "#bd3786"
             ],
             [
              0.5555555555555556,
              "#d8576b"
             ],
             [
              0.6666666666666666,
              "#ed7953"
             ],
             [
              0.7777777777777778,
              "#fb9f3a"
             ],
             [
              0.8888888888888888,
              "#fdca26"
             ],
             [
              1,
              "#f0f921"
             ]
            ],
            "type": "contour"
           }
          ],
          "contourcarpet": [
           {
            "colorbar": {
             "outlinewidth": 0,
             "ticks": ""
            },
            "type": "contourcarpet"
           }
          ],
          "heatmap": [
           {
            "colorbar": {
             "outlinewidth": 0,
             "ticks": ""
            },
            "colorscale": [
             [
              0,
              "#0d0887"
             ],
             [
              0.1111111111111111,
              "#46039f"
             ],
             [
              0.2222222222222222,
              "#7201a8"
             ],
             [
              0.3333333333333333,
              "#9c179e"
             ],
             [
              0.4444444444444444,
              "#bd3786"
             ],
             [
              0.5555555555555556,
              "#d8576b"
             ],
             [
              0.6666666666666666,
              "#ed7953"
             ],
             [
              0.7777777777777778,
              "#fb9f3a"
             ],
             [
              0.8888888888888888,
              "#fdca26"
             ],
             [
              1,
              "#f0f921"
             ]
            ],
            "type": "heatmap"
           }
          ],
          "heatmapgl": [
           {
            "colorbar": {
             "outlinewidth": 0,
             "ticks": ""
            },
            "colorscale": [
             [
              0,
              "#0d0887"
             ],
             [
              0.1111111111111111,
              "#46039f"
             ],
             [
              0.2222222222222222,
              "#7201a8"
             ],
             [
              0.3333333333333333,
              "#9c179e"
             ],
             [
              0.4444444444444444,
              "#bd3786"
             ],
             [
              0.5555555555555556,
              "#d8576b"
             ],
             [
              0.6666666666666666,
              "#ed7953"
             ],
             [
              0.7777777777777778,
              "#fb9f3a"
             ],
             [
              0.8888888888888888,
              "#fdca26"
             ],
             [
              1,
              "#f0f921"
             ]
            ],
            "type": "heatmapgl"
           }
          ],
          "histogram": [
           {
            "marker": {
             "pattern": {
              "fillmode": "overlay",
              "size": 10,
              "solidity": 0.2
             }
            },
            "type": "histogram"
           }
          ],
          "histogram2d": [
           {
            "colorbar": {
             "outlinewidth": 0,
             "ticks": ""
            },
            "colorscale": [
             [
              0,
              "#0d0887"
             ],
             [
              0.1111111111111111,
              "#46039f"
             ],
             [
              0.2222222222222222,
              "#7201a8"
             ],
             [
              0.3333333333333333,
              "#9c179e"
             ],
             [
              0.4444444444444444,
              "#bd3786"
             ],
             [
              0.5555555555555556,
              "#d8576b"
             ],
             [
              0.6666666666666666,
              "#ed7953"
             ],
             [
              0.7777777777777778,
              "#fb9f3a"
             ],
             [
              0.8888888888888888,
              "#fdca26"
             ],
             [
              1,
              "#f0f921"
             ]
            ],
            "type": "histogram2d"
           }
          ],
          "histogram2dcontour": [
           {
            "colorbar": {
             "outlinewidth": 0,
             "ticks": ""
            },
            "colorscale": [
             [
              0,
              "#0d0887"
             ],
             [
              0.1111111111111111,
              "#46039f"
             ],
             [
              0.2222222222222222,
              "#7201a8"
             ],
             [
              0.3333333333333333,
              "#9c179e"
             ],
             [
              0.4444444444444444,
              "#bd3786"
             ],
             [
              0.5555555555555556,
              "#d8576b"
             ],
             [
              0.6666666666666666,
              "#ed7953"
             ],
             [
              0.7777777777777778,
              "#fb9f3a"
             ],
             [
              0.8888888888888888,
              "#fdca26"
             ],
             [
              1,
              "#f0f921"
             ]
            ],
            "type": "histogram2dcontour"
           }
          ],
          "mesh3d": [
           {
            "colorbar": {
             "outlinewidth": 0,
             "ticks": ""
            },
            "type": "mesh3d"
           }
          ],
          "parcoords": [
           {
            "line": {
             "colorbar": {
              "outlinewidth": 0,
              "ticks": ""
             }
            },
            "type": "parcoords"
           }
          ],
          "pie": [
           {
            "automargin": true,
            "type": "pie"
           }
          ],
          "scatter": [
           {
            "fillpattern": {
             "fillmode": "overlay",
             "size": 10,
             "solidity": 0.2
            },
            "type": "scatter"
           }
          ],
          "scatter3d": [
           {
            "line": {
             "colorbar": {
              "outlinewidth": 0,
              "ticks": ""
             }
            },
            "marker": {
             "colorbar": {
              "outlinewidth": 0,
              "ticks": ""
             }
            },
            "type": "scatter3d"
           }
          ],
          "scattercarpet": [
           {
            "marker": {
             "colorbar": {
              "outlinewidth": 0,
              "ticks": ""
             }
            },
            "type": "scattercarpet"
           }
          ],
          "scattergeo": [
           {
            "marker": {
             "colorbar": {
              "outlinewidth": 0,
              "ticks": ""
             }
            },
            "type": "scattergeo"
           }
          ],
          "scattergl": [
           {
            "marker": {
             "colorbar": {
              "outlinewidth": 0,
              "ticks": ""
             }
            },
            "type": "scattergl"
           }
          ],
          "scattermapbox": [
           {
            "marker": {
             "colorbar": {
              "outlinewidth": 0,
              "ticks": ""
             }
            },
            "type": "scattermapbox"
           }
          ],
          "scatterpolar": [
           {
            "marker": {
             "colorbar": {
              "outlinewidth": 0,
              "ticks": ""
             }
            },
            "type": "scatterpolar"
           }
          ],
          "scatterpolargl": [
           {
            "marker": {
             "colorbar": {
              "outlinewidth": 0,
              "ticks": ""
             }
            },
            "type": "scatterpolargl"
           }
          ],
          "scatterternary": [
           {
            "marker": {
             "colorbar": {
              "outlinewidth": 0,
              "ticks": ""
             }
            },
            "type": "scatterternary"
           }
          ],
          "surface": [
           {
            "colorbar": {
             "outlinewidth": 0,
             "ticks": ""
            },
            "colorscale": [
             [
              0,
              "#0d0887"
             ],
             [
              0.1111111111111111,
              "#46039f"
             ],
             [
              0.2222222222222222,
              "#7201a8"
             ],
             [
              0.3333333333333333,
              "#9c179e"
             ],
             [
              0.4444444444444444,
              "#bd3786"
             ],
             [
              0.5555555555555556,
              "#d8576b"
             ],
             [
              0.6666666666666666,
              "#ed7953"
             ],
             [
              0.7777777777777778,
              "#fb9f3a"
             ],
             [
              0.8888888888888888,
              "#fdca26"
             ],
             [
              1,
              "#f0f921"
             ]
            ],
            "type": "surface"
           }
          ],
          "table": [
           {
            "cells": {
             "fill": {
              "color": "#EBF0F8"
             },
             "line": {
              "color": "white"
             }
            },
            "header": {
             "fill": {
              "color": "#C8D4E3"
             },
             "line": {
              "color": "white"
             }
            },
            "type": "table"
           }
          ]
         },
         "layout": {
          "annotationdefaults": {
           "arrowcolor": "#2a3f5f",
           "arrowhead": 0,
           "arrowwidth": 1
          },
          "autotypenumbers": "strict",
          "coloraxis": {
           "colorbar": {
            "outlinewidth": 0,
            "ticks": ""
           }
          },
          "colorscale": {
           "diverging": [
            [
             0,
             "#8e0152"
            ],
            [
             0.1,
             "#c51b7d"
            ],
            [
             0.2,
             "#de77ae"
            ],
            [
             0.3,
             "#f1b6da"
            ],
            [
             0.4,
             "#fde0ef"
            ],
            [
             0.5,
             "#f7f7f7"
            ],
            [
             0.6,
             "#e6f5d0"
            ],
            [
             0.7,
             "#b8e186"
            ],
            [
             0.8,
             "#7fbc41"
            ],
            [
             0.9,
             "#4d9221"
            ],
            [
             1,
             "#276419"
            ]
           ],
           "sequential": [
            [
             0,
             "#0d0887"
            ],
            [
             0.1111111111111111,
             "#46039f"
            ],
            [
             0.2222222222222222,
             "#7201a8"
            ],
            [
             0.3333333333333333,
             "#9c179e"
            ],
            [
             0.4444444444444444,
             "#bd3786"
            ],
            [
             0.5555555555555556,
             "#d8576b"
            ],
            [
             0.6666666666666666,
             "#ed7953"
            ],
            [
             0.7777777777777778,
             "#fb9f3a"
            ],
            [
             0.8888888888888888,
             "#fdca26"
            ],
            [
             1,
             "#f0f921"
            ]
           ],
           "sequentialminus": [
            [
             0,
             "#0d0887"
            ],
            [
             0.1111111111111111,
             "#46039f"
            ],
            [
             0.2222222222222222,
             "#7201a8"
            ],
            [
             0.3333333333333333,
             "#9c179e"
            ],
            [
             0.4444444444444444,
             "#bd3786"
            ],
            [
             0.5555555555555556,
             "#d8576b"
            ],
            [
             0.6666666666666666,
             "#ed7953"
            ],
            [
             0.7777777777777778,
             "#fb9f3a"
            ],
            [
             0.8888888888888888,
             "#fdca26"
            ],
            [
             1,
             "#f0f921"
            ]
           ]
          },
          "colorway": [
           "#636efa",
           "#EF553B",
           "#00cc96",
           "#ab63fa",
           "#FFA15A",
           "#19d3f3",
           "#FF6692",
           "#B6E880",
           "#FF97FF",
           "#FECB52"
          ],
          "font": {
           "color": "#2a3f5f"
          },
          "geo": {
           "bgcolor": "white",
           "lakecolor": "white",
           "landcolor": "#E5ECF6",
           "showlakes": true,
           "showland": true,
           "subunitcolor": "white"
          },
          "hoverlabel": {
           "align": "left"
          },
          "hovermode": "closest",
          "mapbox": {
           "style": "light"
          },
          "paper_bgcolor": "white",
          "plot_bgcolor": "#E5ECF6",
          "polar": {
           "angularaxis": {
            "gridcolor": "white",
            "linecolor": "white",
            "ticks": ""
           },
           "bgcolor": "#E5ECF6",
           "radialaxis": {
            "gridcolor": "white",
            "linecolor": "white",
            "ticks": ""
           }
          },
          "scene": {
           "xaxis": {
            "backgroundcolor": "#E5ECF6",
            "gridcolor": "white",
            "gridwidth": 2,
            "linecolor": "white",
            "showbackground": true,
            "ticks": "",
            "zerolinecolor": "white"
           },
           "yaxis": {
            "backgroundcolor": "#E5ECF6",
            "gridcolor": "white",
            "gridwidth": 2,
            "linecolor": "white",
            "showbackground": true,
            "ticks": "",
            "zerolinecolor": "white"
           },
           "zaxis": {
            "backgroundcolor": "#E5ECF6",
            "gridcolor": "white",
            "gridwidth": 2,
            "linecolor": "white",
            "showbackground": true,
            "ticks": "",
            "zerolinecolor": "white"
           }
          },
          "shapedefaults": {
           "line": {
            "color": "#2a3f5f"
           }
          },
          "ternary": {
           "aaxis": {
            "gridcolor": "white",
            "linecolor": "white",
            "ticks": ""
           },
           "baxis": {
            "gridcolor": "white",
            "linecolor": "white",
            "ticks": ""
           },
           "bgcolor": "#E5ECF6",
           "caxis": {
            "gridcolor": "white",
            "linecolor": "white",
            "ticks": ""
           }
          },
          "title": {
           "x": 0.05
          },
          "xaxis": {
           "automargin": true,
           "gridcolor": "white",
           "linecolor": "white",
           "ticks": "",
           "title": {
            "standoff": 15
           },
           "zerolinecolor": "white",
           "zerolinewidth": 2
          },
          "yaxis": {
           "automargin": true,
           "gridcolor": "white",
           "linecolor": "white",
           "ticks": "",
           "title": {
            "standoff": 15
           },
           "zerolinecolor": "white",
           "zerolinewidth": 2
          }
         }
        },
        "xaxis": {
         "anchor": "y",
         "domain": [
          0,
          1
         ],
         "title": {
          "text": "Datos"
         }
        },
        "yaxis": {
         "anchor": "x",
         "domain": [
          0,
          1
         ],
         "title": {
          "text": "value"
         },
         "type": "log"
        }
       }
      }
     },
     "metadata": {},
     "output_type": "display_data"
    }
   ],
   "source": [
    "px.line(df, y=['Tiempos_py', 'Tiempos_numpy', 'Tiempos_JIT_py', 'Tiempos_numpy_JIT'], x='Datos', log_y=True)"
   ]
  },
  {
   "cell_type": "markdown",
   "metadata": {},
   "source": [
    "Es posible observar diferencias? A qué se debe esto?\n",
    "\n",
    "`\n",
    "Dentro de los gráficos es claro notar las diferencias que existen en 3 partes principales, primero los tiempos de ejecución de la función sin numpy la cual naturalmente es la que más tarda (utiliza funciones iterativas como el for), luego está la función con numpy que tarda menos que la primera al ahorrarse los ciclos iterativos del for mediante el uso de la librería, y finalmente se encuentran las funciones compiladas con Numba el cual es un compilador diseñado para optimizar tareas matemáticas y con ciclos, por lo cual es esperado que estas funciones compilen en un timepo mucho menor al resto.\n",
    "`"
   ]
  },
  {
   "cell_type": "markdown",
   "metadata": {
    "cell_id": "00030-01881ca2-384a-44f1-bcaf-ad095552aac2",
    "deepnote_cell_height": 70,
    "deepnote_cell_type": "markdown",
    "id": "DljdJw8m0gYC"
   },
   "source": [
    "## 1.5 Plot de Resultados de Análisis de Votos [1 Punto]"
   ]
  },
  {
   "cell_type": "markdown",
   "metadata": {
    "cell_id": "00031-1bfb8e5a-3a40-45f2-8f0f-f94c9264f8e2",
    "deepnote_cell_height": 111.1875,
    "deepnote_cell_type": "markdown",
    "id": "cQAxOM5D08Hl"
   },
   "source": [
    "Llego la hora de visualizar los resultados obtenidos, para esto solo ejecute las siguientes celdas y observe lo que sucede :3. ¿Qué logra observar de los resultados?, ¿La solución resulta trivial?\n",
    "\n",
    "En esta sección esperamos que solo comenten con lo que logran visualizar de los dataframes."
   ]
  },
  {
   "cell_type": "code",
   "execution_count": 44,
   "metadata": {
    "cell_id": "00032-107c679d-f291-40ec-8854-fd17864ba743",
    "colab": {
     "base_uri": "https://localhost:8080/",
     "height": 737
    },
    "deepnote_cell_height": 318,
    "deepnote_cell_type": "code",
    "executionInfo": {
     "elapsed": 390,
     "status": "ok",
     "timestamp": 1624645025761,
     "user": {
      "displayName": "IGNACIO ALEJANDRO MEZA",
      "photoUrl": "",
      "userId": "17011121633069169364"
     },
     "user_tz": 240
    },
    "id": "N5E2mNYXaafI",
    "outputId": "36f8a568-fb8d-4a2b-ff8e-651f206fbe53",
    "scrolled": true
   },
   "outputs": [
    {
     "name": "stdout",
     "output_type": "stream",
     "text": [
      "lower bounds aproximados:\n",
      "[0.48523979 0.78059168 0.92043586 0.85134452 0.94815316 0.83265815\n",
      " 0.84187791 0.9053808  0.85827725 0.88965326 0.88108924 0.80862926\n",
      " 0.77907167 0.73158407 0.7172068  0.84836295 0.90550562 0.93068575\n",
      " 0.76586276 0.74265165 0.81828545 0.97118339 0.96180306 0.72921035\n",
      " 0.6354421  0.52211679 0.7673017  0.9202495  0.7609129  0.60091591\n",
      " 0.57671534 0.45074913 0.93323112 0.51184301 0.98220102 0.86211815\n",
      " 0.89435805 0.3726793  0.85771798 0.88470605 0.71336637 0.95785079\n",
      " 0.92073077 0.30828372 0.65656587 0.36397748 0.72429281 0.52182581\n",
      " 0.81564887 0.48141157 0.70234561 0.35771985 0.92646674 0.87296205\n",
      " 0.35873239 0.28273871 0.5641946  0.87640799 0.8010596  0.87939801\n",
      " 0.71336637 0.68333632 0.91574322 0.32754218 0.81715738 0.85297239\n",
      " 0.70904079 0.90385173 0.80877728 0.34209586 0.74798395 0.74537828\n",
      " 0.69020315 0.58949612 0.91113817 0.395419   0.02368603 0.61531815\n",
      " 0.02368603 0.58960959 0.85719803 0.79473599 0.95354137 0.59123643\n",
      " 0.63447009 0.80149882 0.85847271 0.6354421  0.92261869 0.86268299\n",
      " 0.02368603 0.81699014 0.78643306 0.40323085 0.39734203 0.29628307\n",
      " 0.8854203  0.90100914 0.02368603 0.88773339 0.94751682 0.95153287\n",
      " 0.29628307 0.02368603 0.42613859 0.87851405 0.91004343 0.9302529\n",
      " 0.90413866 0.4198153  0.32754218 0.85819456 0.83835993 0.84366531\n",
      " 0.93806054 0.78742849 0.85099181 0.36397748 0.91526314 0.47201974\n",
      " 0.66234577 0.60318812 0.83487585 0.69226131 0.02368603 0.02368603\n",
      " 0.02368603 0.97439815 0.84810805 0.83900773 0.02368603 0.89289812\n",
      " 0.58792836 0.84614389 0.02368603 0.27775794 0.75211374 0.86052708\n",
      " 0.65597619 0.86584639 0.89983924 0.97099778 0.62971097 0.62854668\n",
      " 0.92246199 0.68548406 0.70757005 0.81019924 0.89478823 0.78977813\n",
      " 0.57671534 0.58770234 0.50200985 0.52157041 0.61207493 0.7673017\n",
      " 0.81564887 0.55028765 0.5835026  0.53055613 0.71034959 0.92162435\n",
      " 0.79563834 0.54574955 0.79924258 0.95211739 0.49052453 0.48141157\n",
      " 0.7172068  0.56676031 0.80589404 0.71034959 0.85277786 0.3726793\n",
      " 0.92079522 0.40061061 0.47816574 0.95661433 0.36271514 0.02368603\n",
      " 0.32754218 0.8698202  0.94366616 0.798991   0.81551381 0.86695149\n",
      " 0.78850966 0.02368603 0.87795286 0.69593922 0.70887071 0.83923494\n",
      " 0.8605702  0.42076621 0.02368603 0.82454805 0.93972408 0.95180168\n",
      " 0.72690079 0.64630732 0.73658444 0.74702492 0.69090822 0.90250203\n",
      " 0.73404509 0.9431192  0.87417761 0.70359349 0.79198214 0.77665978\n",
      " 0.70187349 0.70552302 0.55091897 0.81551381 0.95604325 0.40599215\n",
      " 0.53547626 0.79946576 0.02368603 0.93077046 0.4722123  0.9903504\n",
      " 0.86521676 0.55267475 0.4882231  0.65597619 0.46802496 0.02368603\n",
      " 0.74612415 0.51804204 0.02368603 0.91336248 0.83113222 0.84843831\n",
      " 0.82252857 0.02368603 0.69242497 0.62854668 0.4960446  0.02368603\n",
      " 0.61430448 0.95982368 0.63860906 0.02368603 0.77548903 0.80877728\n",
      " 0.81109538 0.9366269  0.89637632 0.46120533 0.42613859 0.02368603\n",
      " 0.02368603 0.61090389 0.94301265 0.87851405 0.4223796  0.45993467\n",
      " 0.92554303 0.85350205 0.95412849 0.88798128 0.82530625 0.5119859\n",
      " 0.96114221 0.39235808 0.85355829 0.40599215 0.83909857 0.86376869\n",
      " 0.88012161 0.84352884 0.02368603 0.63165836 0.9494191  0.02368603\n",
      " 0.40061061 0.88935543 0.88965326 0.8735774  0.9721027  0.69020315\n",
      " 0.64814153 0.02368603 0.91505592 0.82407077 0.52317082 0.77281443\n",
      " 0.87814033 0.57376058 0.02368603 0.02368603 0.87279132 0.02368603\n",
      " 0.4708292  0.70234561 0.8380492  0.02368603 0.02368603 0.02368603\n",
      " 0.528678   0.85447643 0.02368603 0.69137196 0.62050146 0.82934814\n",
      " 0.68950482 0.62050146 0.75058868 0.56949138 0.70757005 0.96631473\n",
      " 0.8861216  0.02368603 0.45093892 0.88783607 0.4722123  0.90076698\n",
      " 0.54198981 0.94925879 0.02368603 0.63841838 0.96545434 0.9645851\n",
      " 0.65924475 0.59408965 0.42360758 0.80919741 0.52157041 0.91947721\n",
      " 0.64313905 0.84323262 0.87617995 0.96908854 0.75234267 0.70322378\n",
      " 0.02368603 0.6625893  0.93122638 0.76175538 0.95874785 0.43590471\n",
      " 0.69943204 0.82755334 0.74588262 0.02368603 0.02368603 0.65595263\n",
      " 0.93950433 0.93892968 0.95065135 0.90881807 0.55430603 0.67056335\n",
      " 0.87264883 0.528678   0.02368603 0.93178277 0.02368603 0.55267475\n",
      " 0.5743754  0.79689453 0.78990954 0.80398282 0.80285151 0.69819899\n",
      " 0.75902026 0.6522379  0.69325975 0.43783884 0.75202517 0.66964963\n",
      " 0.51967298 0.78259111 0.92666985 0.02368603 0.75627191 0.02368603\n",
      " 0.02368603 0.02368603 0.93084691 0.60934646 0.56131912 0.86800132\n",
      " 0.67138753 0.72136935 0.51657513 0.36271514 0.90269345 0.38016065\n",
      " 0.02368603 0.94304626 0.91156004 0.93630484 0.7031502  0.89545743\n",
      " 0.6530083  0.91263756 0.02368603 0.41980123 0.6959586  0.77428106\n",
      " 0.02368603 0.93537493 0.56404356 0.89643207 0.7676102  0.02368603\n",
      " 0.9245391  0.78396763 0.02368603 0.02368603 0.85074566 0.61667333\n",
      " 0.83490839 0.81365241 0.02368603 0.86895674 0.79197821 0.73492149\n",
      " 0.02368603 0.83662174 0.84570434 0.85099181 0.02368603 0.69641602\n",
      " 0.7416967  0.73224132 0.79924258 0.72143304 0.70268831 0.88283294\n",
      " 0.73224132 0.73187657 0.74107856 0.73142963 0.46089877 0.65595263\n",
      " 0.88288047 0.8861216  0.72136935 0.9766127  0.56676031 0.90829393\n",
      " 0.80149882 0.46845174 0.65597619 0.5743754  0.02368603 0.54067794\n",
      " 0.88628054 0.47086045 0.36397748 0.94822302 0.92501151 0.84836295\n",
      " 0.91213462 0.80731596 0.87178071 0.76438008 0.79473599 0.58848484\n",
      " 0.86052708 0.02368603 0.8684613  0.80785018 0.77335869 0.28273871\n",
      " 0.02368603 0.92372829 0.29628307 0.79822085 0.88642319 0.67107394\n",
      " 0.78977813 0.80726485 0.36745952 0.86005221 0.02368603 0.94209857\n",
      " 0.90937541 0.81699014 0.6413252  0.83221179 0.02368603 0.62358812\n",
      " 0.02368603 0.02368603 0.79811635 0.78150859 0.52157041 0.87660217\n",
      " 0.83113222 0.75058868 0.78457533 0.65630332 0.82664745 0.36397748\n",
      " 0.02368603 0.78637537 0.79933089 0.02368603 0.7063178  0.68548406\n",
      " 0.68548406 0.79198214 0.6296728  0.88197787 0.69819899 0.66138078\n",
      " 0.43590471 0.63447009 0.72289068 0.02368603 0.54643643 0.57671534\n",
      " 0.97935578 0.88873759 0.90666421 0.94013581 0.4710106  0.55091897\n",
      " 0.38016065 0.94241184 0.02368603 0.88582223 0.97773516 0.55833854\n",
      " 0.98012822 0.92145173 0.02368603 0.35627885 0.39734203 0.70899914\n",
      " 0.35771985 0.42360758 0.3726793  0.85881079 0.77335869 0.28273871\n",
      " 0.88137296 0.81835425 0.8057655  0.78977813 0.02368603 0.85027602\n",
      " 0.02368603 0.96021861 0.02368603 0.54969863 0.69893593 0.83186998\n",
      " 0.02368603 0.74537828 0.86625947 0.81878392 0.65764824 0.73945971\n",
      " 0.02368603 0.83630879 0.75461538 0.78000822 0.91587806 0.84839412\n",
      " 0.85355829 0.83730175 0.77922665 0.70039131 0.7609129  0.6467633\n",
      " 0.02368603 0.98275825 0.9053808  0.65630332 0.73158407 0.72136935\n",
      " 0.94203005 0.61207493 0.70535137 0.42657558 0.94610251 0.74316549\n",
      " 0.72347002 0.6413252  0.96468384 0.90588981 0.97183444 0.77318569\n",
      " 0.55536718 0.02368603 0.84347909 0.02368603 0.63447009 0.57404655\n",
      " 0.9119047  0.35873239 0.75613569 0.47201974 0.9002274  0.96083868\n",
      " 0.9296522  0.82304708 0.35627885 0.82269399 0.94352541 0.45093892\n",
      " 0.9006864  0.90870258 0.41520296 0.89740455 0.96930278 0.40084546\n",
      " 0.92823237 0.35771985 0.86335845 0.74107856 0.93591125 0.83490455\n",
      " 0.83730175 0.9208278  0.6413252  0.88276978 0.79445943 0.92425583\n",
      " 0.72136935 0.87904757 0.60729119 0.3605993  0.76592746 0.02368603\n",
      " 0.8524818  0.80711504 0.93505652 0.91833015 0.75627191 0.93581643\n",
      " 0.02368603 0.8124336  0.79822085 0.93714699 0.78497039 0.82005565\n",
      " 0.6509733  0.73945971 0.02368603 0.93675893 0.76586276 0.75819055\n",
      " 0.84839412 0.91736276 0.02368603 0.74094273 0.74107856 0.90845819\n",
      " 0.28273871 0.87023328 0.89676473 0.02368603 0.84305545 0.94240791\n",
      " 0.65764824 0.87879054 0.02368603 0.96683869 0.79563834 0.67405923\n",
      " 0.6354421  0.93125034 0.7204978  0.90651076 0.58991998 0.70668982\n",
      " 0.77097389 0.92345198 0.59232358 0.81365241 0.4960446  0.90937541\n",
      " 0.49052453 0.76586276 0.89967646 0.02368603 0.92535156 0.73158407\n",
      " 0.5410688  0.63447009 0.47086045 0.73158407 0.47826256 0.70039131\n",
      " 0.87690796 0.69760395 0.61207493 0.02368603 0.68548406 0.75613569\n",
      " 0.30828372 0.55536718 0.02368603 0.53310062 0.40723485 0.46845174\n",
      " 0.94786831 0.61090389 0.92637156 0.47826256 0.66278557 0.82502763\n",
      " 0.02368603 0.94827885 0.79433369 0.68704735 0.46523944 0.02368603\n",
      " 0.59005338 0.29628307 0.74417233 0.48877798 0.77982996 0.80019734\n",
      " 0.51184301 0.45093892 0.55267475 0.66278557 0.78373255 0.93463994\n",
      " 0.9811394  0.3605993  0.84043017 0.86521676 0.90395676 0.40723485\n",
      " 0.7224     0.85099181 0.93821087 0.36745952 0.78910582 0.85099181\n",
      " 0.84169483 0.81109538 0.81724576 0.80877728 0.28273871 0.86797314\n",
      " 0.29628307 0.65473422 0.82407077 0.73958625 0.02368603 0.62085115\n",
      " 0.02368603 0.89239065 0.50125003 0.69368878 0.84169483 0.79198214\n",
      " 0.81109538 0.66446635 0.02368603 0.73142963 0.61430448 0.48877798\n",
      " 0.5641946  0.55267475 0.38016065 0.83838023 0.89812172 0.96761516\n",
      " 0.4960446  0.67526961 0.53547626 0.42657558 0.65597619 0.5743754\n",
      " 0.86394655 0.43872258 0.92664816 0.44147313 0.95701464 0.40723485\n",
      " 0.92194366 0.90999262 0.84815158 0.93700273 0.95639664 0.89369893\n",
      " 0.63253597 0.73945971 0.83431846 0.86865288 0.89141841 0.39235808\n",
      " 0.63032096 0.92798134 0.46089877 0.75416436 0.80480879 0.79249393\n",
      " 0.36271514 0.55213342 0.88146336 0.85747459 0.36397748 0.79704483\n",
      " 0.67120529 0.76992651 0.74992613 0.65082982 0.8923472  0.74118018\n",
      " 0.83175373 0.78396763 0.86036613 0.77318569 0.43872258 0.90777586\n",
      " 0.96874185 0.71227923 0.02368603 0.02368603 0.54220173 0.58991998\n",
      " 0.82545948 0.47705319 0.39825365 0.94019596 0.52905223 0.69692532\n",
      " 0.70806405 0.91586795 0.43590471 0.9226844  0.51184301 0.02368603\n",
      " 0.55184141 0.67451368 0.82155981 0.6901971  0.02368603 0.86005221\n",
      " 0.96652978 0.84522753 0.70359349 0.92012764 0.83363122 0.65082982\n",
      " 0.84646012 0.90585523 0.52157041 0.51151323 0.36745952 0.62622922\n",
      " 0.02368603 0.57626322 0.02368603 0.50874603 0.55184141 0.78150859\n",
      " 0.60935684 0.02368603 0.54914146 0.9585777  0.50512089 0.55184141\n",
      " 0.94908905 0.02368603 0.36271514 0.83564692 0.02368603 0.97138499\n",
      " 0.82304321 0.02368603 0.63447009 0.56967249 0.63613155 0.96878164\n",
      " 0.02368603 0.84861604 0.93960065 0.77313472 0.83113222 0.71034959\n",
      " 0.93490277 0.02368603 0.395419   0.89713192 0.6037945  0.91748267\n",
      " 0.62040535 0.95228148 0.54067794 0.37414247 0.61085972 0.97026208\n",
      " 0.77097389 0.02368603 0.40599215 0.80830116 0.66386174 0.02368603\n",
      " 0.72613259 0.85355829 0.81699014 0.97050734 0.73142963 0.80149882\n",
      " 0.97093251 0.75819055 0.5772799  0.69226131 0.97275152 0.42069919\n",
      " 0.67359575 0.39683271 0.395419   0.96773754 0.98840886 0.84970548\n",
      " 0.78357344 0.02368603 0.40084546 0.86979326 0.7929375  0.87719652\n",
      " 0.8036153  0.02368603 0.9337236  0.86686313 0.93549497 0.02368603\n",
      " 0.8458571  0.86521676 0.87199949 0.98884788 0.88260161 0.5743754\n",
      " 0.9171853  0.02368603 0.77318569 0.32754218 0.98776677 0.87312876\n",
      " 0.89443843 0.02368603 0.83221179 0.85712755 0.59408965 0.36271514\n",
      " 0.98222436 0.02368603]\n",
      "\n",
      "Top 20 post ordenador por el limite inferior:\n",
      "\n"
     ]
    },
    {
     "data": {
      "text/html": [
       "<div>\n",
       "<style scoped>\n",
       "    .dataframe tbody tr th:only-of-type {\n",
       "        vertical-align: middle;\n",
       "    }\n",
       "\n",
       "    .dataframe tbody tr th {\n",
       "        vertical-align: top;\n",
       "    }\n",
       "\n",
       "    .dataframe thead th {\n",
       "        text-align: right;\n",
       "    }\n",
       "</style>\n",
       "<table border=\"1\" class=\"dataframe\">\n",
       "  <thead>\n",
       "    <tr style=\"text-align: right;\">\n",
       "      <th></th>\n",
       "      <th>Votos (+)</th>\n",
       "      <th>Votos (-)</th>\n",
       "      <th>Post</th>\n",
       "      <th>url</th>\n",
       "    </tr>\n",
       "  </thead>\n",
       "  <tbody>\n",
       "    <tr>\n",
       "      <th>0</th>\n",
       "      <td>272</td>\n",
       "      <td>0</td>\n",
       "      <td>Juraba que esta wea era un sueño febril de chico</td>\n",
       "      <td>https://i.redd.it/zvyt2znkta891.jpg</td>\n",
       "    </tr>\n",
       "    <tr>\n",
       "      <th>1</th>\n",
       "      <td>235</td>\n",
       "      <td>0</td>\n",
       "      <td>Gobierno queda fuera de querella por asesinato...</td>\n",
       "      <td>https://www.eldinamo.cl/pais/Gobierno-queda-fu...</td>\n",
       "    </tr>\n",
       "    <tr>\n",
       "      <th>2</th>\n",
       "      <td>226</td>\n",
       "      <td>0</td>\n",
       "      <td>Empresa le paga por error sueldo de $ 165 mill...</td>\n",
       "      <td>https://www.t13.cl/noticia/diario-financiero/n...</td>\n",
       "    </tr>\n",
       "    <tr>\n",
       "      <th>3</th>\n",
       "      <td>214</td>\n",
       "      <td>0</td>\n",
       "      <td>Macabro hallazgo en San José de Maipo: perro l...</td>\n",
       "      <td>https://www.biobiochile.cl/noticias/nacional/r...</td>\n",
       "    </tr>\n",
       "    <tr>\n",
       "      <th>4</th>\n",
       "      <td>724</td>\n",
       "      <td>7</td>\n",
       "      <td>ahora no po'</td>\n",
       "      <td>https://i.redd.it/83odxdkaq9791.png</td>\n",
       "    </tr>\n",
       "    <tr>\n",
       "      <th>5</th>\n",
       "      <td>773</td>\n",
       "      <td>8</td>\n",
       "      <td>Bolos</td>\n",
       "      <td>https://i.redd.it/8tx19xd0k2691.jpg</td>\n",
       "    </tr>\n",
       "    <tr>\n",
       "      <th>6</th>\n",
       "      <td>701</td>\n",
       "      <td>7</td>\n",
       "      <td>Pudú en mi u 🤠</td>\n",
       "      <td>https://i.redd.it/iux9a5xlvr891.jpg</td>\n",
       "    </tr>\n",
       "    <tr>\n",
       "      <th>7</th>\n",
       "      <td>524</td>\n",
       "      <td>5</td>\n",
       "      <td>la situación de los pudúes en Chiloé es crític...</td>\n",
       "      <td>https://www.reddit.com/gallery/vhblmb</td>\n",
       "    </tr>\n",
       "    <tr>\n",
       "      <th>8</th>\n",
       "      <td>430</td>\n",
       "      <td>4</td>\n",
       "      <td>Otros tiempos</td>\n",
       "      <td>https://i.redd.it/3dgqvverce791.jpg</td>\n",
       "    </tr>\n",
       "    <tr>\n",
       "      <th>9</th>\n",
       "      <td>478</td>\n",
       "      <td>5</td>\n",
       "      <td>Con razón hay tanto taco</td>\n",
       "      <td>https://i.redd.it/nf9c4wh63g791.jpg</td>\n",
       "    </tr>\n",
       "    <tr>\n",
       "      <th>10</th>\n",
       "      <td>383</td>\n",
       "      <td>4</td>\n",
       "      <td>Alumna fue apuñalada tras oponerse a continuid...</td>\n",
       "      <td>https://m.cooperativa.cl/noticias/pais/region-...</td>\n",
       "    </tr>\n",
       "    <tr>\n",
       "      <th>11</th>\n",
       "      <td>306</td>\n",
       "      <td>3</td>\n",
       "      <td>Hoy falleció la profesora Victoria Castro, una...</td>\n",
       "      <td>https://i.redd.it/rj35h02hko791.jpg</td>\n",
       "    </tr>\n",
       "    <tr>\n",
       "      <th>12</th>\n",
       "      <td>279</td>\n",
       "      <td>3</td>\n",
       "      <td>Toxicidad en el área de la salud en Chile</td>\n",
       "      <td>https://www.reddit.com/r/chile/comments/vnewi3...</td>\n",
       "    </tr>\n",
       "    <tr>\n",
       "      <th>13</th>\n",
       "      <td>210</td>\n",
       "      <td>2</td>\n",
       "      <td>Alcalde de Arica advierte alarmante situación ...</td>\n",
       "      <td>https://www.theclinic.cl/2022/06/17/alcalde-ar...</td>\n",
       "    </tr>\n",
       "    <tr>\n",
       "      <th>14</th>\n",
       "      <td>205</td>\n",
       "      <td>2</td>\n",
       "      <td>Médicos usaban RUT de pacientes Fonasa para si...</td>\n",
       "      <td>https://www.meganoticias.cl/nacional/379981-me...</td>\n",
       "    </tr>\n",
       "    <tr>\n",
       "      <th>15</th>\n",
       "      <td>203</td>\n",
       "      <td>2</td>\n",
       "      <td>Una curiosa nota periodística publicada en Sep...</td>\n",
       "      <td>https://i.redd.it/bdf8e3tty9791.png</td>\n",
       "    </tr>\n",
       "    <tr>\n",
       "      <th>16</th>\n",
       "      <td>852</td>\n",
       "      <td>17</td>\n",
       "      <td>Los límites del humor</td>\n",
       "      <td>https://i.redd.it/ypmeusphce691.jpg</td>\n",
       "    </tr>\n",
       "    <tr>\n",
       "      <th>17</th>\n",
       "      <td>1006</td>\n",
       "      <td>21</td>\n",
       "      <td>siempre va a haber un hueon mas loco que tu en...</td>\n",
       "      <td>https://v.redd.it/8351dplblt891</td>\n",
       "    </tr>\n",
       "    <tr>\n",
       "      <th>18</th>\n",
       "      <td>197</td>\n",
       "      <td>2</td>\n",
       "      <td>Detienen a enfermera y su pareja por ataque co...</td>\n",
       "      <td>https://www.biobiochile.cl/noticias/nacional/r...</td>\n",
       "    </tr>\n",
       "    <tr>\n",
       "      <th>19</th>\n",
       "      <td>758</td>\n",
       "      <td>15</td>\n",
       "      <td>Venezolano en Chile explica las razones por la...</td>\n",
       "      <td>https://v.redd.it/pfwny8irk8691</td>\n",
       "    </tr>\n",
       "  </tbody>\n",
       "</table>\n",
       "</div>"
      ],
      "text/plain": [
       "    Votos (+)  Votos (-)                                               Post  \\\n",
       "0         272          0   Juraba que esta wea era un sueño febril de chico   \n",
       "1         235          0  Gobierno queda fuera de querella por asesinato...   \n",
       "2         226          0  Empresa le paga por error sueldo de $ 165 mill...   \n",
       "3         214          0  Macabro hallazgo en San José de Maipo: perro l...   \n",
       "4         724          7                                       ahora no po'   \n",
       "5         773          8                                              Bolos   \n",
       "6         701          7                                     Pudú en mi u 🤠   \n",
       "7         524          5  la situación de los pudúes en Chiloé es crític...   \n",
       "8         430          4                                      Otros tiempos   \n",
       "9         478          5                           Con razón hay tanto taco   \n",
       "10        383          4  Alumna fue apuñalada tras oponerse a continuid...   \n",
       "11        306          3  Hoy falleció la profesora Victoria Castro, una...   \n",
       "12        279          3          Toxicidad en el área de la salud en Chile   \n",
       "13        210          2  Alcalde de Arica advierte alarmante situación ...   \n",
       "14        205          2  Médicos usaban RUT de pacientes Fonasa para si...   \n",
       "15        203          2  Una curiosa nota periodística publicada en Sep...   \n",
       "16        852         17                              Los límites del humor   \n",
       "17       1006         21  siempre va a haber un hueon mas loco que tu en...   \n",
       "18        197          2  Detienen a enfermera y su pareja por ataque co...   \n",
       "19        758         15  Venezolano en Chile explica las razones por la...   \n",
       "\n",
       "                                                  url  \n",
       "0                 https://i.redd.it/zvyt2znkta891.jpg  \n",
       "1   https://www.eldinamo.cl/pais/Gobierno-queda-fu...  \n",
       "2   https://www.t13.cl/noticia/diario-financiero/n...  \n",
       "3   https://www.biobiochile.cl/noticias/nacional/r...  \n",
       "4                 https://i.redd.it/83odxdkaq9791.png  \n",
       "5                 https://i.redd.it/8tx19xd0k2691.jpg  \n",
       "6                 https://i.redd.it/iux9a5xlvr891.jpg  \n",
       "7               https://www.reddit.com/gallery/vhblmb  \n",
       "8                 https://i.redd.it/3dgqvverce791.jpg  \n",
       "9                 https://i.redd.it/nf9c4wh63g791.jpg  \n",
       "10  https://m.cooperativa.cl/noticias/pais/region-...  \n",
       "11                https://i.redd.it/rj35h02hko791.jpg  \n",
       "12  https://www.reddit.com/r/chile/comments/vnewi3...  \n",
       "13  https://www.theclinic.cl/2022/06/17/alcalde-ar...  \n",
       "14  https://www.meganoticias.cl/nacional/379981-me...  \n",
       "15                https://i.redd.it/bdf8e3tty9791.png  \n",
       "16                https://i.redd.it/ypmeusphce691.jpg  \n",
       "17                    https://v.redd.it/8351dplblt891  \n",
       "18  https://www.biobiochile.cl/noticias/nacional/r...  \n",
       "19                    https://v.redd.it/pfwny8irk8691  "
      ]
     },
     "execution_count": 44,
     "metadata": {},
     "output_type": "execute_result"
    }
   ],
   "source": [
    "votos = votes[len(votes) - 1]\n",
    "posteo = post[len(post) - 1]\n",
    "print(\"lower bounds aproximados:\")\n",
    "posterior_mean, std_err = intervalos_numpy(votos[:, 0], votos[:, 1])\n",
    "lb = posterior_mean - std_err\n",
    "print(lb)\n",
    "print(\"\\nTop 20 post ordenador por el limite inferior:\\n\")\n",
    "order = np.argsort(-lb)\n",
    "vote_post = {\n",
    "    'Votos (+)': votos[order[:20], 0],\n",
    "    'Votos (-)': votos[order[:20], 1],\n",
    "    'Post': np.array(posteo)[order[:20]],\n",
    "    'url': np.array(url[len(url) - 1])[order[:20]]\n",
    "}\n",
    "df = pd.DataFrame(data=vote_post)\n",
    "ordered_post = df.Post\n",
    "df"
   ]
  },
  {
   "cell_type": "code",
   "execution_count": 40,
   "metadata": {
    "cell_id": "2a0efceb16224059bb6aca51848d260f",
    "deepnote_cell_height": 210,
    "deepnote_cell_type": "code",
    "tags": []
   },
   "outputs": [
    {
     "data": {
      "application/vnd.plotly.v1+json": {
       "config": {
        "plotlyServerURL": "https://plot.ly"
       },
       "data": [
        {
         "error_x": {
          "array": [
           0.008422330128047838,
           0.014076848109573367,
           0.0074366275774990385,
           0.00794910648703218,
           0.013672805704055482,
           0.013543229821604278,
           0.013229785288819938,
           0.011517339941444098,
           0.010525565582341082,
           0.009411365797137564,
           0.008273084361190109,
           0.008403890280478693,
           0.0075611679340609654,
           0.006531370866114761,
           0.0062813918380820654,
           0.0063277008097577135,
           0.00760360514881143,
           0.007205170871859832,
           0.006932711395451692,
           0.005999960040359236
          ]
         },
         "hovertemplate": "mean=%{x}<br>post=%{y}<extra></extra>",
         "legendgroup": "",
         "marker": {
          "color": "#636efa",
          "symbol": "circle"
         },
         "mode": "markers",
         "name": "",
         "orientation": "h",
         "showlegend": false,
         "type": "scatter",
         "x": [
          0.9793548387096774,
          0.9850746268656716,
          0.9786200194363459,
          0.9793340987370838,
          0.9855072463768116,
          0.9856459330143541,
          0.985981308411215,
          0.9859154929577465,
          0.9871382636655949,
          0.987146529562982,
          0.9876288659793815,
          0.9885321100917431,
          0.9887005649717514,
          0.9887323943661972,
          0.9885057471264368,
          0.9890859481582538,
          0.9953703703703703,
          0.9956140350877193,
          0.9957805907172996,
          0.9963503649635036
         ],
         "xaxis": "x",
         "y": [
          "Venezolano en Chile explica las razones por las que volvería a Perú: No puede sobornar a Carabineros.",
          "Detienen a enfermera y su pareja por ataque contra su compañera de trabajo en Las Condes",
          "siempre va a haber un hueon mas loco que tu en la calle",
          "Los límites del humor",
          "Una curiosa nota periodística publicada en Septiembre de 1940 que me encontré.",
          "Médicos usaban RUT de pacientes Fonasa para simular atenciones que nunca sucedieron: así se gestó el millonario fraude",
          "Alcalde de Arica advierte alarmante situación por crímenes de \"Tren de Aragua\" en la zona: \"Es como estar en un capítulo de Breaking Bad\"",
          "Toxicidad en el área de la salud en Chile",
          "Hoy falleció la profesora Victoria Castro, una de las impulsoras de la arqueología chilena y formadora de varias generaciones de arqueólos. Gran mujer.",
          "Alumna fue apuñalada tras oponerse a continuidad de toma en liceo de Concepción",
          "Con razón hay tanto taco",
          "Otros tiempos",
          "la situación de los pudúes en Chiloé es crítica. @chiloesilvestre",
          "Pudú en mi u 🤠",
          "Bolos",
          "ahora no po'",
          "Macabro hallazgo en San José de Maipo: perro llegó a su casa con una cabeza humana | Nacional | BioBioChile",
          "Empresa le paga por error sueldo de $ 165 millones a trabajador, éste desaparece... y luego renuncia",
          "Gobierno queda fuera de querella por asesinato de carabinero: abogado se quedó dormido",
          "Juraba que esta wea era un sueño febril de chico"
         ],
         "yaxis": "y"
        }
       ],
       "layout": {
        "legend": {
         "tracegroupgap": 0
        },
        "margin": {
         "t": 60
        },
        "template": {
         "data": {
          "bar": [
           {
            "error_x": {
             "color": "#2a3f5f"
            },
            "error_y": {
             "color": "#2a3f5f"
            },
            "marker": {
             "line": {
              "color": "#E5ECF6",
              "width": 0.5
             },
             "pattern": {
              "fillmode": "overlay",
              "size": 10,
              "solidity": 0.2
             }
            },
            "type": "bar"
           }
          ],
          "barpolar": [
           {
            "marker": {
             "line": {
              "color": "#E5ECF6",
              "width": 0.5
             },
             "pattern": {
              "fillmode": "overlay",
              "size": 10,
              "solidity": 0.2
             }
            },
            "type": "barpolar"
           }
          ],
          "carpet": [
           {
            "aaxis": {
             "endlinecolor": "#2a3f5f",
             "gridcolor": "white",
             "linecolor": "white",
             "minorgridcolor": "white",
             "startlinecolor": "#2a3f5f"
            },
            "baxis": {
             "endlinecolor": "#2a3f5f",
             "gridcolor": "white",
             "linecolor": "white",
             "minorgridcolor": "white",
             "startlinecolor": "#2a3f5f"
            },
            "type": "carpet"
           }
          ],
          "choropleth": [
           {
            "colorbar": {
             "outlinewidth": 0,
             "ticks": ""
            },
            "type": "choropleth"
           }
          ],
          "contour": [
           {
            "colorbar": {
             "outlinewidth": 0,
             "ticks": ""
            },
            "colorscale": [
             [
              0,
              "#0d0887"
             ],
             [
              0.1111111111111111,
              "#46039f"
             ],
             [
              0.2222222222222222,
              "#7201a8"
             ],
             [
              0.3333333333333333,
              "#9c179e"
             ],
             [
              0.4444444444444444,
              "#bd3786"
             ],
             [
              0.5555555555555556,
              "#d8576b"
             ],
             [
              0.6666666666666666,
              "#ed7953"
             ],
             [
              0.7777777777777778,
              "#fb9f3a"
             ],
             [
              0.8888888888888888,
              "#fdca26"
             ],
             [
              1,
              "#f0f921"
             ]
            ],
            "type": "contour"
           }
          ],
          "contourcarpet": [
           {
            "colorbar": {
             "outlinewidth": 0,
             "ticks": ""
            },
            "type": "contourcarpet"
           }
          ],
          "heatmap": [
           {
            "colorbar": {
             "outlinewidth": 0,
             "ticks": ""
            },
            "colorscale": [
             [
              0,
              "#0d0887"
             ],
             [
              0.1111111111111111,
              "#46039f"
             ],
             [
              0.2222222222222222,
              "#7201a8"
             ],
             [
              0.3333333333333333,
              "#9c179e"
             ],
             [
              0.4444444444444444,
              "#bd3786"
             ],
             [
              0.5555555555555556,
              "#d8576b"
             ],
             [
              0.6666666666666666,
              "#ed7953"
             ],
             [
              0.7777777777777778,
              "#fb9f3a"
             ],
             [
              0.8888888888888888,
              "#fdca26"
             ],
             [
              1,
              "#f0f921"
             ]
            ],
            "type": "heatmap"
           }
          ],
          "heatmapgl": [
           {
            "colorbar": {
             "outlinewidth": 0,
             "ticks": ""
            },
            "colorscale": [
             [
              0,
              "#0d0887"
             ],
             [
              0.1111111111111111,
              "#46039f"
             ],
             [
              0.2222222222222222,
              "#7201a8"
             ],
             [
              0.3333333333333333,
              "#9c179e"
             ],
             [
              0.4444444444444444,
              "#bd3786"
             ],
             [
              0.5555555555555556,
              "#d8576b"
             ],
             [
              0.6666666666666666,
              "#ed7953"
             ],
             [
              0.7777777777777778,
              "#fb9f3a"
             ],
             [
              0.8888888888888888,
              "#fdca26"
             ],
             [
              1,
              "#f0f921"
             ]
            ],
            "type": "heatmapgl"
           }
          ],
          "histogram": [
           {
            "marker": {
             "pattern": {
              "fillmode": "overlay",
              "size": 10,
              "solidity": 0.2
             }
            },
            "type": "histogram"
           }
          ],
          "histogram2d": [
           {
            "colorbar": {
             "outlinewidth": 0,
             "ticks": ""
            },
            "colorscale": [
             [
              0,
              "#0d0887"
             ],
             [
              0.1111111111111111,
              "#46039f"
             ],
             [
              0.2222222222222222,
              "#7201a8"
             ],
             [
              0.3333333333333333,
              "#9c179e"
             ],
             [
              0.4444444444444444,
              "#bd3786"
             ],
             [
              0.5555555555555556,
              "#d8576b"
             ],
             [
              0.6666666666666666,
              "#ed7953"
             ],
             [
              0.7777777777777778,
              "#fb9f3a"
             ],
             [
              0.8888888888888888,
              "#fdca26"
             ],
             [
              1,
              "#f0f921"
             ]
            ],
            "type": "histogram2d"
           }
          ],
          "histogram2dcontour": [
           {
            "colorbar": {
             "outlinewidth": 0,
             "ticks": ""
            },
            "colorscale": [
             [
              0,
              "#0d0887"
             ],
             [
              0.1111111111111111,
              "#46039f"
             ],
             [
              0.2222222222222222,
              "#7201a8"
             ],
             [
              0.3333333333333333,
              "#9c179e"
             ],
             [
              0.4444444444444444,
              "#bd3786"
             ],
             [
              0.5555555555555556,
              "#d8576b"
             ],
             [
              0.6666666666666666,
              "#ed7953"
             ],
             [
              0.7777777777777778,
              "#fb9f3a"
             ],
             [
              0.8888888888888888,
              "#fdca26"
             ],
             [
              1,
              "#f0f921"
             ]
            ],
            "type": "histogram2dcontour"
           }
          ],
          "mesh3d": [
           {
            "colorbar": {
             "outlinewidth": 0,
             "ticks": ""
            },
            "type": "mesh3d"
           }
          ],
          "parcoords": [
           {
            "line": {
             "colorbar": {
              "outlinewidth": 0,
              "ticks": ""
             }
            },
            "type": "parcoords"
           }
          ],
          "pie": [
           {
            "automargin": true,
            "type": "pie"
           }
          ],
          "scatter": [
           {
            "fillpattern": {
             "fillmode": "overlay",
             "size": 10,
             "solidity": 0.2
            },
            "type": "scatter"
           }
          ],
          "scatter3d": [
           {
            "line": {
             "colorbar": {
              "outlinewidth": 0,
              "ticks": ""
             }
            },
            "marker": {
             "colorbar": {
              "outlinewidth": 0,
              "ticks": ""
             }
            },
            "type": "scatter3d"
           }
          ],
          "scattercarpet": [
           {
            "marker": {
             "colorbar": {
              "outlinewidth": 0,
              "ticks": ""
             }
            },
            "type": "scattercarpet"
           }
          ],
          "scattergeo": [
           {
            "marker": {
             "colorbar": {
              "outlinewidth": 0,
              "ticks": ""
             }
            },
            "type": "scattergeo"
           }
          ],
          "scattergl": [
           {
            "marker": {
             "colorbar": {
              "outlinewidth": 0,
              "ticks": ""
             }
            },
            "type": "scattergl"
           }
          ],
          "scattermapbox": [
           {
            "marker": {
             "colorbar": {
              "outlinewidth": 0,
              "ticks": ""
             }
            },
            "type": "scattermapbox"
           }
          ],
          "scatterpolar": [
           {
            "marker": {
             "colorbar": {
              "outlinewidth": 0,
              "ticks": ""
             }
            },
            "type": "scatterpolar"
           }
          ],
          "scatterpolargl": [
           {
            "marker": {
             "colorbar": {
              "outlinewidth": 0,
              "ticks": ""
             }
            },
            "type": "scatterpolargl"
           }
          ],
          "scatterternary": [
           {
            "marker": {
             "colorbar": {
              "outlinewidth": 0,
              "ticks": ""
             }
            },
            "type": "scatterternary"
           }
          ],
          "surface": [
           {
            "colorbar": {
             "outlinewidth": 0,
             "ticks": ""
            },
            "colorscale": [
             [
              0,
              "#0d0887"
             ],
             [
              0.1111111111111111,
              "#46039f"
             ],
             [
              0.2222222222222222,
              "#7201a8"
             ],
             [
              0.3333333333333333,
              "#9c179e"
             ],
             [
              0.4444444444444444,
              "#bd3786"
             ],
             [
              0.5555555555555556,
              "#d8576b"
             ],
             [
              0.6666666666666666,
              "#ed7953"
             ],
             [
              0.7777777777777778,
              "#fb9f3a"
             ],
             [
              0.8888888888888888,
              "#fdca26"
             ],
             [
              1,
              "#f0f921"
             ]
            ],
            "type": "surface"
           }
          ],
          "table": [
           {
            "cells": {
             "fill": {
              "color": "#EBF0F8"
             },
             "line": {
              "color": "white"
             }
            },
            "header": {
             "fill": {
              "color": "#C8D4E3"
             },
             "line": {
              "color": "white"
             }
            },
            "type": "table"
           }
          ]
         },
         "layout": {
          "annotationdefaults": {
           "arrowcolor": "#2a3f5f",
           "arrowhead": 0,
           "arrowwidth": 1
          },
          "autotypenumbers": "strict",
          "coloraxis": {
           "colorbar": {
            "outlinewidth": 0,
            "ticks": ""
           }
          },
          "colorscale": {
           "diverging": [
            [
             0,
             "#8e0152"
            ],
            [
             0.1,
             "#c51b7d"
            ],
            [
             0.2,
             "#de77ae"
            ],
            [
             0.3,
             "#f1b6da"
            ],
            [
             0.4,
             "#fde0ef"
            ],
            [
             0.5,
             "#f7f7f7"
            ],
            [
             0.6,
             "#e6f5d0"
            ],
            [
             0.7,
             "#b8e186"
            ],
            [
             0.8,
             "#7fbc41"
            ],
            [
             0.9,
             "#4d9221"
            ],
            [
             1,
             "#276419"
            ]
           ],
           "sequential": [
            [
             0,
             "#0d0887"
            ],
            [
             0.1111111111111111,
             "#46039f"
            ],
            [
             0.2222222222222222,
             "#7201a8"
            ],
            [
             0.3333333333333333,
             "#9c179e"
            ],
            [
             0.4444444444444444,
             "#bd3786"
            ],
            [
             0.5555555555555556,
             "#d8576b"
            ],
            [
             0.6666666666666666,
             "#ed7953"
            ],
            [
             0.7777777777777778,
             "#fb9f3a"
            ],
            [
             0.8888888888888888,
             "#fdca26"
            ],
            [
             1,
             "#f0f921"
            ]
           ],
           "sequentialminus": [
            [
             0,
             "#0d0887"
            ],
            [
             0.1111111111111111,
             "#46039f"
            ],
            [
             0.2222222222222222,
             "#7201a8"
            ],
            [
             0.3333333333333333,
             "#9c179e"
            ],
            [
             0.4444444444444444,
             "#bd3786"
            ],
            [
             0.5555555555555556,
             "#d8576b"
            ],
            [
             0.6666666666666666,
             "#ed7953"
            ],
            [
             0.7777777777777778,
             "#fb9f3a"
            ],
            [
             0.8888888888888888,
             "#fdca26"
            ],
            [
             1,
             "#f0f921"
            ]
           ]
          },
          "colorway": [
           "#636efa",
           "#EF553B",
           "#00cc96",
           "#ab63fa",
           "#FFA15A",
           "#19d3f3",
           "#FF6692",
           "#B6E880",
           "#FF97FF",
           "#FECB52"
          ],
          "font": {
           "color": "#2a3f5f"
          },
          "geo": {
           "bgcolor": "white",
           "lakecolor": "white",
           "landcolor": "#E5ECF6",
           "showlakes": true,
           "showland": true,
           "subunitcolor": "white"
          },
          "hoverlabel": {
           "align": "left"
          },
          "hovermode": "closest",
          "mapbox": {
           "style": "light"
          },
          "paper_bgcolor": "white",
          "plot_bgcolor": "#E5ECF6",
          "polar": {
           "angularaxis": {
            "gridcolor": "white",
            "linecolor": "white",
            "ticks": ""
           },
           "bgcolor": "#E5ECF6",
           "radialaxis": {
            "gridcolor": "white",
            "linecolor": "white",
            "ticks": ""
           }
          },
          "scene": {
           "xaxis": {
            "backgroundcolor": "#E5ECF6",
            "gridcolor": "white",
            "gridwidth": 2,
            "linecolor": "white",
            "showbackground": true,
            "ticks": "",
            "zerolinecolor": "white"
           },
           "yaxis": {
            "backgroundcolor": "#E5ECF6",
            "gridcolor": "white",
            "gridwidth": 2,
            "linecolor": "white",
            "showbackground": true,
            "ticks": "",
            "zerolinecolor": "white"
           },
           "zaxis": {
            "backgroundcolor": "#E5ECF6",
            "gridcolor": "white",
            "gridwidth": 2,
            "linecolor": "white",
            "showbackground": true,
            "ticks": "",
            "zerolinecolor": "white"
           }
          },
          "shapedefaults": {
           "line": {
            "color": "#2a3f5f"
           }
          },
          "ternary": {
           "aaxis": {
            "gridcolor": "white",
            "linecolor": "white",
            "ticks": ""
           },
           "baxis": {
            "gridcolor": "white",
            "linecolor": "white",
            "ticks": ""
           },
           "bgcolor": "#E5ECF6",
           "caxis": {
            "gridcolor": "white",
            "linecolor": "white",
            "ticks": ""
           }
          },
          "title": {
           "x": 0.05
          },
          "xaxis": {
           "automargin": true,
           "gridcolor": "white",
           "linecolor": "white",
           "ticks": "",
           "title": {
            "standoff": 15
           },
           "zerolinecolor": "white",
           "zerolinewidth": 2
          },
          "yaxis": {
           "automargin": true,
           "gridcolor": "white",
           "linecolor": "white",
           "ticks": "",
           "title": {
            "standoff": 15
           },
           "zerolinecolor": "white",
           "zerolinewidth": 2
          }
         }
        },
        "xaxis": {
         "anchor": "y",
         "domain": [
          0,
          1
         ],
         "title": {
          "text": "mean"
         }
        },
        "yaxis": {
         "anchor": "x",
         "domain": [
          0,
          1
         ],
         "title": {
          "text": "post"
         }
        }
       }
      }
     },
     "metadata": {},
     "output_type": "display_data"
    }
   ],
   "source": [
    "r_order = order[::-1][-20:]\n",
    "data_dic = {\n",
    "    'mean': posterior_mean[r_order],\n",
    "    'std_err': std_err[r_order],\n",
    "    'post': ordered_post[::-1]\n",
    "}\n",
    "df = pd.DataFrame(data=data_dic)\n",
    "fig = px.scatter(df, x=\"mean\", y=\"post\", error_x=\"std_err\")\n",
    "fig.show()"
   ]
  },
  {
   "cell_type": "markdown",
   "metadata": {
    "cell_id": "00033-eddd71de-b9a7-4779-924a-964c68603845",
    "deepnote_cell_height": 52.390625,
    "deepnote_cell_type": "markdown",
    "id": "szOjXLKA1Rif"
   },
   "source": [
    "**Respuesta:**"
   ]
  },
  {
   "cell_type": "markdown",
   "metadata": {
    "cell_id": "00034-92ca5c7c-071c-4e99-9f17-dec033ed4c24",
    "deepnote_cell_height": 52.390625,
    "deepnote_cell_type": "markdown",
    "id": "0F83QdD61Pd1"
   },
   "source": [
    "`Qué logra observar? La solución resulta trivial? `\n",
    "\n",
    "En base al dataframe se puede ver que los posts más populares son aquellos post que tienen 0 votos negativos, lo cual puede estar boosteando de sobremanera las submisiones de reddit por sobre otras que tienen de 3 a 4 veces más votos, pero que por unos pocos votos negativos se encuentran con una popularidad menor. Un ejemplo de esto son los posts que se encuentra en la 4ta, 5ta y 6ta posición, los cuales tienen entre 700 y 800 votos positivos por lo que naturalmente se pensaría que son más populares que los que se encuentran en los primeros lugares, los cuales no superan los 280 votos positivos.\n",
    "\n",
    "En este sentido se cree que la solución no resulta trivial dado que el algoritmo que se está implementando para la obtención de las medias no está tomando en consideración la proporción o magnitud de votos positivos por sobre los votos negativos de la mejor manera, afectando esto en el std_error otorgando por ejemplo diferencias muy grandes entre los valores de min y max en aquellos post que cuentan con una menor cantidad de votos."
   ]
  },
  {
   "cell_type": "markdown",
   "metadata": {
    "cell_id": "00035-93d50cd9-ff61-4aa8-ae41-e84009a3f64e",
    "deepnote_cell_height": 269,
    "deepnote_cell_type": "markdown",
    "id": "Rg4ZMq8ezAH6"
   },
   "source": [
    "<p align=\"center\">\n",
    "  <img src=\"https://media1.tenor.com/images/fb5bf7cc5a4acb91b4177672886a88ba/tenor.gif?itemid=5591338\">\n",
    "</p>"
   ]
  },
  {
   "cell_type": "markdown",
   "metadata": {
    "created_in_deepnote_cell": true,
    "deepnote_cell_type": "markdown",
    "tags": []
   },
   "source": [
    "<a style='text-decoration:none;line-height:16px;display:flex;color:#5B5B62;padding:10px;justify-content:end;' href='https://deepnote.com?utm_source=created-in-deepnote-cell&projectId=87110296-876e-426f-b91d-aaf681223468' target=\"_blank\">\n",
    "<img alt='Created in deepnote.com' style='display:inline;max-height:16px;margin:0px;margin-right:7.5px;' src='data:image/svg+xml;base64,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' > </img>\n",
    "Created in <span style='font-weight:600;margin-left:4px;'>Deepnote</span></a>"
   ]
  }
 ],
 "metadata": {
  "colab": {
   "collapsed_sections": [],
   "name": "Copia de enunciado_Laboratorio5.ipynb",
   "provenance": []
  },
  "deepnote": {},
  "deepnote_execution_queue": [],
  "deepnote_notebook_id": "86c0ae4d-10d9-41be-9dc9-0e76fdf26f7b",
  "kernelspec": {
   "display_name": "Python 3.8.8 ('base')",
   "language": "python",
   "name": "python3"
  },
  "language_info": {
   "codemirror_mode": {
    "name": "ipython",
    "version": 3
   },
   "file_extension": ".py",
   "mimetype": "text/x-python",
   "name": "python",
   "nbconvert_exporter": "python",
   "pygments_lexer": "ipython3",
   "version": "3.8.8"
  },
  "toc": {
   "base_numbering": 1,
   "nav_menu": {},
   "number_sections": true,
   "sideBar": true,
   "skip_h1_title": true,
   "title_cell": "Tabla de Contenidos",
   "title_sidebar": "Contenidos",
   "toc_cell": false,
   "toc_position": {
    "height": "calc(100% - 180px)",
    "left": "10px",
    "top": "150px",
    "width": "241.867px"
   },
   "toc_section_display": true,
   "toc_window_display": true
  },
  "varInspector": {
   "cols": {
    "lenName": 16,
    "lenType": 16,
    "lenVar": 40
   },
   "kernels_config": {
    "python": {
     "delete_cmd_postfix": "",
     "delete_cmd_prefix": "del ",
     "library": "var_list.py",
     "varRefreshCmd": "print(var_dic_list())"
    },
    "r": {
     "delete_cmd_postfix": ") ",
     "delete_cmd_prefix": "rm(",
     "library": "var_list.r",
     "varRefreshCmd": "cat(var_dic_list()) "
    }
   },
   "types_to_exclude": [
    "module",
    "function",
    "builtin_function_or_method",
    "instance",
    "_Feature"
   ],
   "window_display": false
  },
  "vscode": {
   "interpreter": {
    "hash": "798180a8676e96c14c0fd9e926c1c48c306fd01c8d0021a07bcb0710a6e640fa"
   }
  }
 },
 "nbformat": 4,
 "nbformat_minor": 4
}
