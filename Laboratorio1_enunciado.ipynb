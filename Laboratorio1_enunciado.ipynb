{
  "cells": [
    {
      "cell_type": "markdown",
      "source": [
        "<h1><center>Laboratorio 1: Primeros pasos 👣</center></h1>\n",
        "\n",
        "<center><strong>MDS7202: Laboratorio de Programación Científica para Ciencia de Datos - Primavera 2021</strong></center>"
      ],
      "metadata": {
        "id": "cd7b1b55",
        "cell_id": "8cc73c45-7557-4a81-b633-5c9d4846f89a",
        "deepnote_cell_type": "markdown",
        "deepnote_cell_height": 104.390625
      },
      "id": "cd7b1b55"
    },
    {
      "cell_type": "markdown",
      "source": [
        "### Cuerpo Docente:\n",
        "\n",
        "- Profesor: Pablo Badilla\n",
        "- Auxiliar: Ignacio Meza D.\n",
        "- Ayudante: Patricio Ortiz"
      ],
      "metadata": {
        "id": "Vp_vOHK7V97e",
        "cell_id": "00001-88b0af62-a32b-4a43-a29c-18e186a5b27c",
        "deepnote_cell_type": "markdown",
        "deepnote_cell_height": 165.171875
      },
      "id": "Vp_vOHK7V97e"
    },
    {
      "cell_type": "markdown",
      "source": [
        "### Equipo: SUPER IMPORTANTE - notebooks sin nombre no serán revisados\n",
        "\n",
        "- Nombre de alumno 1: Cristóbal Igor\n",
        "- Nombre de alumno 2: Nicolás Gatica\n"
      ],
      "metadata": {
        "id": "4N_5AYgyWKyA",
        "cell_id": "00002-0750fcdb-b4ae-4cf1-a4a4-d9bfa0333bb0",
        "deepnote_cell_type": "markdown",
        "deepnote_cell_height": 139.78125
      },
      "id": "4N_5AYgyWKyA"
    },
    {
      "cell_type": "markdown",
      "source": [
        "### **Link de repositorio de GitHub:** https://github.com/ngatica/LaboratoriosMDS"
      ],
      "metadata": {
        "id": "1rjlaJDEWxd9",
        "cell_id": "00003-b8b49849-bb56-4cc2-a48a-61b39fec1b81",
        "deepnote_cell_type": "markdown",
        "deepnote_cell_height": 94
      },
      "id": "1rjlaJDEWxd9"
    },
    {
      "cell_type": "markdown",
      "source": [
        "## Reglas:\n",
        "\n",
        "- Fecha de entrega: 6 días desde la publicación, 3 días de atraso con 1 punto de descuento c/u. Pueden utilizar días bonus sin descuento.\n",
        "- **Grupos de 2 personas**.\n",
        "- **Ausentes** deberán realizar la actividad solos. \n",
        "- Cualquier duda fuera del horario de clases al foro. Mensajes al equipo docente serán respondidos por este medio.\n",
        "- Prohibidas las copias. \n",
        "- Pueden usar cualquer material del curso que estimen conveniente."
      ],
      "metadata": {
        "id": "9el9ERaKWW3i",
        "cell_id": "00004-d7422315-3cc6-4ad4-b418-514de45de736",
        "deepnote_cell_type": "markdown",
        "deepnote_cell_height": 271.734375
      },
      "id": "9el9ERaKWW3i"
    },
    {
      "cell_type": "markdown",
      "source": [
        "\n",
        "## Objetivos del lab:\n",
        "\n",
        "\n",
        "- Variables, Operadores y Expresiones.\n",
        "- Estructuras de Control (if/else).\n",
        "- Iteraciones.\n",
        "- Listas y Diccionarios.\n",
        "- Programación Funcional (Map, Filter y Reduce).\n",
        "- Programación Orientada a Objetos (Encapsulamiento, Polimorfismo y Herencia)"
      ],
      "metadata": {
        "id": "4708b9b7",
        "cell_id": "00005-51a1f93d-29a6-4e55-b7bb-2bcb0ed957ed",
        "deepnote_cell_type": "markdown",
        "deepnote_cell_height": 249.34375
      },
      "id": "4708b9b7"
    },
    {
      "cell_type": "markdown",
      "source": [
        "## Parte 1: 🍋 Frutas 🍓\n",
        "\n",
        "En esta primera parte se trabajará lo escencial visto hasta el momento más un poco de programación funcional a través de frutas:\n",
        "\n",
        "<div align='center'>\n",
        "<img src='https://upload.wikimedia.org/wikipedia/commons/a/a2/Berries_in_Berlin.jpg' width=600/>\n",
        "</div>"
      ],
      "metadata": {
        "id": "d58b089c",
        "cell_id": "00006-efe63da9-f6f9-4882-9fa9-f71fd952629f",
        "deepnote_cell_type": "markdown",
        "deepnote_cell_height": 508.28125
      },
      "id": "d58b089c"
    },
    {
      "cell_type": "markdown",
      "source": [
        "Defina las siguientes frutas como diccionarios a partir de sus características (nombre, color, tipo y si posee o no pepas):\n",
        "\n",
        "| Nombre    | Tipo     | Color    | Pepas |\n",
        "|-----------|----------|----------|-------|\n",
        "| limon     | cítrica  | amarillo | True  |\n",
        "| naranja   | cítrica  | naranjo  | True  |\n",
        "| plátano   | tropical | amarillo | False |\n",
        "| piña      | tropical | amarillo | False |\n",
        "| frutilla  | bosque   | rojo     | True |\n",
        "| frambuesa | bosque   | rojo     | True |"
      ],
      "metadata": {
        "id": "5fdf6b19",
        "cell_id": "00007-9e6f7a23-aa74-45c7-888c-ff4db249d008",
        "deepnote_cell_type": "markdown",
        "deepnote_cell_height": 237.125
      },
      "id": "5fdf6b19"
    },
    {
      "cell_type": "markdown",
      "source": [
        "### [0.5] Estructurar Datos \n",
        "\n",
        "Agregue Piña, Frutilla y Frambuesa como diccionarios (siga los ejemplos de las frutas dadas) y luego cree un arreglo que contenga estas frutas.\n"
      ],
      "metadata": {
        "id": "33aed47b",
        "cell_id": "00008-0efe55b8-e77f-4158-998a-f0b7d0fcaf11",
        "deepnote_cell_type": "markdown",
        "deepnote_cell_height": 122.78125
      },
      "id": "33aed47b"
    },
    {
      "cell_type": "code",
      "metadata": {
        "id": "26d23e26",
        "deepnote_to_be_reexecuted": false,
        "source_hash": "bd80790d",
        "execution_start": 1649363284129,
        "execution_millis": 7,
        "cell_id": "00009-23a02d4a-75bf-49ff-b232-7b8555314e33",
        "deepnote_cell_type": "code",
        "deepnote_cell_height": 729
      },
      "source": [
        "limon = {\n",
        "    \"nombre\": \"limón\", \n",
        "    \"tipo\": \"cítrica\", \n",
        "    \"color\": \"amarillo\", \n",
        "    \"pepas\": True\n",
        "    }\n",
        "\n",
        "naranja = {\"nombre\": \"naranja\", \n",
        "           \"tipo\": \"cítrica\", \n",
        "           \"color\": \"naranjo\", \n",
        "           \"pepas\": True\n",
        "          }\n",
        "\n",
        "platano = {\"nombre\": \"plátano\", \n",
        "           \"tipo\": \"tropical\", \n",
        "           \"color\": \"amarillo\", \n",
        "           \"pepas\": False\n",
        "          }\n",
        "          \n",
        "# agregar las frutas que faltan aquí\n",
        "piña = {\"nombre\": \"piña\",\n",
        "           \"tipo\": \"tropical\", \n",
        "           \"color\": \"amarillo\", \n",
        "           \"pepas\": False\n",
        "          }\n",
        "\n",
        "frutilla = {\"nombre\": \"frutilla\",\n",
        "\"tipo\": \"bosque\",\n",
        "\"color\": \"rojo\",\n",
        "\"pepas\": True}\n",
        "\n",
        "\n",
        "frambuesa = {\"nombre\": \"frambuesa\",\n",
        "\"tipo\": \"bosque\",\n",
        "\"color\": \"rojo\",\n",
        "\"pepas\": True}\n"
      ],
      "execution_count": null,
      "outputs": [],
      "id": "26d23e26"
    },
    {
      "cell_type": "markdown",
      "source": [
        "Ahora, agregue todas las frutas a un arreglo."
      ],
      "metadata": {
        "id": "259ee333",
        "cell_id": "00010-00a566fa-2c09-4586-9215-578031a05ccb",
        "deepnote_cell_type": "markdown",
        "deepnote_cell_height": 52.390625
      },
      "id": "259ee333"
    },
    {
      "cell_type": "code",
      "metadata": {
        "id": "fcf62186",
        "deepnote_to_be_reexecuted": false,
        "source_hash": "f4ef38c3",
        "execution_start": 1649363287361,
        "execution_millis": 1,
        "cell_id": "00011-6939583b-1092-4998-aaf7-1e390243efe0",
        "deepnote_cell_type": "code",
        "deepnote_cell_height": 99
      },
      "source": [
        "# Ojo: agregue los datos en el mismo orden que aparecen en la tabla\n",
        "datos = [limon, naranja, platano, piña, frutilla, frambuesa]"
      ],
      "execution_count": null,
      "outputs": [],
      "id": "fcf62186"
    },
    {
      "cell_type": "markdown",
      "source": [
        "Este arreglo será la información con la que se trabajará durante el lab."
      ],
      "metadata": {
        "id": "2ed7730e",
        "cell_id": "00012-2defb587-d459-4356-8211-dab97818b8d4",
        "deepnote_cell_type": "markdown",
        "deepnote_cell_height": 52.390625
      },
      "id": "2ed7730e"
    },
    {
      "cell_type": "markdown",
      "source": [
        "### Funciones Aplicadas a los Datos [1.5 puntos]"
      ],
      "metadata": {
        "id": "e9b1e46d",
        "cell_id": "00013-24c31dd0-b531-4e29-b493-12c521264f30",
        "deepnote_cell_type": "markdown",
        "deepnote_cell_height": 62
      },
      "id": "e9b1e46d"
    },
    {
      "cell_type": "markdown",
      "source": [
        "Elabore las siguientes funciones:\n",
        "    \n",
        "**1. La función `describir(datos)` que genere un arreglo con strings que describan cada fruta de la siguiente manera:**\n",
        "\n",
        "```{El/La} {...} es una fruta de tipo {...} de color {...}. {Presenta/No presenta} pepas en su interior.```\n",
        "    \n",
        "Por ejemplo, para el plátano se debe generar el siguiente string:\n",
        "    \n",
        "```\n",
        "'El plátano es una fruta de tipo tropical de color amarillo. No presenta pepas en su interior.'\n",
        "```\n",
        "    \n",
        "Indicaciones: \n",
        "- Usen formateo o suma de strings, if, else y for.\n",
        "- Para saber si ocupar 'El' o 'La', pueden acceder al nombre de la fruta y ver cual es el último carácter a través de indexadores `string[indice]`.\n",
        "    \n",
        "**2. La función `filtrar_por_pepa(datos, tiene_pepas)` que dado un tipo de fruta y un booleano, retorne las frutas que tienen o no tienen pepas (según el valor de `tiene_pepas`).**\n",
        "    \n",
        "\n",
        "Por ejemplo, `filtrar_por_pepa(datos, True)` deberá retornar un arreglo con los diccionarios de: naranja, limon, frutilla y frambuesa.\n",
        "\n",
        "\n",
        "**3. La función `conteo_colores(datos)` que cree un diccionario que haga un conteo los colores de las frutas.**\n",
        "\n",
        "Para estos datos, la función debería retornar el siguiente diccionario: \n",
        "    \n",
        "```python\n",
        "{\"amarillo\": 3, \"naranjo\": 1, \"rojo\": 2}\n",
        "````"
      ],
      "metadata": {
        "id": "b7b016d6",
        "cell_id": "00014-496b8ab6-913a-4a47-a9ff-1c25b099d386",
        "deepnote_cell_type": "markdown",
        "deepnote_cell_height": 569.65625
      },
      "id": "b7b016d6"
    },
    {
      "cell_type": "code",
      "metadata": {
        "id": "023bc051",
        "deepnote_to_be_reexecuted": false,
        "source_hash": "b4012dee",
        "execution_start": 1649363293168,
        "execution_millis": 19,
        "cell_id": "00015-02d1a164-251d-44d6-86d4-75642693b72e",
        "deepnote_cell_type": "code",
        "deepnote_cell_height": 747
      },
      "source": [
        "def describir(datos):\n",
        "    descripciones = []\n",
        "    # Código Aquí\n",
        "    for fruta in datos:\n",
        "        #pronombre\n",
        "        if fruta['nombre'][-1] == 'a':\n",
        "            pronombre = 'La'\n",
        "        else:\n",
        "            pronombre = 'El'\n",
        "\n",
        "        #pepas \n",
        "        if fruta['pepas']:\n",
        "            presenta='Presenta'\n",
        "        else:\n",
        "            presenta='No presenta'\n",
        "\n",
        "        descripciones.append(f\"{pronombre} {fruta['nombre']} es una fruta de tipo {fruta['tipo']} de color {fruta['color']}. {presenta} pepas en su interior.\")\n",
        "    return descripciones\n",
        "\n",
        "\n",
        "def filtrar_por_pepa(datos, tiene_pepas):\n",
        "    # Código Aquí\n",
        "    filtrados=[]\n",
        "    for fruta in datos:\n",
        "        if fruta['pepas'] == tiene_pepas:\n",
        "            filtrados.append(fruta)\n",
        "    return filtrados\n",
        "\n",
        "\n",
        "def conteo_colores(datos):\n",
        "    # Código Aquí\n",
        "    conteo={}\n",
        "    for fruta in datos:\n",
        "        if fruta['color'] in conteo:\n",
        "            conteo[fruta['color']] += 1\n",
        "        else:\n",
        "            conteo[fruta['color']]=1\n",
        "    return conteo"
      ],
      "execution_count": null,
      "outputs": [],
      "id": "023bc051"
    },
    {
      "cell_type": "markdown",
      "source": [
        "El código de la siguiente celda presenta tests para probar sus funciones: Si la ejecución de esta celda no les levanta ninguna excepción, entonces sus funciones están implementadas según lo requerido. Si alguna falla, entonces deberán corregir los errores mostrados. \n",
        "Noten que los strings, diccionarios y en general, los objetos deben ser exactamente idénticos para que el test no falle.\n"
      ],
      "metadata": {
        "id": "5240bec1",
        "cell_id": "00016-00dc4ab1-fcc8-4146-b5c0-3fd35b83ff8b",
        "deepnote_cell_type": "markdown",
        "deepnote_cell_height": 119.5625
      },
      "id": "5240bec1"
    },
    {
      "cell_type": "markdown",
      "source": [
        "**Ejecuten esta celda para comprobar su código:**"
      ],
      "metadata": {
        "id": "F2mt7aIusap8",
        "cell_id": "00017-576f30ed-3e5f-40f2-a8a1-d4523e544272",
        "deepnote_cell_type": "markdown",
        "deepnote_cell_height": 52.390625
      },
      "id": "F2mt7aIusap8"
    },
    {
      "cell_type": "code",
      "metadata": {
        "id": "c39b58c0",
        "deepnote_to_be_reexecuted": false,
        "source_hash": "af520603",
        "execution_start": 1649363305908,
        "execution_millis": 7,
        "cell_id": "00018-040aa635-4b1f-40dc-a3d0-102cb5eee5d2",
        "deepnote_cell_type": "code",
        "deepnote_cell_height": 657
      },
      "source": [
        "# ---------------------------------------------------------------------\n",
        "# test descripciones\n",
        "# note que las frutas deben estar en igual orden para que este assert no falle.\n",
        "\n",
        "descripciones_esperadas = [\n",
        "    \"El limón es una fruta de tipo cítrica de color amarillo. Presenta pepas en su interior.\",\n",
        "    \"La naranja es una fruta de tipo cítrica de color naranjo. Presenta pepas en su interior.\",\n",
        "    \"El plátano es una fruta de tipo tropical de color amarillo. No presenta pepas en su interior.\",\n",
        "    \"La piña es una fruta de tipo tropical de color amarillo. No presenta pepas en su interior.\",\n",
        "    \"La frutilla es una fruta de tipo bosque de color rojo. Presenta pepas en su interior.\",\n",
        "    \"La frambuesa es una fruta de tipo bosque de color rojo. Presenta pepas en su interior.\",\n",
        "]\n",
        "\n",
        "assert descripciones_esperadas == describir(datos)\n",
        "\n",
        "\n",
        "# ---------------------------------------------------------------------\n",
        "# test filtro\n",
        "frutas_con_pepa_esperadas = [\n",
        "    {\"nombre\": \"limón\", \"tipo\": \"cítrica\", \"color\": \"amarillo\", \"pepas\": True},\n",
        "    {\"nombre\": \"naranja\", \"tipo\": \"cítrica\", \"color\": \"naranjo\", \"pepas\": True},\n",
        "    {\"nombre\": \"frutilla\", \"tipo\": \"bosque\", \"color\": \"rojo\", \"pepas\": True},\n",
        "    {\"nombre\": \"frambuesa\", \"tipo\": \"bosque\", \"color\": \"rojo\", \"pepas\": True}\n",
        "]\n",
        "\n",
        "assert frutas_con_pepa_esperadas == filtrar_por_pepa(datos, True)\n",
        "\n",
        "# ---------------------------------------------------------------------\n",
        "# test conteo\n",
        "conteo_esperado = {'amarillo': 3, 'naranjo': 1, 'rojo': 2}\n",
        "\n",
        "\n",
        "assert conteo_esperado == conteo_colores(datos)"
      ],
      "execution_count": null,
      "outputs": [],
      "id": "c39b58c0"
    },
    {
      "cell_type": "markdown",
      "source": [
        "### Implementaciones Funcionales [1.0 punto] \n",
        "\n",
        "Implementar las funciones de la sección anterior de forma funcional (solo las primeras 2)."
      ],
      "metadata": {
        "id": "yvry-8cgmHk5",
        "cell_id": "00019-ae228b35-6d23-45e3-9662-26f7cab6d93b",
        "deepnote_cell_type": "markdown",
        "deepnote_cell_height": 100.390625
      },
      "id": "yvry-8cgmHk5"
    },
    {
      "cell_type": "code",
      "metadata": {
        "id": "c6ef993a",
        "deepnote_to_be_reexecuted": false,
        "source_hash": "c34c8fe1",
        "execution_start": 1649363309745,
        "execution_millis": 23,
        "cell_id": "00020-5d54d413-0d00-4fce-ad8b-845783dca715",
        "deepnote_cell_type": "code",
        "deepnote_cell_height": 531
      },
      "source": [
        "def describir_funcional(datos):\n",
        "    def generar_descripcion(fruta):\n",
        "        # esta función debería retornar el string para una fruta en particular.\n",
        "        if fruta['nombre'][-1] == 'a':\n",
        "            pronombre = 'La'\n",
        "        else:\n",
        "            pronombre = 'El'\n",
        "\n",
        "        #pepas \n",
        "        if fruta['pepas']:\n",
        "            presenta='Presenta'\n",
        "        else:\n",
        "            presenta='No presenta'\n",
        "        return  (f\"{pronombre} {fruta['nombre']} es una fruta de tipo {fruta['tipo']} de color {fruta['color']}. {presenta} pepas en su interior.\")\n",
        "    \n",
        "    descripciones = list(map(generar_descripcion,datos))\n",
        "    return descripciones\n",
        "    \n",
        "def filtrar_por_pepa_funcional(datos, tipo_de_dato):\n",
        "    def check_pepa(fruta):\n",
        "        if fruta['pepas'] == tipo_de_dato:\n",
        "            return fruta\n",
        "    filtrados = list(filter(check_pepa, datos))\n",
        "    return filtrados\n",
        "\n"
      ],
      "execution_count": null,
      "outputs": [],
      "id": "c6ef993a"
    },
    {
      "cell_type": "code",
      "metadata": {
        "id": "OyGdi9IRS9fy",
        "deepnote_to_be_reexecuted": false,
        "source_hash": "a202dbc8",
        "execution_start": 1649363313695,
        "execution_millis": 2,
        "cell_id": "00021-70462114-b01c-413a-af56-9d09ce101621",
        "deepnote_cell_type": "code",
        "deepnote_cell_height": 99
      },
      "source": [
        "assert descripciones_esperadas == describir_funcional(datos)\n",
        "assert frutas_con_pepa_esperadas == filtrar_por_pepa_funcional(datos, True)"
      ],
      "execution_count": null,
      "outputs": [],
      "id": "OyGdi9IRS9fy"
    },
    {
      "cell_type": "markdown",
      "source": [
        "## Parte 2: Electrodomésticos 🧃\n",
        "\n",
        "En esta parte se solicitarán un par de clases que permitirá jugar con la Programación Orientada a Objetos.\n",
        "\n",
        "<div align='center'>\n",
        "<img src='https://upload.wikimedia.org/wikipedia/commons/6/67/Breville.jpg' width=400/>\n",
        "</div>\n",
        "\n",
        "\n",
        "### [0.5] Clase Electrodoméstico\n",
        "\n",
        "Defina la clase `Electrodomestico` que implemente:\n",
        "\n",
        "\n",
        "- Un constructor que defina un atributo de instancia llamado `enchufado` que almacene valores booleanos. \n",
        "- Un método llamado `esta_enchufado(self)` que levante una excepción `Exception` y que termine con la ejecución del programa cuando el atributo enchuado sea `False`. La exepción debe levantar el mensaje `'Alerta ⚠️: El electrodoméstico no está enchufado'`\n",
        "- Un método llamado `enchufar(self)` que cambia el estado de `enchufado` a True.\n",
        "\n"
      ],
      "metadata": {
        "id": "492b941a",
        "cell_id": "00022-c5bf636b-19e3-43ba-a272-337bc796dd18",
        "deepnote_cell_type": "markdown",
        "deepnote_cell_height": 664.734375
      },
      "id": "492b941a"
    },
    {
      "cell_type": "code",
      "metadata": {
        "id": "9f8aa475",
        "deepnote_to_be_reexecuted": false,
        "source_hash": "80ee6a49",
        "execution_start": 1649363320904,
        "execution_millis": 2,
        "cell_id": "00023-337cab73-fa5d-4b7c-9f74-51184ad20d38",
        "deepnote_cell_type": "code",
        "deepnote_cell_height": 423
      },
      "source": [
        "class Electrodomestico:\n",
        "    \n",
        "    def __init__(self):\n",
        "      # Código Aquí\n",
        "      self.enchufado=bool()\n",
        "      \n",
        "    def esta_enchufado(self):\n",
        "      # Código Aquí\n",
        "        if  not self.enchufado:\n",
        "            raise Exception(\n",
        "                'Alerta ⚠️: El electrodoméstico no está enchufado'\n",
        "            )\n",
        "\n",
        "\n",
        "    def enchufar(self):\n",
        "      # Código Aquí\n",
        "      self.enchufado=True"
      ],
      "execution_count": null,
      "outputs": [],
      "id": "9f8aa475"
    },
    {
      "cell_type": "markdown",
      "source": [
        "### Clase Jugera [1.0 puntos] \n",
        "\n",
        "\n",
        "<div align='center'>\n",
        "<img src='https://upload.wikimedia.org/wikipedia/commons/b/bb/Liquadora_%28parts%29.JPG' width=400/>\n",
        "</div>\n",
        "\n",
        "\n",
        "Implemente la clase `Jugera` que extiende `Electrodomestico` y que implemente: \n",
        "\n",
        "\n",
        "- Un constructor que tenga una lista de ingredientes frutales (llamado `bandeja`).\n",
        "\n",
        "\n",
        "- Un método llamado `agregar_ingrediente(self, nueva_fruta)` que dado una fruta, agregue esa fruta a la `bandeja`.\n",
        "\n",
        "- Un método llamado `listar_ingredientes(self)` que imprima (con `print`) los ingredientes actuales de la `bandeja` de la siguiente forma: \n",
        "\n",
        "    `Ingredientes en la bandeja: frutilla, frambuesa, piña.`\n",
        "\n",
        "De lo contrario si no tiene ingredientes imprima:\n",
        "\n",
        "    `Bandeja vacía`\n",
        "\n",
        "\n",
        "**Hint:** Investigar el método `join` de un string para generar el string con los nombres de las frutas.\n",
        "    \n",
        "    \n",
        "    \n",
        "\n",
        "- Un método llamado `preparar_jugo(self)` que: \n",
        "    - Primero verifique que el electrodoméstico esté enchufado usando `self.esta_enchufado()`.\n",
        "    - Verifique que haya por lo menos un ingrediente en la `bandeja`. En el caso que no haya, levantar una excepción con contenido `'Error ❌: La bandeja no tiene ingredientes.'`\n",
        "    - Verifique que ninguna fruta tenga pepas. En el caso que haya alguna, imprimir (con `print`) el mensaje de advertencia `'Alerta ⚠️: El jugo puede contener restos de pepas.'`. Puede usar la función definida en la sección anterior.\n",
        "    - Genere un mensaje indicado `Jugo de {nombres de las frutas separadas por una ,} listo. 🏖️🥤 Que lo disfrutes!!! 🥤🏖️. ` (Hint: Usar nuevamente `join`).\n",
        "    - Vacie la `bandeja` (es decir, eliminar todas las frutas de la bandeja).\n",
        "    - Retorne el mensaje generado.\n"
      ],
      "metadata": {
        "id": "d7d477b5",
        "cell_id": "00024-233612fd-adfa-47f9-b2db-c7acd1129cfd",
        "deepnote_cell_type": "markdown",
        "deepnote_cell_height": 953.828125
      },
      "id": "d7d477b5"
    },
    {
      "cell_type": "code",
      "metadata": {
        "id": "d9db037b",
        "deepnote_to_be_reexecuted": false,
        "source_hash": "c01cbcc7",
        "execution_start": 1649363326384,
        "execution_millis": 13,
        "cell_id": "00025-522f7167-f83c-4b89-89d7-b6dc0af9e257",
        "deepnote_cell_type": "code",
        "deepnote_cell_height": 729
      },
      "source": [
        "class Jugera(Electrodomestico):\n",
        "    \n",
        "    def __init__(self):\n",
        "      super().__init__()\n",
        "      # Código Aquí\n",
        "      self.bandeja=[]\n",
        "        \n",
        "    def agregar_ingrediente(self, nueva_fruta):\n",
        "        # Código Aquí\n",
        "        self.bandeja.append(nueva_fruta)\n",
        "     \n",
        "    def listar_ingredientes(self):\n",
        "        # Código Aquí\n",
        "        if len(self.bandeja)==0:\n",
        "            print('Bandeja vacia')\n",
        "        else:\n",
        "            separator = ', '\n",
        "            lista = separator.join([x['nombre'] for x in self.bandeja])\n",
        "            print(\"Ingredientes en la bandeja: \" + lista)\n",
        "        \n",
        "\n",
        "    def preparar_jugo(self):\n",
        "        # Código Aquí\n",
        "        self.esta_enchufado()\n",
        "        if len(self.bandeja)!=0:\n",
        "            if len(filtrar_por_pepa(self.bandeja, True))!=0:\n",
        "                print('Alerta ⚠️: El jugo puede contener restos de pepas.') \n",
        "            separator = ', '\n",
        "            lista = separator.join([x['nombre'] for x in self.bandeja])\n",
        "            mensaje=f\"Jugo de {lista} listo. 🏖️🥤 Que lo disfrutes!!! 🥤🏖️.\"\n",
        "            self.bandeja=[]\n",
        "        else:\n",
        "            raise Exception(\n",
        "                'Error ❌: La bandeja no tiene ingredientes.'\n",
        "            )\n",
        "\n",
        "        return mensaje"
      ],
      "execution_count": null,
      "outputs": [],
      "id": "d9db037b"
    },
    {
      "cell_type": "markdown",
      "source": [
        "### Interacciones\n",
        "\n",
        "Las siguientes celdas les permitirán probar las interacciones de esta clase.\n",
        "La ejecución es solo referencial y no lleva puntaje. La idea es que la utilice como guía para desarrollar la clase."
      ],
      "metadata": {
        "id": "6889015a",
        "cell_id": "00026-f0160917-f780-4ed0-847a-614b5ba7c432",
        "deepnote_cell_type": "markdown",
        "deepnote_cell_height": 122.78125
      },
      "id": "6889015a"
    },
    {
      "cell_type": "code",
      "metadata": {
        "id": "913af660",
        "colab": {
          "base_uri": "https://localhost:8080/"
        },
        "outputId": "6e0b00b6-3a66-453c-e369-f566bdc4c40f",
        "deepnote_to_be_reexecuted": false,
        "source_hash": "239b8903",
        "execution_start": 1649363331504,
        "execution_millis": 9,
        "cell_id": "00027-1949488c-939e-454d-a75b-23da5bbcff51",
        "deepnote_cell_type": "code",
        "deepnote_cell_height": 166.1875
      },
      "source": [
        "jugera = Jugera()\n",
        "\n",
        "# Como no tenemos ingredientes, listar_ingredientes deberá imprimir 'Bandeja vacía'\n",
        "jugera.listar_ingredientes()"
      ],
      "execution_count": null,
      "outputs": [
        {
          "output_type": "stream",
          "name": "stdout",
          "text": [
            "Bandeja vacia\n"
          ]
        }
      ],
      "id": "913af660"
    },
    {
      "cell_type": "code",
      "metadata": {
        "scrolled": false,
        "id": "9d06bf3e",
        "colab": {
          "base_uri": "https://localhost:8080/",
          "height": 328
        },
        "outputId": "3d4df651-6b84-43c9-8664-bd9a72e3fa2b",
        "deepnote_to_be_reexecuted": false,
        "source_hash": "77689b24",
        "execution_start": 1649363336410,
        "execution_millis": 29,
        "cell_id": "00028-5142c0b4-f48b-4edb-a8bf-35183f5c27b4",
        "deepnote_cell_type": "code",
        "deepnote_cell_height": 162.1875
      },
      "source": [
        "# Esta celda debería levantar una excepcion indicando que no está enchufada la jugera.\n",
        "jugera.preparar_jugo()"
      ],
      "execution_count": null,
      "outputs": [
        {
          "output_type": "error",
          "ename": "Exception",
          "evalue": "ignored",
          "traceback": [
            "\u001b[0;31m---------------------------------------------------------------------------\u001b[0m",
            "\u001b[0;31mException\u001b[0m                                 Traceback (most recent call last)",
            "\u001b[0;32m<ipython-input-20-12a82fa67e1d>\u001b[0m in \u001b[0;36m<module>\u001b[0;34m()\u001b[0m\n\u001b[1;32m      1\u001b[0m \u001b[0;31m# Esta celda debería levantar una excepcion indicando que no está enchufada la jugera.\u001b[0m\u001b[0;34m\u001b[0m\u001b[0;34m\u001b[0m\u001b[0;34m\u001b[0m\u001b[0m\n\u001b[0;32m----> 2\u001b[0;31m \u001b[0mjugera\u001b[0m\u001b[0;34m.\u001b[0m\u001b[0mpreparar_jugo\u001b[0m\u001b[0;34m(\u001b[0m\u001b[0;34m)\u001b[0m\u001b[0;34m\u001b[0m\u001b[0;34m\u001b[0m\u001b[0m\n\u001b[0m",
            "\u001b[0;32m<ipython-input-18-6821858461ee>\u001b[0m in \u001b[0;36mpreparar_jugo\u001b[0;34m(self)\u001b[0m\n\u001b[1;32m     22\u001b[0m     \u001b[0;32mdef\u001b[0m \u001b[0mpreparar_jugo\u001b[0m\u001b[0;34m(\u001b[0m\u001b[0mself\u001b[0m\u001b[0;34m)\u001b[0m\u001b[0;34m:\u001b[0m\u001b[0;34m\u001b[0m\u001b[0;34m\u001b[0m\u001b[0m\n\u001b[1;32m     23\u001b[0m         \u001b[0;31m# Código Aquí\u001b[0m\u001b[0;34m\u001b[0m\u001b[0;34m\u001b[0m\u001b[0;34m\u001b[0m\u001b[0m\n\u001b[0;32m---> 24\u001b[0;31m         \u001b[0mself\u001b[0m\u001b[0;34m.\u001b[0m\u001b[0mesta_enchufado\u001b[0m\u001b[0;34m(\u001b[0m\u001b[0;34m)\u001b[0m\u001b[0;34m\u001b[0m\u001b[0;34m\u001b[0m\u001b[0m\n\u001b[0m\u001b[1;32m     25\u001b[0m         \u001b[0;32mif\u001b[0m \u001b[0mlen\u001b[0m\u001b[0;34m(\u001b[0m\u001b[0mself\u001b[0m\u001b[0;34m.\u001b[0m\u001b[0mbandeja\u001b[0m\u001b[0;34m)\u001b[0m\u001b[0;34m!=\u001b[0m\u001b[0;36m0\u001b[0m\u001b[0;34m:\u001b[0m\u001b[0;34m\u001b[0m\u001b[0;34m\u001b[0m\u001b[0m\n\u001b[1;32m     26\u001b[0m             \u001b[0;32mif\u001b[0m \u001b[0mlen\u001b[0m\u001b[0;34m(\u001b[0m\u001b[0mfiltrar_por_pepa\u001b[0m\u001b[0;34m(\u001b[0m\u001b[0mself\u001b[0m\u001b[0;34m.\u001b[0m\u001b[0mbandeja\u001b[0m\u001b[0;34m,\u001b[0m \u001b[0;32mTrue\u001b[0m\u001b[0;34m)\u001b[0m\u001b[0;34m)\u001b[0m\u001b[0;34m!=\u001b[0m\u001b[0;36m0\u001b[0m\u001b[0;34m:\u001b[0m\u001b[0;34m\u001b[0m\u001b[0;34m\u001b[0m\u001b[0m\n",
            "\u001b[0;32m<ipython-input-17-0a67e2182b60>\u001b[0m in \u001b[0;36mesta_enchufado\u001b[0;34m(self)\u001b[0m\n\u001b[1;32m      9\u001b[0m         \u001b[0;32mif\u001b[0m  \u001b[0;32mnot\u001b[0m \u001b[0mself\u001b[0m\u001b[0;34m.\u001b[0m\u001b[0menchufado\u001b[0m\u001b[0;34m:\u001b[0m\u001b[0;34m\u001b[0m\u001b[0;34m\u001b[0m\u001b[0m\n\u001b[1;32m     10\u001b[0m             raise Exception(\n\u001b[0;32m---> 11\u001b[0;31m                 \u001b[0;34m'Alerta ⚠️: El electrodoméstico no está enchufado'\u001b[0m\u001b[0;34m\u001b[0m\u001b[0;34m\u001b[0m\u001b[0m\n\u001b[0m\u001b[1;32m     12\u001b[0m             )\n\u001b[1;32m     13\u001b[0m \u001b[0;34m\u001b[0m\u001b[0m\n",
            "\u001b[0;31mException\u001b[0m: Alerta ⚠️: El electrodoméstico no está enchufado"
          ]
        }
      ],
      "id": "9d06bf3e"
    },
    {
      "cell_type": "code",
      "metadata": {
        "id": "3ad38f18",
        "deepnote_to_be_reexecuted": false,
        "source_hash": "36a2ab49",
        "execution_start": 1649363337343,
        "execution_millis": 6,
        "cell_id": "00029-d69d8c7d-59cc-4d10-ba74-29624cd674fd",
        "deepnote_cell_type": "code",
        "deepnote_cell_height": 99
      },
      "source": [
        "# Enchufamos el electrodoméstico\n",
        "jugera.enchufar()"
      ],
      "execution_count": null,
      "outputs": [],
      "id": "3ad38f18"
    },
    {
      "cell_type": "code",
      "metadata": {
        "scrolled": true,
        "id": "48009872",
        "colab": {
          "base_uri": "https://localhost:8080/",
          "height": 304
        },
        "outputId": "716c756d-0b81-4b81-a4a2-a112cf0bf0d5",
        "deepnote_to_be_reexecuted": false,
        "source_hash": "27514b2c",
        "execution_start": 1649363339277,
        "execution_millis": 44,
        "cell_id": "00030-56395725-6356-4324-934e-457c95196257",
        "deepnote_cell_type": "code",
        "deepnote_cell_height": 162.1875
      },
      "source": [
        "# Esta celda debería levantar ina excepción informandoles que la bandeja no tiene ingredientes.\n",
        "jugera.preparar_jugo()"
      ],
      "execution_count": null,
      "outputs": [
        {
          "output_type": "error",
          "ename": "Exception",
          "evalue": "ignored",
          "traceback": [
            "\u001b[0;31m---------------------------------------------------------------------------\u001b[0m",
            "\u001b[0;31mException\u001b[0m                                 Traceback (most recent call last)",
            "\u001b[0;32m<ipython-input-22-763feb2b9970>\u001b[0m in \u001b[0;36m<module>\u001b[0;34m()\u001b[0m\n\u001b[1;32m      1\u001b[0m \u001b[0;31m# Esta celda debería levantar ina excepción informandoles que la bandeja no tiene ingredientes.\u001b[0m\u001b[0;34m\u001b[0m\u001b[0;34m\u001b[0m\u001b[0;34m\u001b[0m\u001b[0m\n\u001b[0;32m----> 2\u001b[0;31m \u001b[0mjugera\u001b[0m\u001b[0;34m.\u001b[0m\u001b[0mpreparar_jugo\u001b[0m\u001b[0;34m(\u001b[0m\u001b[0;34m)\u001b[0m\u001b[0;34m\u001b[0m\u001b[0;34m\u001b[0m\u001b[0m\n\u001b[0m",
            "\u001b[0;32m<ipython-input-18-6821858461ee>\u001b[0m in \u001b[0;36mpreparar_jugo\u001b[0;34m(self)\u001b[0m\n\u001b[1;32m     32\u001b[0m         \u001b[0;32melse\u001b[0m\u001b[0;34m:\u001b[0m\u001b[0;34m\u001b[0m\u001b[0;34m\u001b[0m\u001b[0m\n\u001b[1;32m     33\u001b[0m             raise Exception(\n\u001b[0;32m---> 34\u001b[0;31m                 \u001b[0;34m'Error ❌: La bandeja no tiene ingredientes.'\u001b[0m\u001b[0;34m\u001b[0m\u001b[0;34m\u001b[0m\u001b[0m\n\u001b[0m\u001b[1;32m     35\u001b[0m             )\n\u001b[1;32m     36\u001b[0m \u001b[0;34m\u001b[0m\u001b[0m\n",
            "\u001b[0;31mException\u001b[0m: Error ❌: La bandeja no tiene ingredientes."
          ]
        }
      ],
      "id": "48009872"
    },
    {
      "cell_type": "code",
      "metadata": {
        "id": "4873e0bf",
        "colab": {
          "base_uri": "https://localhost:8080/"
        },
        "outputId": "d2e3abd3-561d-4212-829e-eaf22aea1a7a",
        "deepnote_to_be_reexecuted": false,
        "source_hash": "a8f0979e",
        "execution_start": 1649363342683,
        "execution_millis": 2,
        "cell_id": "00031-a80832c3-3cdc-4b7d-99d9-8cab342bbdfe",
        "deepnote_cell_type": "code",
        "deepnote_cell_height": 202.1875
      },
      "source": [
        "# Agregamos algunos ingredientes\n",
        "jugera.agregar_ingrediente(naranja)\n",
        "jugera.agregar_ingrediente(platano)\n",
        "\n",
        "# Y los listamos (debería imprimir: 'Ingredientes en la bandeja: naranja, plátano')\n",
        "jugera.listar_ingredientes()"
      ],
      "execution_count": null,
      "outputs": [
        {
          "output_type": "stream",
          "name": "stdout",
          "text": [
            "Ingredientes en la bandeja: naranja, plátano\n"
          ]
        }
      ],
      "id": "4873e0bf"
    },
    {
      "cell_type": "code",
      "metadata": {
        "id": "ff555151",
        "colab": {
          "base_uri": "https://localhost:8080/",
          "height": 53
        },
        "outputId": "a6f6f0e3-15b9-4d8e-e910-436ef4e78a99",
        "deepnote_to_be_reexecuted": false,
        "source_hash": "7086345e",
        "execution_start": 1649363344468,
        "execution_millis": 28,
        "cell_id": "00032-d788f804-220c-4c21-a380-02851ecd6b11",
        "deepnote_cell_type": "code",
        "deepnote_cell_height": 182.375,
        "deepnote_output_heights": [
          null,
          21.1875
        ]
      },
      "source": [
        "# Preparamos el jugo: 'Jugo de naranja, plátano listo. 🏖️🥤 Que lo disfrutes!!! 🥤🏖️.'\n",
        "jugera.preparar_jugo()"
      ],
      "execution_count": null,
      "outputs": [
        {
          "output_type": "stream",
          "name": "stdout",
          "text": [
            "Alerta ⚠️: El jugo puede contener restos de pepas.\n"
          ]
        },
        {
          "output_type": "execute_result",
          "data": {
            "text/plain": [
              "'Jugo de naranja, plátano listo. 🏖️🥤 Que lo disfrutes!!! 🥤🏖️.'"
            ],
            "application/vnd.google.colaboratory.intrinsic+json": {
              "type": "string"
            }
          },
          "metadata": {},
          "execution_count": 24
        }
      ],
      "id": "ff555151"
    },
    {
      "cell_type": "code",
      "metadata": {
        "id": "bbc532b2",
        "colab": {
          "base_uri": "https://localhost:8080/"
        },
        "outputId": "dc54515f-ba84-4e85-d331-f177fb6a4184",
        "deepnote_to_be_reexecuted": false,
        "source_hash": "6a032d0a",
        "execution_start": 1649363346857,
        "execution_millis": 18,
        "cell_id": "00033-e92ce272-71f9-42f5-88c7-f424bbd1e26c",
        "deepnote_cell_type": "code",
        "deepnote_cell_height": 130.1875
      },
      "source": [
        "# Una vez preparado el jugo, debería vaciarse la bandeja (imprimir Bandeja vacía)\n",
        "jugera.listar_ingredientes()"
      ],
      "execution_count": null,
      "outputs": [
        {
          "output_type": "stream",
          "name": "stdout",
          "text": [
            "Bandeja vacia\n"
          ]
        }
      ],
      "id": "bbc532b2"
    },
    {
      "cell_type": "markdown",
      "source": [
        "### Clase Jugera + Properties  [1.0]\n",
        "\n",
        "Implementar `bandeja` usando una `property` que permita setear una `nueva_bandeja` como `bandeja` según las siguientes condiciones:\n",
        "\n",
        "\n",
        "- Compruebe que `nueva_bandeja` sea una lista. En caso contrario, levante una excepción.\n",
        "- No permita agregar más de 3 ingredientes a la bandeja a la vez. Si se entregan más de 3 frutas, se levante una excepción.\n",
        "- Se compruebe que todos los elementos del arreglo sean frutas. Para esto, por cada fruta compruebe que:\n",
        "    1. La fruta sea diccionario.\n",
        "    2. El diccionario entregado tenga las llaves `nombre`, `tipo`, `color` y `pepas`."
      ],
      "metadata": {
        "id": "972dbcac",
        "cell_id": "00034-64074fe4-888c-4951-8ae0-ea504924ee7f",
        "deepnote_cell_type": "markdown",
        "deepnote_cell_height": 274.734375
      },
      "id": "972dbcac"
    },
    {
      "cell_type": "code",
      "metadata": {
        "id": "X3RXI9nisGfa",
        "deepnote_to_be_reexecuted": false,
        "source_hash": "c3dc6583",
        "execution_start": 1649363352193,
        "execution_millis": 21,
        "cell_id": "00035-7a9d24e7-798e-485c-bc6f-cf3a8058a5c2",
        "owner_user_id": "bb417479-d5f3-46b7-b074-764c7653cac6",
        "deepnote_cell_type": "code",
        "deepnote_cell_height": 1071
      },
      "source": [
        "class Jugera(Electrodomestico):\n",
        "    \n",
        "    \n",
        "    def __init__(self):\n",
        "        # Código Aquí\n",
        "        super().__init__()\n",
        "        self._bandeja=[]\n",
        "\n",
        "    @property\n",
        "    def bandeja(self):\n",
        "        # Código Aquí\n",
        "        return self._bandeja\n",
        "\n",
        "        \n",
        "    @bandeja.setter\n",
        "    def bandeja(self, nueva_bandeja):\n",
        "        # Código Aquí\n",
        "        assert(type(nueva_bandeja)==list)\n",
        "        if len(nueva_bandeja)<=3:\n",
        "            for fruta in nueva_bandeja:\n",
        "              self.agregar_ingrediente(fruta)\n",
        "        else:\n",
        "            raise ValueError(\n",
        "                'nueva bandeja tiene más de 3 frutas.'\n",
        "            )\n",
        "        \n",
        "    def agregar_ingrediente(self, nueva_fruta):\n",
        "        # Código Aquí\n",
        "        if not isinstance(nueva_fruta, Dict):\n",
        "            raise TypeError(f\"fruta {str(nueva_fruta)} no es diccionario\")\n",
        "        for caract in ['nombre', 'tipo', 'color', 'pepas']:\n",
        "                    if caract not in nueva_fruta:\n",
        "                        raise ValueError(\"falta una llave en la fruta entregada\")\n",
        "        if len(self._bandeja)<3:\n",
        "            self.bandeja.append(nueva_fruta)\n",
        "        else:\n",
        "            raise ValueError(\n",
        "                'Error ❌: No se pueden agregar más de 3 frutas.'\n",
        "            )\n",
        "    def listar_ingredientes(self):\n",
        "        # Código Aquícon\n",
        "        if len(self._bandeja)==0:\n",
        "            print('Bandeja vacia')\n",
        "        else:\n",
        "            separator = ', '\n",
        "            lista = separator.join([x['nombre'] for x in self.bandeja])\n",
        "            print(\"Ingredientes en la bandeja: \" + lista)\n",
        "\n",
        "    def preparar_jugo(self):\n",
        "        # Código Aquí\n",
        "        self.esta_enchufado()\n",
        "        if len(self.bandeja)!=0:\n",
        "            if len(filtrar_por_pepa(self.bandeja, True))!=0:\n",
        "                print('Alerta ⚠️: El jugo puede contener restos de pepas.') \n",
        "            separator = ', '\n",
        "            lista = separator.join([x['nombre'] for x in self.bandeja])\n",
        "            mensaje=f\"Jugo de {lista} listo. 🏖️🥤 Que lo disfrutes!!! 🥤🏖️.\"\n",
        "            self._bandeja=[]\n",
        "        else:\n",
        "            raise Exception(\n",
        "                'Error ❌: La bandeja no tiene ingredientes.'\n",
        "            )\n",
        "\n",
        "        return mensaje"
      ],
      "execution_count": null,
      "outputs": [],
      "id": "X3RXI9nisGfa"
    },
    {
      "cell_type": "markdown",
      "source": [
        "### Interacciones\n",
        "\n",
        "Las siguientes celdas les permitirán probar las interacciones de esta clase.\n",
        "La ejecución es solo referencial y no lleva puntaje. La idea es que la utilice como guía para desarrollar la clase."
      ],
      "metadata": {
        "tags": [],
        "cell_id": "00036-527c7132-9708-46e2-9247-62415e4cd9e3",
        "deepnote_cell_type": "markdown",
        "deepnote_cell_height": 122.78125,
        "id": "8P7bETLwvFie"
      },
      "id": "8P7bETLwvFie"
    },
    {
      "cell_type": "code",
      "metadata": {
        "tags": [],
        "deepnote_to_be_reexecuted": false,
        "source_hash": "d7617c26",
        "execution_start": 1649363356782,
        "execution_millis": 19,
        "cell_id": "00037-41d579e0-08fa-4c57-8c02-b2bc69b01d16",
        "deepnote_cell_type": "code",
        "deepnote_cell_height": 148.1875,
        "colab": {
          "base_uri": "https://localhost:8080/"
        },
        "id": "Wn517DC9vFie",
        "outputId": "bdc05ed0-3cce-4bbf-c2e7-e3aee554096f"
      },
      "source": [
        "jugera_2 = Jugera()\n",
        "\n",
        "jugera_2.listar_ingredientes()"
      ],
      "execution_count": null,
      "outputs": [
        {
          "output_type": "stream",
          "name": "stdout",
          "text": [
            "Bandeja vacia\n"
          ]
        }
      ],
      "id": "Wn517DC9vFie"
    },
    {
      "cell_type": "code",
      "metadata": {
        "tags": [],
        "deepnote_to_be_reexecuted": false,
        "source_hash": "480070d3",
        "execution_start": 1649363360223,
        "execution_millis": 19,
        "cell_id": "00038-075890d0-b90d-4519-9ec8-5e85fbdf8d58",
        "deepnote_cell_type": "code",
        "deepnote_cell_height": 144.1875,
        "colab": {
          "base_uri": "https://localhost:8080/",
          "height": 311
        },
        "id": "tpfGG1-BvFif",
        "outputId": "91247cbf-8e52-4f7e-d3ef-511d629e511f"
      },
      "source": [
        "jugera_2.preparar_jugo()"
      ],
      "execution_count": null,
      "outputs": [
        {
          "output_type": "error",
          "ename": "Exception",
          "evalue": "ignored",
          "traceback": [
            "\u001b[0;31m---------------------------------------------------------------------------\u001b[0m",
            "\u001b[0;31mException\u001b[0m                                 Traceback (most recent call last)",
            "\u001b[0;32m<ipython-input-54-b7b38da5dd79>\u001b[0m in \u001b[0;36m<module>\u001b[0;34m()\u001b[0m\n\u001b[0;32m----> 1\u001b[0;31m \u001b[0mjugera_2\u001b[0m\u001b[0;34m.\u001b[0m\u001b[0mpreparar_jugo\u001b[0m\u001b[0;34m(\u001b[0m\u001b[0;34m)\u001b[0m\u001b[0;34m\u001b[0m\u001b[0;34m\u001b[0m\u001b[0m\n\u001b[0m",
            "\u001b[0;32m<ipython-input-52-aa8a5d49e205>\u001b[0m in \u001b[0;36mpreparar_jugo\u001b[0;34m(self)\u001b[0m\n\u001b[1;32m     49\u001b[0m     \u001b[0;32mdef\u001b[0m \u001b[0mpreparar_jugo\u001b[0m\u001b[0;34m(\u001b[0m\u001b[0mself\u001b[0m\u001b[0;34m)\u001b[0m\u001b[0;34m:\u001b[0m\u001b[0;34m\u001b[0m\u001b[0;34m\u001b[0m\u001b[0m\n\u001b[1;32m     50\u001b[0m         \u001b[0;31m# Código Aquí\u001b[0m\u001b[0;34m\u001b[0m\u001b[0;34m\u001b[0m\u001b[0;34m\u001b[0m\u001b[0m\n\u001b[0;32m---> 51\u001b[0;31m         \u001b[0mself\u001b[0m\u001b[0;34m.\u001b[0m\u001b[0mesta_enchufado\u001b[0m\u001b[0;34m(\u001b[0m\u001b[0;34m)\u001b[0m\u001b[0;34m\u001b[0m\u001b[0;34m\u001b[0m\u001b[0m\n\u001b[0m\u001b[1;32m     52\u001b[0m         \u001b[0;32mif\u001b[0m \u001b[0mlen\u001b[0m\u001b[0;34m(\u001b[0m\u001b[0mself\u001b[0m\u001b[0;34m.\u001b[0m\u001b[0mbandeja\u001b[0m\u001b[0;34m)\u001b[0m\u001b[0;34m!=\u001b[0m\u001b[0;36m0\u001b[0m\u001b[0;34m:\u001b[0m\u001b[0;34m\u001b[0m\u001b[0;34m\u001b[0m\u001b[0m\n\u001b[1;32m     53\u001b[0m             \u001b[0;32mif\u001b[0m \u001b[0mlen\u001b[0m\u001b[0;34m(\u001b[0m\u001b[0mfiltrar_por_pepa\u001b[0m\u001b[0;34m(\u001b[0m\u001b[0mself\u001b[0m\u001b[0;34m.\u001b[0m\u001b[0mbandeja\u001b[0m\u001b[0;34m,\u001b[0m \u001b[0;32mTrue\u001b[0m\u001b[0;34m)\u001b[0m\u001b[0;34m)\u001b[0m\u001b[0;34m!=\u001b[0m\u001b[0;36m0\u001b[0m\u001b[0;34m:\u001b[0m\u001b[0;34m\u001b[0m\u001b[0;34m\u001b[0m\u001b[0m\n",
            "\u001b[0;32m<ipython-input-17-0a67e2182b60>\u001b[0m in \u001b[0;36mesta_enchufado\u001b[0;34m(self)\u001b[0m\n\u001b[1;32m      9\u001b[0m         \u001b[0;32mif\u001b[0m  \u001b[0;32mnot\u001b[0m \u001b[0mself\u001b[0m\u001b[0;34m.\u001b[0m\u001b[0menchufado\u001b[0m\u001b[0;34m:\u001b[0m\u001b[0;34m\u001b[0m\u001b[0;34m\u001b[0m\u001b[0m\n\u001b[1;32m     10\u001b[0m             raise Exception(\n\u001b[0;32m---> 11\u001b[0;31m                 \u001b[0;34m'Alerta ⚠️: El electrodoméstico no está enchufado'\u001b[0m\u001b[0;34m\u001b[0m\u001b[0;34m\u001b[0m\u001b[0m\n\u001b[0m\u001b[1;32m     12\u001b[0m             )\n\u001b[1;32m     13\u001b[0m \u001b[0;34m\u001b[0m\u001b[0m\n",
            "\u001b[0;31mException\u001b[0m: Alerta ⚠️: El electrodoméstico no está enchufado"
          ]
        }
      ],
      "id": "tpfGG1-BvFif"
    },
    {
      "cell_type": "code",
      "metadata": {
        "tags": [],
        "deepnote_to_be_reexecuted": false,
        "source_hash": "d3e1edd9",
        "execution_start": 1649363481493,
        "execution_millis": 1,
        "cell_id": "00039-a4b2a85d-2a1d-4e50-9753-fd70ad04bbe1",
        "deepnote_cell_type": "code",
        "deepnote_cell_height": 99,
        "id": "njGlJJp9vFig"
      },
      "source": [
        "# Enchufamos el electrodoméstico\n",
        "jugera_2.enchufar()"
      ],
      "execution_count": null,
      "outputs": [],
      "id": "njGlJJp9vFig"
    },
    {
      "cell_type": "code",
      "metadata": {
        "tags": [],
        "deepnote_to_be_reexecuted": false,
        "source_hash": "b81f1f5b",
        "execution_start": 1649363486567,
        "execution_millis": 17,
        "cell_id": "00040-c5229d92-0b84-4062-b96f-0e774ad515b6",
        "deepnote_cell_type": "code",
        "deepnote_cell_height": 162.1875,
        "colab": {
          "base_uri": "https://localhost:8080/",
          "height": 304
        },
        "id": "NVu9b2LbvFig",
        "outputId": "bbd42e68-edcb-4acf-a325-a8f8b921fbef"
      },
      "source": [
        "# Esta celda debería levantar ina excepción informandoles que la bandeja no tiene ingredientes.\n",
        "jugera_2.preparar_jugo()"
      ],
      "execution_count": null,
      "outputs": [
        {
          "output_type": "error",
          "ename": "Exception",
          "evalue": "ignored",
          "traceback": [
            "\u001b[0;31m---------------------------------------------------------------------------\u001b[0m",
            "\u001b[0;31mException\u001b[0m                                 Traceback (most recent call last)",
            "\u001b[0;32m<ipython-input-56-50e6459dff43>\u001b[0m in \u001b[0;36m<module>\u001b[0;34m()\u001b[0m\n\u001b[1;32m      1\u001b[0m \u001b[0;31m# Esta celda debería levantar ina excepción informandoles que la bandeja no tiene ingredientes.\u001b[0m\u001b[0;34m\u001b[0m\u001b[0;34m\u001b[0m\u001b[0;34m\u001b[0m\u001b[0m\n\u001b[0;32m----> 2\u001b[0;31m \u001b[0mjugera_2\u001b[0m\u001b[0;34m.\u001b[0m\u001b[0mpreparar_jugo\u001b[0m\u001b[0;34m(\u001b[0m\u001b[0;34m)\u001b[0m\u001b[0;34m\u001b[0m\u001b[0;34m\u001b[0m\u001b[0m\n\u001b[0m",
            "\u001b[0;32m<ipython-input-52-aa8a5d49e205>\u001b[0m in \u001b[0;36mpreparar_jugo\u001b[0;34m(self)\u001b[0m\n\u001b[1;32m     59\u001b[0m         \u001b[0;32melse\u001b[0m\u001b[0;34m:\u001b[0m\u001b[0;34m\u001b[0m\u001b[0;34m\u001b[0m\u001b[0m\n\u001b[1;32m     60\u001b[0m             raise Exception(\n\u001b[0;32m---> 61\u001b[0;31m                 \u001b[0;34m'Error ❌: La bandeja no tiene ingredientes.'\u001b[0m\u001b[0;34m\u001b[0m\u001b[0;34m\u001b[0m\u001b[0m\n\u001b[0m\u001b[1;32m     62\u001b[0m             )\n\u001b[1;32m     63\u001b[0m \u001b[0;34m\u001b[0m\u001b[0m\n",
            "\u001b[0;31mException\u001b[0m: Error ❌: La bandeja no tiene ingredientes."
          ]
        }
      ],
      "id": "NVu9b2LbvFig"
    },
    {
      "cell_type": "code",
      "metadata": {
        "tags": [],
        "deepnote_to_be_reexecuted": false,
        "source_hash": "a016a727",
        "execution_start": 1649363490985,
        "execution_millis": 11790,
        "cell_id": "00041-2c4b1955-3069-443f-922f-843f1b40c84e",
        "deepnote_cell_type": "code",
        "deepnote_cell_height": 162.1875,
        "colab": {
          "base_uri": "https://localhost:8080/",
          "height": 304
        },
        "id": "QmEbTVIHvFih",
        "outputId": "e8a9286b-74dd-4aa5-f2c9-72e72717f15a"
      },
      "source": [
        "# Agregamos algunos ingredientes (en este caso, como son más de 3, fallará)\n",
        "jugera_2.bandeja = [naranja, platano, frutilla, limon]"
      ],
      "execution_count": null,
      "outputs": [
        {
          "output_type": "error",
          "ename": "ValueError",
          "evalue": "ignored",
          "traceback": [
            "\u001b[0;31m---------------------------------------------------------------------------\u001b[0m",
            "\u001b[0;31mValueError\u001b[0m                                Traceback (most recent call last)",
            "\u001b[0;32m<ipython-input-57-a2a110761309>\u001b[0m in \u001b[0;36m<module>\u001b[0;34m()\u001b[0m\n\u001b[1;32m      1\u001b[0m \u001b[0;31m# Agregamos algunos ingredientes (en este caso, como son más de 3, fallará)\u001b[0m\u001b[0;34m\u001b[0m\u001b[0;34m\u001b[0m\u001b[0;34m\u001b[0m\u001b[0m\n\u001b[0;32m----> 2\u001b[0;31m \u001b[0mjugera_2\u001b[0m\u001b[0;34m.\u001b[0m\u001b[0mbandeja\u001b[0m \u001b[0;34m=\u001b[0m \u001b[0;34m[\u001b[0m\u001b[0mnaranja\u001b[0m\u001b[0;34m,\u001b[0m \u001b[0mplatano\u001b[0m\u001b[0;34m,\u001b[0m \u001b[0mfrutilla\u001b[0m\u001b[0;34m,\u001b[0m \u001b[0mlimon\u001b[0m\u001b[0;34m]\u001b[0m\u001b[0;34m\u001b[0m\u001b[0;34m\u001b[0m\u001b[0m\n\u001b[0m",
            "\u001b[0;32m<ipython-input-52-aa8a5d49e205>\u001b[0m in \u001b[0;36mbandeja\u001b[0;34m(self, nueva_bandeja)\u001b[0m\n\u001b[1;32m     22\u001b[0m         \u001b[0;32melse\u001b[0m\u001b[0;34m:\u001b[0m\u001b[0;34m\u001b[0m\u001b[0;34m\u001b[0m\u001b[0m\n\u001b[1;32m     23\u001b[0m             raise ValueError(\n\u001b[0;32m---> 24\u001b[0;31m                 \u001b[0;34m'nueva bandeja tiene más de 3 frutas.'\u001b[0m\u001b[0;34m\u001b[0m\u001b[0;34m\u001b[0m\u001b[0m\n\u001b[0m\u001b[1;32m     25\u001b[0m             )\n\u001b[1;32m     26\u001b[0m \u001b[0;34m\u001b[0m\u001b[0m\n",
            "\u001b[0;31mValueError\u001b[0m: nueva bandeja tiene más de 3 frutas."
          ]
        }
      ],
      "id": "QmEbTVIHvFih"
    },
    {
      "cell_type": "code",
      "metadata": {
        "tags": [],
        "deepnote_to_be_reexecuted": true,
        "source_hash": "561a3ff9",
        "execution_start": 1648775328947,
        "execution_millis": 24,
        "cell_id": "00042-c03572d9-14f4-417b-8f04-a92f7d66b958",
        "deepnote_cell_type": "code",
        "deepnote_cell_height": 180.1875,
        "colab": {
          "base_uri": "https://localhost:8080/",
          "height": 345
        },
        "id": "5xDkf2ZMvFii",
        "outputId": "8686b527-bba7-446c-a1fc-28a0ba397c45"
      },
      "source": [
        "# Agregamos algunos ingredientes \n",
        "# (en este caso debería fallar, ya que estamos entregando un string en el primer lugar)\n",
        "jugera_2.bandeja = [\"naranja\", platano, frutilla]"
      ],
      "execution_count": null,
      "outputs": [
        {
          "output_type": "error",
          "ename": "TypeError",
          "evalue": "ignored",
          "traceback": [
            "\u001b[0;31m---------------------------------------------------------------------------\u001b[0m",
            "\u001b[0;31mTypeError\u001b[0m                                 Traceback (most recent call last)",
            "\u001b[0;32m<ipython-input-58-7b6a7af0ac43>\u001b[0m in \u001b[0;36m<module>\u001b[0;34m()\u001b[0m\n\u001b[1;32m      1\u001b[0m \u001b[0;31m# Agregamos algunos ingredientes\u001b[0m\u001b[0;34m\u001b[0m\u001b[0;34m\u001b[0m\u001b[0;34m\u001b[0m\u001b[0m\n\u001b[1;32m      2\u001b[0m \u001b[0;31m# (en este caso debería fallar, ya que estamos entregando un string en el primer lugar)\u001b[0m\u001b[0;34m\u001b[0m\u001b[0;34m\u001b[0m\u001b[0;34m\u001b[0m\u001b[0m\n\u001b[0;32m----> 3\u001b[0;31m \u001b[0mjugera_2\u001b[0m\u001b[0;34m.\u001b[0m\u001b[0mbandeja\u001b[0m \u001b[0;34m=\u001b[0m \u001b[0;34m[\u001b[0m\u001b[0;34m\"naranja\"\u001b[0m\u001b[0;34m,\u001b[0m \u001b[0mplatano\u001b[0m\u001b[0;34m,\u001b[0m \u001b[0mfrutilla\u001b[0m\u001b[0;34m]\u001b[0m\u001b[0;34m\u001b[0m\u001b[0;34m\u001b[0m\u001b[0m\n\u001b[0m",
            "\u001b[0;32m<ipython-input-52-aa8a5d49e205>\u001b[0m in \u001b[0;36mbandeja\u001b[0;34m(self, nueva_bandeja)\u001b[0m\n\u001b[1;32m     19\u001b[0m         \u001b[0;32mif\u001b[0m \u001b[0mlen\u001b[0m\u001b[0;34m(\u001b[0m\u001b[0mnueva_bandeja\u001b[0m\u001b[0;34m)\u001b[0m\u001b[0;34m<=\u001b[0m\u001b[0;36m3\u001b[0m\u001b[0;34m:\u001b[0m\u001b[0;34m\u001b[0m\u001b[0;34m\u001b[0m\u001b[0m\n\u001b[1;32m     20\u001b[0m             \u001b[0;32mfor\u001b[0m \u001b[0mfruta\u001b[0m \u001b[0;32min\u001b[0m \u001b[0mnueva_bandeja\u001b[0m\u001b[0;34m:\u001b[0m\u001b[0;34m\u001b[0m\u001b[0;34m\u001b[0m\u001b[0m\n\u001b[0;32m---> 21\u001b[0;31m               \u001b[0mself\u001b[0m\u001b[0;34m.\u001b[0m\u001b[0magregar_ingrediente\u001b[0m\u001b[0;34m(\u001b[0m\u001b[0mfruta\u001b[0m\u001b[0;34m)\u001b[0m\u001b[0;34m\u001b[0m\u001b[0;34m\u001b[0m\u001b[0m\n\u001b[0m\u001b[1;32m     22\u001b[0m         \u001b[0;32melse\u001b[0m\u001b[0;34m:\u001b[0m\u001b[0;34m\u001b[0m\u001b[0;34m\u001b[0m\u001b[0m\n\u001b[1;32m     23\u001b[0m             raise ValueError(\n",
            "\u001b[0;32m<ipython-input-52-aa8a5d49e205>\u001b[0m in \u001b[0;36magregar_ingrediente\u001b[0;34m(self, nueva_fruta)\u001b[0m\n\u001b[1;32m     28\u001b[0m         \u001b[0;31m# Código Aquí\u001b[0m\u001b[0;34m\u001b[0m\u001b[0;34m\u001b[0m\u001b[0;34m\u001b[0m\u001b[0m\n\u001b[1;32m     29\u001b[0m         \u001b[0;32mif\u001b[0m \u001b[0;32mnot\u001b[0m \u001b[0misinstance\u001b[0m\u001b[0;34m(\u001b[0m\u001b[0mnueva_fruta\u001b[0m\u001b[0;34m,\u001b[0m \u001b[0mDict\u001b[0m\u001b[0;34m)\u001b[0m\u001b[0;34m:\u001b[0m\u001b[0;34m\u001b[0m\u001b[0;34m\u001b[0m\u001b[0m\n\u001b[0;32m---> 30\u001b[0;31m             \u001b[0;32mraise\u001b[0m \u001b[0mTypeError\u001b[0m\u001b[0;34m(\u001b[0m\u001b[0;34mf\"fruta {str(nueva_fruta)} no es diccionario\"\u001b[0m\u001b[0;34m)\u001b[0m\u001b[0;34m\u001b[0m\u001b[0;34m\u001b[0m\u001b[0m\n\u001b[0m\u001b[1;32m     31\u001b[0m         \u001b[0;32mfor\u001b[0m \u001b[0mcaract\u001b[0m \u001b[0;32min\u001b[0m \u001b[0;34m[\u001b[0m\u001b[0;34m'nombre'\u001b[0m\u001b[0;34m,\u001b[0m \u001b[0;34m'tipo'\u001b[0m\u001b[0;34m,\u001b[0m \u001b[0;34m'color'\u001b[0m\u001b[0;34m,\u001b[0m \u001b[0;34m'pepas'\u001b[0m\u001b[0;34m]\u001b[0m\u001b[0;34m:\u001b[0m\u001b[0;34m\u001b[0m\u001b[0;34m\u001b[0m\u001b[0m\n\u001b[1;32m     32\u001b[0m                     \u001b[0;32mif\u001b[0m \u001b[0mcaract\u001b[0m \u001b[0;32mnot\u001b[0m \u001b[0;32min\u001b[0m \u001b[0mnueva_fruta\u001b[0m\u001b[0;34m:\u001b[0m\u001b[0;34m\u001b[0m\u001b[0;34m\u001b[0m\u001b[0m\n",
            "\u001b[0;31mTypeError\u001b[0m: fruta naranja no es diccionario"
          ]
        }
      ],
      "id": "5xDkf2ZMvFii"
    },
    {
      "cell_type": "code",
      "metadata": {
        "tags": [],
        "deepnote_to_be_reexecuted": true,
        "source_hash": "ecc3586",
        "execution_start": 1648775330207,
        "execution_millis": 25,
        "cell_id": "00043-eda8b414-d382-433c-9a79-1882742c239c",
        "deepnote_cell_type": "code",
        "deepnote_cell_height": 180.1875,
        "colab": {
          "base_uri": "https://localhost:8080/",
          "height": 345
        },
        "id": "EfjeuE2fvFii",
        "outputId": "b0ef179d-7752-45af-e8e6-675671d00b82"
      },
      "source": [
        "# Agregamos algunos ingredientes \n",
        "# (en este caso debería fallar, ya que arándando tiene solo la llave nombre)\n",
        "jugera_2.bandeja = [{'nombre': 'arándano'}, platano, frutilla]"
      ],
      "execution_count": null,
      "outputs": [
        {
          "output_type": "error",
          "ename": "ValueError",
          "evalue": "ignored",
          "traceback": [
            "\u001b[0;31m---------------------------------------------------------------------------\u001b[0m",
            "\u001b[0;31mValueError\u001b[0m                                Traceback (most recent call last)",
            "\u001b[0;32m<ipython-input-59-4b28cdf8df59>\u001b[0m in \u001b[0;36m<module>\u001b[0;34m()\u001b[0m\n\u001b[1;32m      1\u001b[0m \u001b[0;31m# Agregamos algunos ingredientes\u001b[0m\u001b[0;34m\u001b[0m\u001b[0;34m\u001b[0m\u001b[0;34m\u001b[0m\u001b[0m\n\u001b[1;32m      2\u001b[0m \u001b[0;31m# (en este caso debería fallar, ya que arándando tiene solo la llave nombre)\u001b[0m\u001b[0;34m\u001b[0m\u001b[0;34m\u001b[0m\u001b[0;34m\u001b[0m\u001b[0m\n\u001b[0;32m----> 3\u001b[0;31m \u001b[0mjugera_2\u001b[0m\u001b[0;34m.\u001b[0m\u001b[0mbandeja\u001b[0m \u001b[0;34m=\u001b[0m \u001b[0;34m[\u001b[0m\u001b[0;34m{\u001b[0m\u001b[0;34m'nombre'\u001b[0m\u001b[0;34m:\u001b[0m \u001b[0;34m'arándano'\u001b[0m\u001b[0;34m}\u001b[0m\u001b[0;34m,\u001b[0m \u001b[0mplatano\u001b[0m\u001b[0;34m,\u001b[0m \u001b[0mfrutilla\u001b[0m\u001b[0;34m]\u001b[0m\u001b[0;34m\u001b[0m\u001b[0;34m\u001b[0m\u001b[0m\n\u001b[0m",
            "\u001b[0;32m<ipython-input-52-aa8a5d49e205>\u001b[0m in \u001b[0;36mbandeja\u001b[0;34m(self, nueva_bandeja)\u001b[0m\n\u001b[1;32m     19\u001b[0m         \u001b[0;32mif\u001b[0m \u001b[0mlen\u001b[0m\u001b[0;34m(\u001b[0m\u001b[0mnueva_bandeja\u001b[0m\u001b[0;34m)\u001b[0m\u001b[0;34m<=\u001b[0m\u001b[0;36m3\u001b[0m\u001b[0;34m:\u001b[0m\u001b[0;34m\u001b[0m\u001b[0;34m\u001b[0m\u001b[0m\n\u001b[1;32m     20\u001b[0m             \u001b[0;32mfor\u001b[0m \u001b[0mfruta\u001b[0m \u001b[0;32min\u001b[0m \u001b[0mnueva_bandeja\u001b[0m\u001b[0;34m:\u001b[0m\u001b[0;34m\u001b[0m\u001b[0;34m\u001b[0m\u001b[0m\n\u001b[0;32m---> 21\u001b[0;31m               \u001b[0mself\u001b[0m\u001b[0;34m.\u001b[0m\u001b[0magregar_ingrediente\u001b[0m\u001b[0;34m(\u001b[0m\u001b[0mfruta\u001b[0m\u001b[0;34m)\u001b[0m\u001b[0;34m\u001b[0m\u001b[0;34m\u001b[0m\u001b[0m\n\u001b[0m\u001b[1;32m     22\u001b[0m         \u001b[0;32melse\u001b[0m\u001b[0;34m:\u001b[0m\u001b[0;34m\u001b[0m\u001b[0;34m\u001b[0m\u001b[0m\n\u001b[1;32m     23\u001b[0m             raise ValueError(\n",
            "\u001b[0;32m<ipython-input-52-aa8a5d49e205>\u001b[0m in \u001b[0;36magregar_ingrediente\u001b[0;34m(self, nueva_fruta)\u001b[0m\n\u001b[1;32m     31\u001b[0m         \u001b[0;32mfor\u001b[0m \u001b[0mcaract\u001b[0m \u001b[0;32min\u001b[0m \u001b[0;34m[\u001b[0m\u001b[0;34m'nombre'\u001b[0m\u001b[0;34m,\u001b[0m \u001b[0;34m'tipo'\u001b[0m\u001b[0;34m,\u001b[0m \u001b[0;34m'color'\u001b[0m\u001b[0;34m,\u001b[0m \u001b[0;34m'pepas'\u001b[0m\u001b[0;34m]\u001b[0m\u001b[0;34m:\u001b[0m\u001b[0;34m\u001b[0m\u001b[0;34m\u001b[0m\u001b[0m\n\u001b[1;32m     32\u001b[0m                     \u001b[0;32mif\u001b[0m \u001b[0mcaract\u001b[0m \u001b[0;32mnot\u001b[0m \u001b[0;32min\u001b[0m \u001b[0mnueva_fruta\u001b[0m\u001b[0;34m:\u001b[0m\u001b[0;34m\u001b[0m\u001b[0;34m\u001b[0m\u001b[0m\n\u001b[0;32m---> 33\u001b[0;31m                         \u001b[0;32mraise\u001b[0m \u001b[0mValueError\u001b[0m\u001b[0;34m(\u001b[0m\u001b[0;34m\"falta una llave en la fruta entregada\"\u001b[0m\u001b[0;34m)\u001b[0m\u001b[0;34m\u001b[0m\u001b[0;34m\u001b[0m\u001b[0m\n\u001b[0m\u001b[1;32m     34\u001b[0m         \u001b[0;32mif\u001b[0m \u001b[0mlen\u001b[0m\u001b[0;34m(\u001b[0m\u001b[0mself\u001b[0m\u001b[0;34m.\u001b[0m\u001b[0m_bandeja\u001b[0m\u001b[0;34m)\u001b[0m\u001b[0;34m<\u001b[0m\u001b[0;36m3\u001b[0m\u001b[0;34m:\u001b[0m\u001b[0;34m\u001b[0m\u001b[0;34m\u001b[0m\u001b[0m\n\u001b[1;32m     35\u001b[0m             \u001b[0mself\u001b[0m\u001b[0;34m.\u001b[0m\u001b[0mbandeja\u001b[0m\u001b[0;34m.\u001b[0m\u001b[0mappend\u001b[0m\u001b[0;34m(\u001b[0m\u001b[0mnueva_fruta\u001b[0m\u001b[0;34m)\u001b[0m\u001b[0;34m\u001b[0m\u001b[0;34m\u001b[0m\u001b[0m\n",
            "\u001b[0;31mValueError\u001b[0m: falta una llave en la fruta entregada"
          ]
        }
      ],
      "id": "EfjeuE2fvFii"
    },
    {
      "cell_type": "code",
      "metadata": {
        "tags": [],
        "deepnote_to_be_reexecuted": true,
        "source_hash": "b2bcbf",
        "execution_start": 1648775331250,
        "execution_millis": 5,
        "cell_id": "00044-d301b297-feb0-492f-a8f8-e46a1fe8c8ac",
        "deepnote_cell_type": "code",
        "deepnote_cell_height": 184.1875,
        "colab": {
          "base_uri": "https://localhost:8080/"
        },
        "id": "eS3OOEUQvFij",
        "outputId": "832fc4cc-83f1-45ba-c5be-6f4e4bfb5b8f"
      },
      "source": [
        "# Agregamos algunos ingredientes (en este caso, como son 3, debería funcionar)\n",
        "jugera_2.bandeja = [naranja, platano, frutilla]\n",
        "\n",
        "# Y los listamos (debería imprimir: 'Ingredientes en la bandeja: naranja, plátano')\n",
        "jugera_2.listar_ingredientes()"
      ],
      "execution_count": null,
      "outputs": [
        {
          "output_type": "stream",
          "name": "stdout",
          "text": [
            "Ingredientes en la bandeja: naranja, plátano, frutilla\n"
          ]
        }
      ],
      "id": "eS3OOEUQvFij"
    },
    {
      "cell_type": "code",
      "metadata": {
        "tags": [],
        "deepnote_to_be_reexecuted": true,
        "source_hash": "a9d685c1",
        "execution_start": 1648775332754,
        "execution_millis": 52,
        "cell_id": "00045-b91392f5-b9fa-46c9-a00a-fa96e49947ae",
        "deepnote_cell_type": "code",
        "deepnote_cell_height": 136.1875,
        "deepnote_output_heights": [
          21.1875
        ],
        "colab": {
          "base_uri": "https://localhost:8080/",
          "height": 53
        },
        "id": "kesJz-2GvFij",
        "outputId": "168a56f7-8b31-447a-a89e-9c778066f7b3"
      },
      "source": [
        "# Una vez preparado el jugo, debería vaciarse la bandeja (imprimir Bandeja vacía)\n",
        "jugera_2.preparar_jugo()"
      ],
      "execution_count": null,
      "outputs": [
        {
          "output_type": "stream",
          "name": "stdout",
          "text": [
            "Alerta ⚠️: El jugo puede contener restos de pepas.\n"
          ]
        },
        {
          "output_type": "execute_result",
          "data": {
            "text/plain": [
              "'Jugo de naranja, plátano, frutilla listo. 🏖️🥤 Que lo disfrutes!!! 🥤🏖️.'"
            ],
            "application/vnd.google.colaboratory.intrinsic+json": {
              "type": "string"
            }
          },
          "metadata": {},
          "execution_count": 61
        }
      ],
      "id": "kesJz-2GvFij"
    },
    {
      "cell_type": "markdown",
      "source": [
        "<a style='text-decoration:none;line-height:16px;display:flex;color:#5B5B62;padding:10px;justify-content:end;' href='https://deepnote.com?utm_source=created-in-deepnote-cell&projectId=a925457b-74bf-48bc-a625-deeeb3ac440c' target=\"_blank\">\n",
        "<img alt='Created in deepnote.com' style='display:inline;max-height:16px;margin:0px;margin-right:7.5px;' src='data:image/svg+xml;base64,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' > </img>\n",
        "Created in <span style='font-weight:600;margin-left:4px;'>Deepnote</span></a>"
      ],
      "metadata": {
        "tags": [],
        "created_in_deepnote_cell": true,
        "deepnote_cell_type": "markdown",
        "id": "85XJsEfgvFij"
      },
      "id": "85XJsEfgvFij"
    },
    {
      "cell_type": "code",
      "source": [
        ""
      ],
      "metadata": {
        "id": "uzpVhGMU00kp"
      },
      "id": "uzpVhGMU00kp",
      "execution_count": null,
      "outputs": []
    }
  ],
  "nbformat": 4,
  "nbformat_minor": 5,
  "metadata": {
    "kernelspec": {
      "display_name": "Python 3",
      "language": "python",
      "name": "python3"
    },
    "language_info": {
      "codemirror_mode": {
        "name": "ipython",
        "version": 3
      },
      "file_extension": ".py",
      "mimetype": "text/x-python",
      "name": "python",
      "nbconvert_exporter": "python",
      "pygments_lexer": "ipython3",
      "version": "3.8.3"
    },
    "colab": {
      "name": "Lab1_CI_NG.ipynb",
      "provenance": [],
      "collapsed_sections": []
    },
    "deepnote_notebook_id": "cfa15046-8255-49ab-93f0-9dc852ffad49",
    "deepnote": {},
    "deepnote_execution_queue": []
  }
}